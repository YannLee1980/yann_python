{
 "cells": [
  {
   "cell_type": "markdown",
   "metadata": {},
   "source": [
    "## 作业二：\n",
    "### 使用 requests 或 Selenium 模拟登录石墨文档 https://shimo.im"
   ]
  },
  {
   "cell_type": "code",
   "execution_count": 3,
   "metadata": {},
   "outputs": [],
   "source": [
    "from selenium import webdriver\n",
    "import time"
   ]
  },
  {
   "cell_type": "code",
   "execution_count": 4,
   "metadata": {},
   "outputs": [
    {
     "name": "stdout",
     "output_type": "stream",
     "text": [
      "[{'domain': '.shimo.im', 'httpOnly': False, 'name': 'sensorsdata2015session', 'path': '/', 'secure': False, 'value': '%7B%7D'}, {'domain': '.shimo.im', 'expiry': 7901047260, 'httpOnly': False, 'name': 'sensorsdata2015jssdkcross', 'path': '/', 'secure': False, 'value': '%7B%22distinct_id%22%3A%2217318b31837c71-093e91eb21253-31607402-1296000-17318b31838ea9%22%2C%22%24device_id%22%3A%2217318b31837c71-093e91eb21253-31607402-1296000-17318b31838ea9%22%2C%22props%22%3A%7B%22%24latest_traffic_source_type%22%3A%22%E7%9B%B4%E6%8E%A5%E6%B5%81%E9%87%8F%22%2C%22%24latest_referrer%22%3A%22%22%2C%22%24latest_referrer_host%22%3A%22%22%2C%22%24latest_search_keyword%22%3A%22%E6%9C%AA%E5%8F%96%E5%88%B0%E5%80%BC_%E7%9B%B4%E6%8E%A5%E6%89%93%E5%BC%80%22%7D%7D'}, {'domain': '.shimo.im', 'expiry': 1593878399, 'httpOnly': False, 'name': 'sajssdk_2015_cross_new_user', 'path': '/', 'secure': False, 'value': '1'}, {'domain': '.shimo.im', 'expiry': 1593850856, 'httpOnly': True, 'name': 'shimo_sid', 'path': '/', 'secure': False, 'value': 's%3AaivmrG42047HLAiu5KZxvuKzYkhVO6vj.LDsdmti%2BqDoguzkXUZlHeJzm2LM20QgliXGyUWucAVc'}, {'domain': '.shimo.im', 'httpOnly': False, 'name': 'anonymousUser', 'path': '/', 'secure': False, 'value': '-8124266321'}, {'domain': '.shimo.im', 'expiry': 1909380056, 'httpOnly': False, 'name': 'shimo_kong', 'path': '/', 'secure': False, 'value': '5'}, {'domain': '.shimo.im', 'expiry': 1625383260, 'httpOnly': False, 'name': 'Hm_lvt_aa63454d48fc9cc8b5bc33dbd7f35f69', 'path': '/', 'secure': False, 'value': '1593847260'}, {'domain': '.shimo.im', 'expiry': 1909380060, 'httpOnly': False, 'name': 'shimo_gatedlaunch', 'path': '/', 'secure': False, 'value': '1'}, {'domain': '.shimo.im', 'expiry': 1909220168, 'httpOnly': False, 'name': 'shimo_svc_edit', 'path': '/', 'secure': False, 'value': '763'}, {'domain': '.shimo.im', 'httpOnly': False, 'name': 'deviceIdGenerateTime', 'path': '/', 'secure': False, 'value': '1593847256560'}, {'domain': '.shimo.im', 'httpOnly': False, 'name': 'deviceId', 'path': '/', 'secure': False, 'value': 'a10f6871-c24b-4be9-8e72-1d658bc293aa'}, {'domain': '.shimo.im', 'httpOnly': False, 'name': 'Hm_lpvt_aa63454d48fc9cc8b5bc33dbd7f35f69', 'path': '/', 'secure': False, 'value': '1593847260'}, {'domain': 'shimo.im', 'httpOnly': False, 'name': '_csrf', 'path': '/', 'secure': False, 'value': 'goonhK9F2ZeLI4coyGgNpO07'}]\n"
     ]
    }
   ],
   "source": [
    "try:\n",
    "    #创建browser:\n",
    "    browser = webdriver.Chrome()\n",
    "    browser.get('https://shimo.im')\n",
    "    time.sleep(2)\n",
    "    \n",
    "    #定位登陆页面并‘点击’进入:\n",
    "    btm1 = browser.find_element_by_xpath('//*[@id=\"homepage-header\"]/nav/div[3]/a[2]/button')\n",
    "    btm1.click()\n",
    "    \n",
    "    #输入用户名和密码：\n",
    "    browser.find_element_by_xpath('//input[@type=\"text\"]').send_keys('18925993001')\n",
    "    browser.find_element_by_xpath('//input[@type=\"password\"]').send_keys('test1234')\n",
    "    time.sleep(2)\n",
    "    btm2 = browser.find_element_by_xpath('//button[contains(@type, \"black\")]')\n",
    "    btm2.click()\n",
    "    \n",
    "    #获得cookies：\n",
    "    cookies = browser.get_cookies()\n",
    "    print(cookies)\n",
    "    time.sleep(5)\n",
    "    \n",
    "    #保存登陆页面到文档：login.html:\n",
    "    with open('./login.html', 'w+') as f:\n",
    "        f.write(browser.page_source)\n",
    "        \n",
    "except Exception as e:\n",
    "    print(e)\n",
    "finally:\n",
    "    browser.close()"
   ]
  }
 ],
 "metadata": {
  "kernelspec": {
   "display_name": "Python 3",
   "language": "python",
   "name": "python3"
  },
  "language_info": {
   "codemirror_mode": {
    "name": "ipython",
    "version": 3
   },
   "file_extension": ".py",
   "mimetype": "text/x-python",
   "name": "python",
   "nbconvert_exporter": "python",
   "pygments_lexer": "ipython3",
   "version": "3.7.6"
  }
 },
 "nbformat": 4,
 "nbformat_minor": 4
}
