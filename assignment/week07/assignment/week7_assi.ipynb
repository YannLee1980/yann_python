{
 "cells": [
  {
   "cell_type": "code",
   "execution_count": 73,
   "metadata": {},
   "outputs": [],
   "source": [
    "class Animal(object):\n",
    "    '''\n",
    "    动物类，不可实例化。\n",
    "    '''\n",
    "    def __new__(cls, *args, **kwargs):\n",
    "        # 防止该类实例化，被实例化时报错：\n",
    "        if cls is Animal:\n",
    "            raise TypeError(\"Animal类不能被实例化。\")\n",
    "        return object.__new__(cls)\n",
    "    \n",
    "    def __init__(self, animaltype, bodytype, character):\n",
    "        #动物的类型（食肉、食素）：\n",
    "        self.animaltype = animaltype\n",
    "        \n",
    "        #动物的体形（'小型'，'中等'，'大型'）：    \n",
    "        self.bodytype = bodytype\n",
    "        \n",
    "        #动物的性格：\n",
    "        self.character = character\n",
    "        \n",
    "        #判断动物是否属于凶猛动物：\n",
    "        \n",
    "        #动物体形字典，用于比较：\n",
    "        dict_bodytype = {'小': 1,\n",
    "                         '中': 2,\n",
    "                         '大': 3}\n",
    "        #“体型 >= 中”并且是“食肉类型”则认为“凶猛”：\n",
    "        if dict_bodytype[self.bodytype] >= 2 and self.animaltype == '食肉':\n",
    "            self.is_fierce = True\n",
    "        else: \n",
    "            self.is_fierce = False\n",
    "        "
   ]
  },
  {
   "cell_type": "code",
   "execution_count": 74,
   "metadata": {},
   "outputs": [],
   "source": [
    "class Cat(Animal):\n",
    "    '''\n",
    "    猫类\n",
    "    '''\n",
    "    def __init__(self, name, animaltype, bodytype, character):\n",
    "        #初始化父类Animal：\n",
    "        super().__init__(animaltype, bodytype, character)\n",
    "        \n",
    "        #猫的名字：\n",
    "        self.name = name\n",
    "\n",
    "        #判断是否适合作为宠物(非凶猛动物并性格温顺，则认为适合作为宠物)：\n",
    "        if self.is_fierce == False and self.character == '温顺':\n",
    "            self.is_pet = True\n",
    "        else:\n",
    "            self.is_pet = False\n",
    "            \n",
    "    #猫叫声：\n",
    "    mew = '喵···喵···喵···'\n"
   ]
  },
  {
   "cell_type": "code",
   "execution_count": 75,
   "metadata": {},
   "outputs": [],
   "source": [
    "class Zoo(object):\n",
    "    '''\n",
    "    动物园类\n",
    "    '''\n",
    "    def __init__(self, name):\n",
    "        #动物园的名字：\n",
    "        self.name = name\n",
    "        \n",
    "        #动物园里的动物：\n",
    "        self._animals = []\n",
    "\n",
    "    #添加动物方法：\n",
    "    def add_animal(self, animal):\n",
    "        if self._animals:\n",
    "            for a in self._animals:\n",
    "                if animal is a:\n",
    "                    raise Exception('该动物已经在动物园里。')\n",
    "            self._animals.append(animal)\n",
    "        else:\n",
    "            self._animals.append(animal)\n",
    "    \n",
    "    #查看动物园里有什么动物：\n",
    "    @property\n",
    "    def animals(self):\n",
    "        for a in self._animals:\n",
    "            print(f'{a.__class__.__name__}: {a.name}, id: {id(a)}')"
   ]
  },
  {
   "cell_type": "code",
   "execution_count": 76,
   "metadata": {},
   "outputs": [],
   "source": [
    "#判断动物园是否有某这种动物：\n",
    "def getattr(zoo, animal):\n",
    "    if isinstance(zoo, Zoo):\n",
    "        for a in zoo._animals:\n",
    "            if animal == a.__class__.__name__:\n",
    "                return True\n",
    "        else:\n",
    "            return False\n",
    "    else:\n",
    "        print(f'{zoo}不是Zoo对象，请输入Zoo对象。')\n",
    "\n",
    "if __name__ == '__main__':\n",
    "    # 实例化动物园\n",
    "    z = Zoo('时间动物园')\n",
    "    # 实例化一只猫，属性包括名字、类型、体型、性格\n",
    "    cat1 = Cat('大花猫 1', '食肉', '小', '温顺')\n",
    "    # 增加一只猫到动物园\n",
    "    z.add_animal(cat1)\n",
    "    # 动物园是否有猫这种动物\n",
    "    have_cat = getattr(z, 'Cat')"
   ]
  },
  {
   "cell_type": "code",
   "execution_count": 77,
   "metadata": {},
   "outputs": [],
   "source": [
    "cat2 = Cat('花猫 2', '食肉', '小', '温顺')\n",
    "z.add_animal(cat2)"
   ]
  },
  {
   "cell_type": "code",
   "execution_count": 78,
   "metadata": {},
   "outputs": [
    {
     "name": "stdout",
     "output_type": "stream",
     "text": [
      "Cat: 大花猫 1, id: 4595168912\n",
      "Cat: 花猫 2, id: 4595289808\n"
     ]
    }
   ],
   "source": [
    "z.animals"
   ]
  },
  {
   "cell_type": "code",
   "execution_count": 85,
   "metadata": {},
   "outputs": [
    {
     "data": {
      "text/plain": [
       "False"
      ]
     },
     "execution_count": 85,
     "metadata": {},
     "output_type": "execute_result"
    }
   ],
   "source": [
    "getattr(z, 'Catd')"
   ]
  },
  {
   "cell_type": "code",
   "execution_count": 79,
   "metadata": {},
   "outputs": [
    {
     "data": {
      "text/plain": [
       "'喵···喵···喵···'"
      ]
     },
     "execution_count": 79,
     "metadata": {},
     "output_type": "execute_result"
    }
   ],
   "source": [
    "Cat.mew"
   ]
  },
  {
   "cell_type": "code",
   "execution_count": 80,
   "metadata": {},
   "outputs": [
    {
     "data": {
      "text/plain": [
       "'喵···喵···喵···'"
      ]
     },
     "execution_count": 80,
     "metadata": {},
     "output_type": "execute_result"
    }
   ],
   "source": [
    "cat1.mew"
   ]
  },
  {
   "cell_type": "code",
   "execution_count": 81,
   "metadata": {},
   "outputs": [
    {
     "data": {
      "text/plain": [
       "True"
      ]
     },
     "execution_count": 81,
     "metadata": {},
     "output_type": "execute_result"
    }
   ],
   "source": [
    "have_cat"
   ]
  },
  {
   "cell_type": "code",
   "execution_count": 82,
   "metadata": {},
   "outputs": [
    {
     "data": {
      "text/plain": [
       "(4595168912, 4595289808)"
      ]
     },
     "execution_count": 82,
     "metadata": {},
     "output_type": "execute_result"
    }
   ],
   "source": [
    "id(cat1), id(cat2)"
   ]
  },
  {
   "cell_type": "code",
   "execution_count": null,
   "metadata": {},
   "outputs": [],
   "source": []
  }
 ],
 "metadata": {
  "kernelspec": {
   "display_name": "Python 3",
   "language": "python",
   "name": "python3"
  },
  "language_info": {
   "codemirror_mode": {
    "name": "ipython",
    "version": 3
   },
   "file_extension": ".py",
   "mimetype": "text/x-python",
   "name": "python",
   "nbconvert_exporter": "python",
   "pygments_lexer": "ipython3",
   "version": "3.7.6"
  }
 },
 "nbformat": 4,
 "nbformat_minor": 4
}
