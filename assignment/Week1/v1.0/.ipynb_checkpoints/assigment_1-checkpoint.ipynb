{
 "cells": [
  {
   "cell_type": "markdown",
   "metadata": {},
   "source": [
    "## Python进阶训练营第一周作业1:\n",
    "### 爬取猫眼电影的前 10 个电影名称、电影类型和上映时间，并以 UTF-8 字符集保存到 csv 格式的文件中"
   ]
  },
  {
   "cell_type": "code",
   "execution_count": 1,
   "metadata": {},
   "outputs": [],
   "source": [
    "import requests\n",
    "from bs4 import BeautifulSoup\n",
    "import pandas as pd\n",
    "import lxml.etree\n",
    "import time"
   ]
  },
  {
   "cell_type": "code",
   "execution_count": 2,
   "metadata": {},
   "outputs": [],
   "source": [
    "USER_AGENT = \"Mozilla/5.0 (X11; Linux x86_64) AppleWebKit/535.24 (KHTML, like Gecko) Chrome/19.0.1055.1 Safari/535.24\"\n",
    "\n",
    "header = {'user-agent': USER_AGENT}\n",
    "\n",
    "url = 'https://maoyan.com/films?showType=3'"
   ]
  },
  {
   "cell_type": "code",
   "execution_count": 19,
   "metadata": {},
   "outputs": [],
   "source": [
    "# 在电影详细页爬取电影名等信息\n",
    "def get_film_info(url):\n",
    "    time.sleep(2)\n",
    "    header = {'user-agent': USER_AGENT}\n",
    "\n",
    "    resp = requests.get(url, headers=header) \n",
    "    print(resp.status_code)\n",
    "\n",
    "    soup = BeautifulSoup(resp.text, 'html.parser')\n",
    "\n",
    "    # xml化处理\n",
    "    selector = lxml.etree.HTML(resp.text)\n",
    "\n",
    "    # 电影名称\n",
    "    film_name = soup.find('div', attrs={'class': 'movie-brief-container'}).find('h1', attrs={'class': 'name'}).text\n",
    "    print(film_name)\n",
    "\n",
    "    # 电影类型\n",
    "    type_str = selector.xpath('//div[@class=\"movie-brief-container\"]/ul/li[1]/a/text()')\n",
    "    film_type = ''\n",
    "    for str in type_str:\n",
    "        film_type = film_type + ' ' + str\n",
    "    print(film_type)\n",
    "\n",
    "    # 上映时间\n",
    "    plan_time = selector.xpath('//div[@class=\"movie-brief-container\"]/ul/li[3]/text()')[0].strip()\n",
    "    print(plan_time)\n",
    "\n",
    "    return [film_name, film_type, plan_time]\n"
   ]
  },
  {
   "cell_type": "code",
   "execution_count": 20,
   "metadata": {},
   "outputs": [
    {
     "name": "stdout",
     "output_type": "stream",
     "text": [
      "链接https://maoyan.com/films?showType=3的状态码 200\n",
      "https://maoyan.com/films/1250952\n",
      "200\n",
      "天气之子\n",
      "  爱情   动画   奇幻 \n",
      "2019-11-01中国大陆上映\n",
      "https://maoyan.com/films/1218273\n",
      "200\n",
      "误杀\n",
      "  剧情   犯罪 \n",
      "2019-12-13中国大陆上映\n",
      "https://maoyan.com/films/344990\n",
      "200\n",
      "唐人街探案2\n",
      "  喜剧   动作   悬疑 \n",
      "2018-02-16中国大陆上映\n",
      "https://maoyan.com/films/1211270\n",
      "200\n",
      "哪吒之魔童降世\n",
      "  动画   喜剧   奇幻 \n",
      "2019-07-26中国大陆上映\n",
      "https://maoyan.com/films/1218029\n",
      "200\n",
      "少年的你\n",
      "  爱情   青春   剧情 \n",
      "2019-10-25中国大陆上映\n",
      "https://maoyan.com/films/1251639\n",
      "200\n",
      "毒液2\n",
      "  动作   科幻   惊悚   恐怖 \n",
      "2020-06-25美国上映\n",
      "https://maoyan.com/films/246061\n",
      "200\n",
      "哥斯拉2：怪兽之王\n",
      "  科幻   灾难   动作 \n",
      "2019-05-31中国大陆上映\n",
      "https://maoyan.com/films/344264\n",
      "200\n",
      "战狼2\n",
      "  动作   战争 \n",
      "2017-07-27中国大陆上映\n",
      "https://maoyan.com/films/343355\n",
      "200\n",
      "恐怖电影院2\n",
      "  恐怖   惊悚 \n",
      "2017-10-20中国大陆上映\n",
      "https://maoyan.com/films/248172\n",
      "200\n",
      "复仇者联盟4：终局之战\n",
      "  动作   冒险   奇幻 \n",
      "2019-04-24中国大陆上映\n"
     ]
    }
   ],
   "source": [
    "#提取页面前十部电影的详细页链接\n",
    "\n",
    "resp = requests.get(url, headers=header)\n",
    "\n",
    "print('链接https://maoyan.com/films?showType=3的状态码', resp.status_code)\n",
    "\n",
    "bs_info = BeautifulSoup(resp.text, 'html.parser')\n",
    "\n",
    "tags = bs_info.find_all('div', attrs={'class': 'movie-item film-channel'})\n",
    "\n",
    "movies = pd.DataFrame(columns=['Film_Name', 'Film_Type', 'Plan_Time'])\n",
    "counter = 0\n",
    "for a_tag in tags:\n",
    "    link = 'https://maoyan.com' + a_tag.find('a').get('href')\n",
    "    print(link)\n",
    "    info_list = get_film_info(link)\n",
    "    movies = movies.append({'Film_Name': info_list[0],\n",
    "                            'Film_Type': info_list[1],\n",
    "                            'Plan_Time': info_list[2]}, ignore_index=True)\n",
    "    counter += 1\n",
    "    if counter == 10 :\n",
    "        break\n",
    "\n",
    "movies.to_csv('./Movies_Info.csv', encoding='utf8')"
   ]
  },
  {
   "cell_type": "code",
   "execution_count": null,
   "metadata": {},
   "outputs": [],
   "source": []
  }
 ],
 "metadata": {
  "kernelspec": {
   "display_name": "Python 3",
   "language": "python",
   "name": "python3"
  },
  "language_info": {
   "codemirror_mode": {
    "name": "ipython",
    "version": 3
   },
   "file_extension": ".py",
   "mimetype": "text/x-python",
   "name": "python",
   "nbconvert_exporter": "python",
   "pygments_lexer": "ipython3",
   "version": "3.7.6"
  }
 },
 "nbformat": 4,
 "nbformat_minor": 4
}
