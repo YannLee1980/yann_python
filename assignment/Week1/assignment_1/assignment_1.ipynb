{
 "cells": [
  {
   "cell_type": "markdown",
   "metadata": {},
   "source": [
    "### 作业1.安装并使用 requests、bs4 库，爬取猫眼电影（）的前 10 个电影名称、电影类型和上映时间，并以 UTF-8 字符集保存到 csv 格式的文件中。"
   ]
  },
  {
   "cell_type": "code",
   "execution_count": 1,
   "metadata": {},
   "outputs": [],
   "source": [
    "import requests\n",
    "import pandas as pd\n",
    "import time\n",
    "from bs4 import BeautifulSoup\n",
    "from fake_useragent import UserAgent"
   ]
  },
  {
   "cell_type": "code",
   "execution_count": 2,
   "metadata": {},
   "outputs": [],
   "source": [
    "#随机生成UserAgent：\n",
    "ua = UserAgent(verify_ssl=False)\n",
    "\n",
    "headers = {'user-agent': ua.random}\n",
    "\n",
    "url = 'https://maoyan.com/films?showType=3'"
   ]
  },
  {
   "cell_type": "code",
   "execution_count": 3,
   "metadata": {},
   "outputs": [],
   "source": [
    "#获取页面：\n",
    "resp = requests.get(url, headers=headers)"
   ]
  },
  {
   "cell_type": "code",
   "execution_count": 4,
   "metadata": {},
   "outputs": [
    {
     "name": "stdout",
     "output_type": "stream",
     "text": [
      "状态：200\n"
     ]
    }
   ],
   "source": [
    "#显示返回状态：\n",
    "print(f'状态：{resp.status_code}')"
   ]
  },
  {
   "cell_type": "code",
   "execution_count": 5,
   "metadata": {},
   "outputs": [],
   "source": [
    "#创建BeautifulSoup对象：\n",
    "soup = BeautifulSoup(resp.text, 'html.parser')"
   ]
  },
  {
   "cell_type": "code",
   "execution_count": 6,
   "metadata": {},
   "outputs": [],
   "source": [
    "#提取详细信息：\n",
    "films = []\n",
    "#计数器：\n",
    "count = 0\n",
    "#找到电影栏目\n",
    "for tag in soup.find_all('div', attrs={'class': 'movie-item film-channel'}):\n",
    "    #只获取前10部电影：\n",
    "    count += 1\n",
    "    if count > 10:\n",
    "        break\n",
    "    #在每个栏目里获取详细信息：\n",
    "    details = tag.find_all('div', attrs={'class': 'movie-hover-title'})\n",
    "    film_name = details[0].find('span', attrs={'class': \"name\"}).text\n",
    "    film_type = details[1].text.split('\\n')[2].strip()\n",
    "    plan_time = details[3].text.split('\\n')[2].strip()\n",
    "    films.append({'film_name': film_name,\n",
    "                  'film_type': film_type,\n",
    "                  'plan_time': plan_time})"
   ]
  },
  {
   "cell_type": "code",
   "execution_count": 7,
   "metadata": {},
   "outputs": [
    {
     "data": {
      "text/html": [
       "<div>\n",
       "<style scoped>\n",
       "    .dataframe tbody tr th:only-of-type {\n",
       "        vertical-align: middle;\n",
       "    }\n",
       "\n",
       "    .dataframe tbody tr th {\n",
       "        vertical-align: top;\n",
       "    }\n",
       "\n",
       "    .dataframe thead th {\n",
       "        text-align: right;\n",
       "    }\n",
       "</style>\n",
       "<table border=\"1\" class=\"dataframe\">\n",
       "  <thead>\n",
       "    <tr style=\"text-align: right;\">\n",
       "      <th></th>\n",
       "      <th>电影名</th>\n",
       "      <th>类型</th>\n",
       "      <th>上映时间</th>\n",
       "    </tr>\n",
       "  </thead>\n",
       "  <tbody>\n",
       "    <tr>\n",
       "      <th>0</th>\n",
       "      <td>釜山行2：半岛</td>\n",
       "      <td>动作／惊悚</td>\n",
       "      <td>2020-08-12</td>\n",
       "    </tr>\n",
       "    <tr>\n",
       "      <th>1</th>\n",
       "      <td>唐人街探案2</td>\n",
       "      <td>喜剧／动作／悬疑</td>\n",
       "      <td>2018-02-16</td>\n",
       "    </tr>\n",
       "    <tr>\n",
       "      <th>2</th>\n",
       "      <td>天气之子</td>\n",
       "      <td>爱情／动画／奇幻</td>\n",
       "      <td>2019-11-01</td>\n",
       "    </tr>\n",
       "    <tr>\n",
       "      <th>3</th>\n",
       "      <td>第一次的离别</td>\n",
       "      <td>剧情／家庭</td>\n",
       "      <td>2020-07-20</td>\n",
       "    </tr>\n",
       "    <tr>\n",
       "      <th>4</th>\n",
       "      <td>误杀</td>\n",
       "      <td>剧情／犯罪</td>\n",
       "      <td>2020-07-20</td>\n",
       "    </tr>\n",
       "    <tr>\n",
       "      <th>5</th>\n",
       "      <td>釜山行</td>\n",
       "      <td>动作／惊悚／灾难</td>\n",
       "      <td>2016-05-13</td>\n",
       "    </tr>\n",
       "    <tr>\n",
       "      <th>6</th>\n",
       "      <td>我在世界城等你</td>\n",
       "      <td>短片</td>\n",
       "      <td>2016-05-16</td>\n",
       "    </tr>\n",
       "    <tr>\n",
       "      <th>7</th>\n",
       "      <td>少年的你</td>\n",
       "      <td>爱情／青春／剧情</td>\n",
       "      <td>2019-10-25</td>\n",
       "    </tr>\n",
       "    <tr>\n",
       "      <th>8</th>\n",
       "      <td>寻梦环游记</td>\n",
       "      <td>动画／冒险／家庭</td>\n",
       "      <td>2020-07-20</td>\n",
       "    </tr>\n",
       "    <tr>\n",
       "      <th>9</th>\n",
       "      <td>大话西游之大圣娶亲</td>\n",
       "      <td>喜剧／爱情／奇幻／古装</td>\n",
       "      <td>2020-07-24</td>\n",
       "    </tr>\n",
       "  </tbody>\n",
       "</table>\n",
       "</div>"
      ],
      "text/plain": [
       "         电影名           类型        上映时间\n",
       "0    釜山行2：半岛        动作／惊悚  2020-08-12\n",
       "1     唐人街探案2     喜剧／动作／悬疑  2018-02-16\n",
       "2       天气之子     爱情／动画／奇幻  2019-11-01\n",
       "3     第一次的离别        剧情／家庭  2020-07-20\n",
       "4         误杀        剧情／犯罪  2020-07-20\n",
       "5        釜山行     动作／惊悚／灾难  2016-05-13\n",
       "6    我在世界城等你           短片  2016-05-16\n",
       "7       少年的你     爱情／青春／剧情  2019-10-25\n",
       "8      寻梦环游记     动画／冒险／家庭  2020-07-20\n",
       "9  大话西游之大圣娶亲  喜剧／爱情／奇幻／古装  2020-07-24"
      ]
     },
     "execution_count": 7,
     "metadata": {},
     "output_type": "execute_result"
    }
   ],
   "source": [
    "#用获取的数据创建dataframe：\n",
    "df = pd.DataFrame(films)\n",
    "df.columns = ['电影名', '类型', '上映时间']\n",
    "df"
   ]
  },
  {
   "cell_type": "code",
   "execution_count": 8,
   "metadata": {},
   "outputs": [],
   "source": [
    "#用.csv文件保存结果：\n",
    "df.to_csv('Movies_Info.csv', encoding='utf8', index=False)"
   ]
  },
  {
   "cell_type": "code",
   "execution_count": null,
   "metadata": {},
   "outputs": [],
   "source": []
  }
 ],
 "metadata": {
  "kernelspec": {
   "display_name": "Python 3",
   "language": "python",
   "name": "python3"
  },
  "language_info": {
   "codemirror_mode": {
    "name": "ipython",
    "version": 3
   },
   "file_extension": ".py",
   "mimetype": "text/x-python",
   "name": "python",
   "nbconvert_exporter": "python",
   "pygments_lexer": "ipython3",
   "version": "3.7.6"
  }
 },
 "nbformat": 4,
 "nbformat_minor": 4
}
