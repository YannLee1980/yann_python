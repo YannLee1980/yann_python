{
 "cells": [
  {
   "cell_type": "markdown",
   "metadata": {},
   "source": [
    "### 作业三：实现一个 @timer 装饰器，记录函数的运行时间，注意需要考虑函数可能会接收不定长参数。"
   ]
  },
  {
   "cell_type": "markdown",
   "metadata": {},
   "source": [
    "### V1.0"
   ]
  },
  {
   "cell_type": "code",
   "execution_count": 45,
   "metadata": {},
   "outputs": [],
   "source": [
    "import time"
   ]
  },
  {
   "cell_type": "code",
   "execution_count": 46,
   "metadata": {},
   "outputs": [],
   "source": [
    "def timer(func):\n",
    "    def decorate(*args, **kwargs):\n",
    "        time_start = time.time()\n",
    "        func(*args, **kwargs)\n",
    "        time_end = time.time()\n",
    "        print(f'运行时间:{time_end - time_start}')\n",
    "    return decorate\n",
    "\n",
    "@timer\n",
    "def test(num, sleep=2):\n",
    "    if int(num) > 0:\n",
    "        result = 0\n",
    "        for i in range(int(num)):\n",
    "            result += i**i\n",
    "#         print(f'Result:{result}')\n",
    "    time.sleep(sleep)"
   ]
  },
  {
   "cell_type": "code",
   "execution_count": 47,
   "metadata": {},
   "outputs": [
    {
     "name": "stdout",
     "output_type": "stream",
     "text": [
      "运行时间:2.016611099243164\n"
     ]
    }
   ],
   "source": [
    "test(999)"
   ]
  },
  {
   "cell_type": "code",
   "execution_count": 49,
   "metadata": {},
   "outputs": [
    {
     "data": {
      "text/plain": [
       "'decorate'"
      ]
     },
     "execution_count": 49,
     "metadata": {},
     "output_type": "execute_result"
    }
   ],
   "source": [
    "test.__name__"
   ]
  },
  {
   "cell_type": "markdown",
   "metadata": {},
   "source": [
    "### V2.0"
   ]
  },
  {
   "cell_type": "code",
   "execution_count": 50,
   "metadata": {},
   "outputs": [
    {
     "name": "stdout",
     "output_type": "stream",
     "text": [
      "运行时间:3.022463321685791\n"
     ]
    }
   ],
   "source": [
    "# 作业三：\n",
    "# 实现一个 @timer 装饰器，记录函数的运行时间，注意需要考虑函数可能会接收不定长参数。\n",
    "\n",
    "import time\n",
    "from functools import wraps\n",
    "\n",
    "def timer(func):\n",
    "    @wraps(func)\n",
    "    def decorate(*args, **kwargs):\n",
    "        time_start = time.time()\n",
    "        ret = func(*args, **kwargs)\n",
    "        time_end = time.time()\n",
    "        print(f'运行时间:{time_end - time_start}')\n",
    "        return ret\n",
    "    return decorate\n",
    "\n",
    "#测试：\n",
    "\n",
    "@timer\n",
    "def test(num, sleep=2):\n",
    "    if int(num) > 0:\n",
    "        result = 0\n",
    "        for i in range(int(num)):\n",
    "            result += i**i\n",
    "#       print(f'Result:{result}')\n",
    "    time.sleep(sleep)\n",
    "\n",
    "test(999, sleep=3)"
   ]
  },
  {
   "cell_type": "code",
   "execution_count": 51,
   "metadata": {},
   "outputs": [
    {
     "data": {
      "text/plain": [
       "'test'"
      ]
     },
     "execution_count": 51,
     "metadata": {},
     "output_type": "execute_result"
    }
   ],
   "source": [
    "test.__name__"
   ]
  },
  {
   "cell_type": "code",
   "execution_count": null,
   "metadata": {},
   "outputs": [],
   "source": []
  }
 ],
 "metadata": {
  "kernelspec": {
   "display_name": "Python 3",
   "language": "python",
   "name": "python3"
  },
  "language_info": {
   "codemirror_mode": {
    "name": "ipython",
    "version": 3
   },
   "file_extension": ".py",
   "mimetype": "text/x-python",
   "name": "python",
   "nbconvert_exporter": "python",
   "pygments_lexer": "ipython3",
   "version": "3.7.6"
  }
 },
 "nbformat": 4,
 "nbformat_minor": 4
}
