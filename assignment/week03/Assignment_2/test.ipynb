{
 "cells": [
  {
   "cell_type": "code",
   "execution_count": 52,
   "metadata": {},
   "outputs": [],
   "source": [
    "import pandas as pd\n",
    "import matplotlib.pyplot as plt"
   ]
  },
  {
   "cell_type": "code",
   "execution_count": 2,
   "metadata": {},
   "outputs": [
    {
     "data": {
      "text/html": [
       "<div>\n",
       "<style scoped>\n",
       "    .dataframe tbody tr th:only-of-type {\n",
       "        vertical-align: middle;\n",
       "    }\n",
       "\n",
       "    .dataframe tbody tr th {\n",
       "        vertical-align: top;\n",
       "    }\n",
       "\n",
       "    .dataframe thead th {\n",
       "        text-align: right;\n",
       "    }\n",
       "</style>\n",
       "<table border=\"1\" class=\"dataframe\">\n",
       "  <thead>\n",
       "    <tr style=\"text-align: right;\">\n",
       "      <th></th>\n",
       "      <th>a</th>\n",
       "      <th>b</th>\n",
       "    </tr>\n",
       "  </thead>\n",
       "  <tbody>\n",
       "    <tr>\n",
       "      <th>0</th>\n",
       "      <td>dfha</td>\n",
       "      <td>78887</td>\n",
       "    </tr>\n",
       "    <tr>\n",
       "      <th>1</th>\n",
       "      <td>dkjfh</td>\n",
       "      <td>767</td>\n",
       "    </tr>\n",
       "  </tbody>\n",
       "</table>\n",
       "</div>"
      ],
      "text/plain": [
       "       a      b\n",
       "0   dfha  78887\n",
       "1  dkjfh    767"
      ]
     },
     "execution_count": 2,
     "metadata": {},
     "output_type": "execute_result"
    }
   ],
   "source": [
    "list = [{'a': 'dfha', 'b':78887},\n",
    "        {'a': 'dkjfh', 'b':767}]\n",
    "df = pd.DataFrame(list)\n",
    "df"
   ]
  },
  {
   "cell_type": "code",
   "execution_count": 3,
   "metadata": {},
   "outputs": [],
   "source": [
    "l = [{'position':'python', 'money': '25k-40k'},\n",
    "     {'position': 'c++/python', 'money': '20k-40k·13薪'},\n",
    "     {'position': 'python开发工程师', 'money': '15k-30k'}]"
   ]
  },
  {
   "cell_type": "code",
   "execution_count": 4,
   "metadata": {},
   "outputs": [
    {
     "data": {
      "text/html": [
       "<div>\n",
       "<style scoped>\n",
       "    .dataframe tbody tr th:only-of-type {\n",
       "        vertical-align: middle;\n",
       "    }\n",
       "\n",
       "    .dataframe tbody tr th {\n",
       "        vertical-align: top;\n",
       "    }\n",
       "\n",
       "    .dataframe thead th {\n",
       "        text-align: right;\n",
       "    }\n",
       "</style>\n",
       "<table border=\"1\" class=\"dataframe\">\n",
       "  <thead>\n",
       "    <tr style=\"text-align: right;\">\n",
       "      <th></th>\n",
       "      <th>position</th>\n",
       "      <th>money</th>\n",
       "    </tr>\n",
       "  </thead>\n",
       "  <tbody>\n",
       "    <tr>\n",
       "      <th>0</th>\n",
       "      <td>python</td>\n",
       "      <td>25k-40k</td>\n",
       "    </tr>\n",
       "    <tr>\n",
       "      <th>1</th>\n",
       "      <td>c++/python</td>\n",
       "      <td>20k-40k·13薪</td>\n",
       "    </tr>\n",
       "    <tr>\n",
       "      <th>2</th>\n",
       "      <td>python开发工程师</td>\n",
       "      <td>15k-30k</td>\n",
       "    </tr>\n",
       "  </tbody>\n",
       "</table>\n",
       "</div>"
      ],
      "text/plain": [
       "      position        money\n",
       "0       python      25k-40k\n",
       "1   c++/python  20k-40k·13薪\n",
       "2  python开发工程师      15k-30k"
      ]
     },
     "execution_count": 4,
     "metadata": {},
     "output_type": "execute_result"
    }
   ],
   "source": [
    "df = pd.DataFrame(l)\n",
    "df"
   ]
  },
  {
   "cell_type": "code",
   "execution_count": 5,
   "metadata": {},
   "outputs": [
    {
     "name": "stdout",
     "output_type": "stream",
     "text": [
      "[25] [40]\n",
      "[25, 21.7] [40, 43.3]\n",
      "[25, 21.7, 15] [40, 43.3, 30]\n"
     ]
    }
   ],
   "source": [
    "money_mins = []\n",
    "money_maxs = []\n",
    "for one_record in df['money']:\n",
    "    if '薪' in one_record:\n",
    "        months = int(one_record.split('·')[1].strip('薪'))\n",
    "        money_list = one_record.split('-')\n",
    "        money_min = int(money_list[0].strip('k')) * (months / 12)\n",
    "        money_max = int(money_list[1].split('·')[0].strip('k')) * (months / 12)\n",
    "        money_mins.append(round(money_min, 1))\n",
    "        money_maxs.append(round(money_max, 1))\n",
    "    else:\n",
    "        money_list = one_record.split('-')\n",
    "        money_min = int(money_list[0].strip('k'))\n",
    "        money_max = int(money_list[1].strip('k'))\n",
    "        money_mins.append(money_min)\n",
    "        money_maxs.append(money_max)\n",
    "    print(money_mins, money_maxs)"
   ]
  },
  {
   "cell_type": "code",
   "execution_count": 6,
   "metadata": {},
   "outputs": [],
   "source": [
    "df['money_min'] = money_mins\n",
    "df['money_max'] = money_maxs"
   ]
  },
  {
   "cell_type": "code",
   "execution_count": 7,
   "metadata": {},
   "outputs": [
    {
     "data": {
      "text/html": [
       "<div>\n",
       "<style scoped>\n",
       "    .dataframe tbody tr th:only-of-type {\n",
       "        vertical-align: middle;\n",
       "    }\n",
       "\n",
       "    .dataframe tbody tr th {\n",
       "        vertical-align: top;\n",
       "    }\n",
       "\n",
       "    .dataframe thead th {\n",
       "        text-align: right;\n",
       "    }\n",
       "</style>\n",
       "<table border=\"1\" class=\"dataframe\">\n",
       "  <thead>\n",
       "    <tr style=\"text-align: right;\">\n",
       "      <th></th>\n",
       "      <th>position</th>\n",
       "      <th>money</th>\n",
       "      <th>money_min</th>\n",
       "      <th>money_max</th>\n",
       "    </tr>\n",
       "  </thead>\n",
       "  <tbody>\n",
       "    <tr>\n",
       "      <th>0</th>\n",
       "      <td>python</td>\n",
       "      <td>25k-40k</td>\n",
       "      <td>25.0</td>\n",
       "      <td>40.0</td>\n",
       "    </tr>\n",
       "    <tr>\n",
       "      <th>1</th>\n",
       "      <td>c++/python</td>\n",
       "      <td>20k-40k·13薪</td>\n",
       "      <td>21.7</td>\n",
       "      <td>43.3</td>\n",
       "    </tr>\n",
       "    <tr>\n",
       "      <th>2</th>\n",
       "      <td>python开发工程师</td>\n",
       "      <td>15k-30k</td>\n",
       "      <td>15.0</td>\n",
       "      <td>30.0</td>\n",
       "    </tr>\n",
       "  </tbody>\n",
       "</table>\n",
       "</div>"
      ],
      "text/plain": [
       "      position        money  money_min  money_max\n",
       "0       python      25k-40k       25.0       40.0\n",
       "1   c++/python  20k-40k·13薪       21.7       43.3\n",
       "2  python开发工程师      15k-30k       15.0       30.0"
      ]
     },
     "execution_count": 7,
     "metadata": {},
     "output_type": "execute_result"
    }
   ],
   "source": [
    "df"
   ]
  },
  {
   "cell_type": "code",
   "execution_count": 8,
   "metadata": {},
   "outputs": [
    {
     "data": {
      "text/plain": [
       "20.566666666666666"
      ]
     },
     "execution_count": 8,
     "metadata": {},
     "output_type": "execute_result"
    }
   ],
   "source": [
    "df['money_min'].mean()"
   ]
  },
  {
   "cell_type": "code",
   "execution_count": 12,
   "metadata": {},
   "outputs": [
    {
     "data": {
      "text/plain": [
       "{'guangzhou': {'money_min_mean': 20.566666666666666,\n",
       "  'money_max_mean': 37.766666666666666}}"
      ]
     },
     "execution_count": 12,
     "metadata": {},
     "output_type": "execute_result"
    }
   ],
   "source": [
    "money_min_mean = df['money_min'].mean()\n",
    "money_max_mean = df['money_max'].mean()\n",
    "result = {'guangzhou': {'money_min_mean': money_min_mean,\n",
    "                    'money_max_mean': money_max_mean}}\n",
    "result"
   ]
  },
  {
   "cell_type": "code",
   "execution_count": null,
   "metadata": {},
   "outputs": [],
   "source": []
  },
  {
   "cell_type": "code",
   "execution_count": 48,
   "metadata": {},
   "outputs": [],
   "source": [
    "dict_list = [{'beijing': {'money_min_mean': 17.844, 'money_max_mean': 30.92533333333334}}, {'guangzhou': {'money_min_mean': 11.321212121212122, 'money_max_mean': 19.84090909090909}}, {'shanghai': {'money_min_mean': 15.27733333333333, 'money_max_mean': 27.104}}, {'shenzhen': {'money_min_mean': 13.715999999999998, 'money_max_mean': 23.43733333333333}}]"
   ]
  },
  {
   "cell_type": "code",
   "execution_count": 49,
   "metadata": {},
   "outputs": [
    {
     "data": {
      "text/plain": [
       "[{'beijing': {'money_min_mean': 17.844, 'money_max_mean': 30.92533333333334}},\n",
       " {'guangzhou': {'money_min_mean': 11.321212121212122,\n",
       "   'money_max_mean': 19.84090909090909}},\n",
       " {'shanghai': {'money_min_mean': 15.27733333333333, 'money_max_mean': 27.104}},\n",
       " {'shenzhen': {'money_min_mean': 13.715999999999998,\n",
       "   'money_max_mean': 23.43733333333333}}]"
      ]
     },
     "execution_count": 49,
     "metadata": {},
     "output_type": "execute_result"
    }
   ],
   "source": [
    "dict_list"
   ]
  },
  {
   "cell_type": "code",
   "execution_count": 25,
   "metadata": {},
   "outputs": [],
   "source": [
    "dict_list\n",
    "\n",
    "index = []\n",
    "data = []\n",
    "for d in dict_list:\n",
    "    for key , value in d.items():\n",
    "        index.append(key)\n",
    "        data.append(value)\n",
    "data"
   ]
  },
  {
   "cell_type": "code",
   "execution_count": 47,
   "metadata": {},
   "outputs": [
    {
     "data": {
      "text/html": [
       "<div>\n",
       "<style scoped>\n",
       "    .dataframe tbody tr th:only-of-type {\n",
       "        vertical-align: middle;\n",
       "    }\n",
       "\n",
       "    .dataframe tbody tr th {\n",
       "        vertical-align: top;\n",
       "    }\n",
       "\n",
       "    .dataframe thead th {\n",
       "        text-align: right;\n",
       "    }\n",
       "</style>\n",
       "<table border=\"1\" class=\"dataframe\">\n",
       "  <thead>\n",
       "    <tr style=\"text-align: right;\">\n",
       "      <th></th>\n",
       "      <th>money_min_mean</th>\n",
       "      <th>money_max_mean</th>\n",
       "    </tr>\n",
       "  </thead>\n",
       "  <tbody>\n",
       "    <tr>\n",
       "      <th>beijing</th>\n",
       "      <td>17.844000</td>\n",
       "      <td>30.925333</td>\n",
       "    </tr>\n",
       "    <tr>\n",
       "      <th>guangzhou</th>\n",
       "      <td>11.321212</td>\n",
       "      <td>19.840909</td>\n",
       "    </tr>\n",
       "    <tr>\n",
       "      <th>shanghai</th>\n",
       "      <td>15.277333</td>\n",
       "      <td>27.104000</td>\n",
       "    </tr>\n",
       "    <tr>\n",
       "      <th>shenzhen</th>\n",
       "      <td>13.716000</td>\n",
       "      <td>23.437333</td>\n",
       "    </tr>\n",
       "  </tbody>\n",
       "</table>\n",
       "</div>"
      ],
      "text/plain": [
       "           money_min_mean  money_max_mean\n",
       "beijing         17.844000       30.925333\n",
       "guangzhou       11.321212       19.840909\n",
       "shanghai        15.277333       27.104000\n",
       "shenzhen        13.716000       23.437333"
      ]
     },
     "execution_count": 47,
     "metadata": {},
     "output_type": "execute_result"
    }
   ],
   "source": [
    "df = pd.DataFrame(data, index=index)\n",
    "df"
   ]
  },
  {
   "cell_type": "code",
   "execution_count": 121,
   "metadata": {},
   "outputs": [
    {
     "name": "stderr",
     "output_type": "stream",
     "text": [
      "/Users/yannlee/anaconda3/lib/python3.7/site-packages/ipykernel_launcher.py:40: MatplotlibDeprecationWarning: Adding an axes using the same arguments as a previous axes currently reuses the earlier instance.  In a future version, a new instance will always be created and returned.  Meanwhile, this warning can be suppressed, and the future behavior ensured, by passing a unique label to each axes instance.\n"
     ]
    },
    {
     "data": {
      "image/png": "[encoded data removed]",
      "text/plain": [
       "<Figure size 576x432 with 1 Axes>"
      ]
     },
     "metadata": {
      "needs_background": "light"
     },
     "output_type": "display_data"
    }
   ],
   "source": [
    "fig = plt.figure(figsize=(8,6))\n",
    "#绘直方图：\n",
    "rects_min = plt.bar(df.index, \n",
    "                    df['money_min_mean'], \n",
    "                    width=0.65, \n",
    "                    color='red',\n",
    "                    alpha=0.3)\n",
    "rects_max = plt.bar(df.index, \n",
    "                    df['money_max_mean']-df['money_min_mean'], \n",
    "                    bottom=df['money_min_mean'],\n",
    "                    width=0.65,\n",
    "                    color='purple',\n",
    "                    alpha=0.75)\n",
    "\n",
    "#文本标注：\n",
    "for rect in rects_min:\n",
    "    height = rect.get_height()\n",
    "    plt.text(rect.get_x()+rect.get_width()/2, \n",
    "             height-1.5, \n",
    "             f'Min:{round(height, 1)}k',\n",
    "             ha='center',\n",
    "             va='bottom',\n",
    "             color='black',\n",
    "             alpha=0.65,\n",
    "             size=12)\n",
    "\n",
    "count = 0\n",
    "for rect in rects_max:\n",
    "    height = round(df['money_max_mean'][count], 1)\n",
    "    count += 1\n",
    "    plt.text(rect.get_x()+rect.get_width()/2,\n",
    "             height-1.5,\n",
    "             f'Max:{height}k',\n",
    "             ha='center',\n",
    "             color='yellow',\n",
    "             size=12)\n",
    "#设置标题：\n",
    "plt.title('Averge monthly income of Python engineers in four cities')\n",
    "\n",
    "ax = plt.axes()\n",
    "ax.spines['top'].set_visible(False)\n",
    "ax.spines['right'].set_visible(False)\n",
    "\n",
    "plt.show();"
   ]
  },
  {
   "cell_type": "code",
   "execution_count": 120,
   "metadata": {},
   "outputs": [
    {
     "data": {
      "image/png": "[encoded data removed]",
      "text/plain": [
       "<Figure size 432x288 with 1 Axes>"
      ]
     },
     "metadata": {
      "needs_background": "light"
     },
     "output_type": "display_data"
    }
   ],
   "source": [
    "ax = plt.axes()"
   ]
  },
  {
   "cell_type": "code",
   "execution_count": null,
   "metadata": {},
   "outputs": [],
   "source": [
    "ax.spines()"
   ]
  },
  {
   "cell_type": "code",
   "execution_count": null,
   "metadata": {},
   "outputs": [],
   "source": []
  },
  {
   "cell_type": "code",
   "execution_count": 61,
   "metadata": {},
   "outputs": [
    {
     "data": {
      "text/plain": [
       "['beijing', 'guangzhou', 'shanghai', 'shenzhen']"
      ]
     },
     "execution_count": 61,
     "metadata": {},
     "output_type": "execute_result"
    }
   ],
   "source": [
    "idn[i for i in df.index]"
   ]
  },
  {
   "cell_type": "code",
   "execution_count": 53,
   "metadata": {},
   "outputs": [
    {
     "data": {
      "text/plain": [
       "4"
      ]
     },
     "execution_count": 53,
     "metadata": {},
     "output_type": "execute_result"
    }
   ],
   "source": [
    "len(df)"
   ]
  },
  {
   "cell_type": "code",
   "execution_count": 91,
   "metadata": {},
   "outputs": [
    {
     "data": {
      "text/plain": [
       "30.92533333333334"
      ]
     },
     "execution_count": 91,
     "metadata": {},
     "output_type": "execute_result"
    }
   ],
   "source": [
    "df['money_max_mean'][0]"
   ]
  },
  {
   "cell_type": "code",
   "execution_count": 117,
   "metadata": {},
   "outputs": [],
   "source": [
    "#测试无效url在requests.get()时的反馈\n",
    "import requests"
   ]
  },
  {
   "cell_type": "code",
   "execution_count": 119,
   "metadata": {},
   "outputs": [
    {
     "data": {
      "text/plain": [
       "'\\n<!DOCTYPE html>\\n<html lang=\"en\">\\n<head>\\n\\t<meta charset=\"UTF-8\">\\n\\t<title>Document</title>\\n\\t<style>\\n\\t\\t* {\\n\\t\\t\\tmargin: 0;\\n\\t\\t\\tpadding: 0;\\n\\t\\t}\\n\\t\\tbody {\\n\\t\\t\\tfont-family: \"Hiragino Sans GB\", \"Microsoft Yahei\", \"SimSun\", Arial, \"Helvetica Neue\", Helvetica;\\n\\t\\t\\tbackground: #f8f9fc;\\t\\t\\t\\n\\t\\t}\\n\\t\\t.i_error {\\n\\t\\t\\tposition: relative;\\n\\t\\t\\t/*width: 654px;*/\\n\\t\\t\\twidth: 34.0625%;\\n\\t\\t\\t/*height: 467px;*/\\n\\t\\t\\tmargin: 67px auto 0;\\t\\n\\t\\t\\t/*background: url(/lagouhtml/blocked_404.png) 0 0 no-repeat;*/\\n\\t\\t}\\n\\t\\t.i_logo {\\n\\t\\t\\tposition: absolute;\\n\\t\\t\\t/*top: 116px;*/\\n\\t\\t\\ttop: 24.8394%;\\n\\t\\t\\t/*left: 68px;*/\\n\\t\\t\\tleft: 9.785933%;\\n\\t\\t\\t/*width: 110px;*/\\n\\t\\t\\twidth: 16.819572%;\\n\\t\\t\\t/*height: 41px;*/\\n\\t\\t\\t/*background: url(/lagouhtml/lagou_logo.png) 0 0 no-repeat;*/\\n\\t\\t}\\n\\t\\t.tip {\\n\\t\\t\\tmargin-top: 49px;\\n\\t\\t\\tfont-size: 20px;\\n\\t\\t\\tline-height: 20px;\\n\\t\\t\\ttext-align: center;\\n\\t\\t\\tcolor: #333;\\n\\t\\t}\\n\\t\\t.msg {\\n\\t\\t\\tmargin-top: 15px;\\n\\t\\t\\ttext-align: center;\\n\\t\\t\\tfont-size: 16px;\\n\\t\\t\\tline-height: 16px;\\n\\t\\t\\tcolor: #777;\\n\\t\\t}\\n\\t\\t.qq {\\n\\t\\t\\tmargin-top: 15px;\\n\\t\\t\\tfont-size: 18px;\\n\\t\\t\\ttext-align: center;\\n\\t\\t}\\n\\t\\t.qq a {\\n\\t\\t\\tdisplay: inline-block;\\n\\t\\t\\twidth: 100px;\\n\\t\\t\\theight: 30px;\\n\\t\\t\\tborder-radius: 2px;\\n\\t\\t\\tline-height: 30px;\\n\\t\\t\\ttext-decoration: none;\\n\\t\\t\\tcolor: #fff;\\n\\t\\t\\tbackground: #00b38a;\\n\\t\\t}\\n\\t</style>\\n\\t<script type=\"text/javascript\" src=\"https://cdnjs.cloudflare.com/ajax/libs/jquery/3.0.0/jquery.min.js\"></script>\\n</head>\\n<body>\\n\\t<div class=\"i_error\">\\n\\t\\t<img src=\"/lagouhtml/blocked_404.png\" alt=\"404\" width=\"100%\">\\n\\t\\t<div class=\"i_logo\"><img src=\"/lagouhtml/lagou_logo.png\" alt=\"logo\" width=\"100%\"></div>\\n\\t</div>\\t\\n\\t<div class=\"tip\">å½\\x93å\\x89\\x8dè¯·æ±\\x82å\\xad\\x98å\\x9c¨æ\\x81¶æ\\x84\\x8fè¡\\x8cä¸ºå·²è¢«ç³»ç»\\x9fæ\\x8b¦æ\\x88ªï¼\\x8cæ\\x82¨ç\\x9a\\x84æ\\x89\\x80æ\\x9c\\x89æ\\x93\\x8dä½\\x9cè®°å½\\x95å°\\x86è¢«ç³»ç»\\x9fè®°å½\\x95ï¼\\x81</div>\\n</body>\\n</html>'"
      ]
     },
     "execution_count": 119,
     "metadata": {},
     "output_type": "execute_result"
    }
   ],
   "source": [
    "url = 'https://www.lagou.com/guangzhou-zhaopin/Python/6'\n",
    "resp = requests.get(url, timeout=0.3)\n",
    "resp.text"
   ]
  },
  {
   "cell_type": "code",
   "execution_count": null,
   "metadata": {},
   "outputs": [],
   "source": []
  }
 ],
 "metadata": {
  "kernelspec": {
   "display_name": "Python 3",
   "language": "python",
   "name": "python3"
  },
  "language_info": {
   "codemirror_mode": {
    "name": "ipython",
    "version": 3
   },
   "file_extension": ".py",
   "mimetype": "text/x-python",
   "name": "python",
   "nbconvert_exporter": "python",
   "pygments_lexer": "ipython3",
   "version": "3.7.6"
  }
 },
 "nbformat": 4,
 "nbformat_minor": 4
}
