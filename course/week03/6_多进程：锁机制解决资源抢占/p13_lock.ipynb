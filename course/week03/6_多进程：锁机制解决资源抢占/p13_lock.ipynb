{
 "cells": [
  {
   "cell_type": "markdown",
   "metadata": {},
   "source": [
    "### 加进程锁\n",
    "##### 为了解决不同进程抢共享资源的问题，我们可以用加进程锁来解决。"
   ]
  },
  {
   "cell_type": "code",
   "execution_count": 4,
   "metadata": {},
   "outputs": [],
   "source": [
    "from multiprocessing import Process, Value, Lock\n",
    "import time"
   ]
  },
  {
   "cell_type": "code",
   "execution_count": 5,
   "metadata": {},
   "outputs": [],
   "source": [
    "def f(v, num, lock):\n",
    "    lock.acquire()\n",
    "    for _ in range(5):\n",
    "        time.sleep(0.1)\n",
    "        v.value += num\n",
    "        print(v.value, end='|')\n",
    "    lock.release()"
   ]
  },
  {
   "cell_type": "code",
   "execution_count": 17,
   "metadata": {},
   "outputs": [],
   "source": [
    "def multicore():\n",
    "    l = Lock()\n",
    "    v = Value('i', 0)\n",
    "    p1 = Process(target=f, args=(v, 3, l))\n",
    "    p2 = Process(target=f, args=(v, 1, l))\n",
    "    p1.start()\n",
    "    p2.start()\n",
    "    p1.join()\n",
    "    p2.join()"
   ]
  },
  {
   "cell_type": "code",
   "execution_count": 18,
   "metadata": {},
   "outputs": [
    {
     "name": "stdout",
     "output_type": "stream",
     "text": [
      "3|6|9|12|15|16|17|18|19|20|"
     ]
    }
   ],
   "source": [
    "if __name__ == '__main__':\n",
    "    multicore()"
   ]
  },
  {
   "cell_type": "code",
   "execution_count": null,
   "metadata": {},
   "outputs": [],
   "source": []
  },
  {
   "cell_type": "code",
   "execution_count": null,
   "metadata": {},
   "outputs": [],
   "source": []
  }
 ],
 "metadata": {
  "kernelspec": {
   "display_name": "Python 3",
   "language": "python",
   "name": "python3"
  },
  "language_info": {
   "codemirror_mode": {
    "name": "ipython",
    "version": 3
   },
   "file_extension": ".py",
   "mimetype": "text/x-python",
   "name": "python",
   "nbconvert_exporter": "python",
   "pygments_lexer": "ipython3",
   "version": "3.7.6"
  }
 },
 "nbformat": 4,
 "nbformat_minor": 4
}
