{
 "cells": [
  {
   "cell_type": "markdown",
   "metadata": {},
   "source": [
    "### 进程锁Lock\n",
    "##### 不加进程锁,让我们看看没有加进程锁时会产生什么样的结果。"
   ]
  },
  {
   "cell_type": "code",
   "execution_count": 2,
   "metadata": {},
   "outputs": [],
   "source": [
    "from multiprocessing import Process, Value\n",
    "import time"
   ]
  },
  {
   "cell_type": "code",
   "execution_count": 7,
   "metadata": {},
   "outputs": [
    {
     "name": "stdout",
     "output_type": "stream",
     "text": [
      "1|5|9|13|17|4|8|12|16|20|"
     ]
    }
   ],
   "source": [
    "def f(v, num):\n",
    "    for _ in range(5):\n",
    "        time.sleep(0.1)\n",
    "        v.value += num\n",
    "        print(v.value, end='|')\n",
    "\n",
    "if __name__ == '__main__':\n",
    "    v = Value('i', 0)\n",
    "    p1 = Process(target=f, args=(v, 1))\n",
    "    p2 = Process(target=f, args=(v, 3))\n",
    "    p1.start()\n",
    "    p2.start()\n",
    "    p1.join()\n",
    "    p2.join()"
   ]
  },
  {
   "cell_type": "markdown",
   "metadata": {},
   "source": [
    "* 在上面的代码中，我们定义了一个共享变量v，两个进程都可以对它进行操作。 \n",
    "* 在job()中我们想让v每隔0.1秒输出一次累加num的结果，\n",
    "* 但是在两个进程p1和p2 中设定了不同的累加值。\n",
    "* 所以接下来让我们来看下这两个进程是否会出现冲突。\n",
    "* 结论：进程1和进程2在相互抢着使用共享内存v。"
   ]
  },
  {
   "cell_type": "code",
   "execution_count": null,
   "metadata": {},
   "outputs": [],
   "source": []
  }
 ],
 "metadata": {
  "kernelspec": {
   "display_name": "Python 3",
   "language": "python",
   "name": "python3"
  },
  "language_info": {
   "codemirror_mode": {
    "name": "ipython",
    "version": 3
   },
   "file_extension": ".py",
   "mimetype": "text/x-python",
   "name": "python",
   "nbconvert_exporter": "python",
   "pygments_lexer": "ipython3",
   "version": "3.7.6"
  }
 },
 "nbformat": 4,
 "nbformat_minor": 4
}
