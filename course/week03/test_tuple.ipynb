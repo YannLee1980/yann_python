{
 "cells": [
  {
   "cell_type": "code",
   "execution_count": 20,
   "metadata": {},
   "outputs": [],
   "source": [
    "cities = ['beijing', 'shanhai', 'guangzhou', 'shenzhen']\n",
    "urls = [f'www.lagou.com/{city}-zhaopin/Python/' for city in cities]\n",
    "url_file = zip(urls, cities)"
   ]
  },
  {
   "cell_type": "code",
   "execution_count": 21,
   "metadata": {},
   "outputs": [
    {
     "data": {
      "text/plain": [
       "[('www.lagou.com/beijing-zhaopin/Python/', 'beijing'),\n",
       " ('www.lagou.com/shanhai-zhaopin/Python/', 'shanhai'),\n",
       " ('www.lagou.com/guangzhou-zhaopin/Python/', 'guangzhou'),\n",
       " ('www.lagou.com/shenzhen-zhaopin/Python/', 'shenzhen')]"
      ]
     },
     "execution_count": 21,
     "metadata": {},
     "output_type": "execute_result"
    }
   ],
   "source": [
    "list(url_file)"
   ]
  },
  {
   "cell_type": "code",
   "execution_count": 22,
   "metadata": {},
   "outputs": [],
   "source": [
    "from multiprocessing.pool import Pool"
   ]
  },
  {
   "cell_type": "code",
   "execution_count": 41,
   "metadata": {},
   "outputs": [],
   "source": [
    "def worker(args):\n",
    "    print(args[0] , '+', args[1])"
   ]
  },
  {
   "cell_type": "code",
   "execution_count": 44,
   "metadata": {},
   "outputs": [
    {
     "name": "stdout",
     "output_type": "stream",
     "text": [
      "www.lagou.com/guangzhou-zhaopin/Python/ + guangzhou\n",
      "www.lagou.com/beijing-zhaopin/Python/ + beijing\n",
      "www.lagou.com/shanhai-zhaopin/Python/ + shanhai\n",
      "www.lagou.com/shenzhen-zhaopin/Python/ + shenzhen\n",
      "exit\n"
     ]
    }
   ],
   "source": [
    "cities = ['beijing', 'shanhai', 'guangzhou', 'shenzhen']\n",
    "urls = [f'www.lagou.com/{city}-zhaopin/Python/' for city in cities]\n",
    "args_list = list(zip(urls, cities))\n",
    "with Pool(processes=4) as pool:\n",
    "    pool.map(worker, args_list)\n",
    "print('exit')"
   ]
  },
  {
   "cell_type": "code",
   "execution_count": 29,
   "metadata": {},
   "outputs": [],
   "source": [
    "p = Pool(4)"
   ]
  },
  {
   "cell_type": "code",
   "execution_count": null,
   "metadata": {},
   "outputs": [],
   "source": [
    "p.map"
   ]
  },
  {
   "cell_type": "code",
   "execution_count": 1,
   "metadata": {},
   "outputs": [],
   "source": [
    "import os"
   ]
  },
  {
   "cell_type": "code",
   "execution_count": 2,
   "metadata": {},
   "outputs": [
    {
     "data": {
      "text/plain": [
       "1018"
      ]
     },
     "execution_count": 2,
     "metadata": {},
     "output_type": "execute_result"
    }
   ],
   "source": [
    "os.get_"
   ]
  },
  {
   "cell_type": "code",
   "execution_count": null,
   "metadata": {},
   "outputs": [],
   "source": []
  }
 ],
 "metadata": {
  "kernelspec": {
   "display_name": "Python 3",
   "language": "python",
   "name": "python3"
  },
  "language_info": {
   "codemirror_mode": {
    "name": "ipython",
    "version": 3
   },
   "file_extension": ".py",
   "mimetype": "text/x-python",
   "name": "python",
   "nbconvert_exporter": "python",
   "pygments_lexer": "ipython3",
   "version": "3.7.6"
  }
 },
 "nbformat": 4,
 "nbformat_minor": 4
}
