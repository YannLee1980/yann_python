{
 "cells": [
  {
   "cell_type": "markdown",
   "metadata": {},
   "source": [
    "#### 管道,官方文档,Pipe() 函数返回一个由管道连接的连接对象，默认情况下是双工（双向）\n",
    "* 返回的两个连接对象 Pipe() 表示管道的两端。\n",
    "* 每个连接对象都有 send() 和 recv() 方法（相互之间的）。\n",
    "* 请注意，如果两个进程（或线程）同时尝试读取或写入管道的 同一 端，\n",
    "* 则管道中的数据可能会损坏。当然，同时使用管道的不同端的进程不存在损坏的风险。"
   ]
  },
  {
   "cell_type": "code",
   "execution_count": 2,
   "metadata": {},
   "outputs": [],
   "source": [
    "from multiprocessing import Process, Pipe"
   ]
  },
  {
   "cell_type": "code",
   "execution_count": 3,
   "metadata": {},
   "outputs": [
    {
     "name": "stdout",
     "output_type": "stream",
     "text": [
      "['Helo', 8374, None]\n"
     ]
    }
   ],
   "source": [
    "def f(conn):\n",
    "    conn.send(['Helo', 8374, None])\n",
    "    conn.close()\n",
    "\n",
    "if __name__ == '__main__':\n",
    "    parent_conn, child_conn = Pipe()\n",
    "    p = Process(target=f, args=(child_conn,))\n",
    "    p.start()\n",
    "    print(parent_conn.recv())\n",
    "    p.join()"
   ]
  },
  {
   "cell_type": "code",
   "execution_count": 6,
   "metadata": {},
   "outputs": [
    {
     "name": "stdout",
     "output_type": "stream",
     "text": [
      "['Helo', 8374, None]\n"
     ]
    }
   ],
   "source": [
    "def f(conn):\n",
    "    conn.send(['Helo', 8374, None])\n",
    "    conn.close()\n",
    "\n",
    "if __name__ == '__main__':\n",
    "    parent_conn, child_conn = Pipe()\n",
    "    p = Process(target=f, args=(parent_conn,))\n",
    "    p.start()\n",
    "    print(child_conn.recv())\n",
    "    p.join()"
   ]
  },
  {
   "cell_type": "code",
   "execution_count": null,
   "metadata": {},
   "outputs": [],
   "source": []
  }
 ],
 "metadata": {
  "kernelspec": {
   "display_name": "Python 3",
   "language": "python",
   "name": "python3"
  },
  "language_info": {
   "codemirror_mode": {
    "name": "ipython",
    "version": 3
   },
   "file_extension": ".py",
   "mimetype": "text/x-python",
   "name": "python",
   "nbconvert_exporter": "python",
   "pygments_lexer": "ipython3",
   "version": "3.7.6"
  }
 },
 "nbformat": 4,
 "nbformat_minor": 4
}
