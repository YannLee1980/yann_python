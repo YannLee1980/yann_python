{
 "cells": [
  {
   "cell_type": "markdown",
   "metadata": {},
   "source": [
    "### 区分父子进程"
   ]
  },
  {
   "cell_type": "code",
   "execution_count": 13,
   "metadata": {},
   "outputs": [],
   "source": [
    "import os\n",
    "import time"
   ]
  },
  {
   "cell_type": "code",
   "execution_count": 14,
   "metadata": {},
   "outputs": [
    {
     "name": "stdout",
     "output_type": "stream",
     "text": [
      "res == 2044\n",
      "我是父进程,我的pid是: 1963\n",
      "res == 0\n",
      "我是子进程,我的pid是:2044我的父进程id是:1963\n"
     ]
    }
   ],
   "source": [
    "res = os.fork()\n",
    "print(f'res == {res}')\n",
    "\n",
    "if res == 0:\n",
    "    print(f'我是子进程,我的pid是:{os.getpid()}我的父进程id是:{os.getppid()}')\n",
    "else:\n",
    "    print(f'我是父进程,我的pid是: {os.getpid()}')"
   ]
  },
  {
   "cell_type": "markdown",
   "metadata": {},
   "source": [
    "* fork()运行时，会有2种返回值，返回值为大于0时，此进程为父进程，且返回的数字为子进程的PID；当返回值为0时，此进程为子进程。\n",
    "* 注意：父进程结束时，子进程并不会随父进程立刻结束。同样，父进程不会等待子进程执行完。\n",
    "* 注意：os.fork()无法在windows上运行。"
   ]
  },
  {
   "cell_type": "code",
   "execution_count": null,
   "metadata": {},
   "outputs": [],
   "source": []
  }
 ],
 "metadata": {
  "kernelspec": {
   "display_name": "Python 3",
   "language": "python",
   "name": "python3"
  },
  "language_info": {
   "codemirror_mode": {
    "name": "ipython",
    "version": 3
   },
   "file_extension": ".py",
   "mimetype": "text/x-python",
   "name": "python",
   "nbconvert_exporter": "python",
   "pygments_lexer": "ipython3",
   "version": "3.7.6"
  }
 },
 "nbformat": 4,
 "nbformat_minor": 4
}
