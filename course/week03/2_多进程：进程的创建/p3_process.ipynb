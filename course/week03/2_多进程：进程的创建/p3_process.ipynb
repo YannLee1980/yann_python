{
 "cells": [
  {
   "cell_type": "markdown",
   "metadata": {},
   "source": [
    "### 新建进程：\n",
    "> multiprocessing.Process(group=None, target=None, name=None, args=(), kwargs={})\n",
    "- group：分组，实际上很少使用\n",
    "- target：表示调用对象，你可以传入方法的名字\n",
    "- name：别名，相当于给这个进程取一个名字\n",
    "- args：表示被调用对象的位置参数元组，比如target是函数a，他有两个参数m，n，那么args就传入(m, n)即可\n",
    "- kwargs：表示调用对象的字典"
   ]
  },
  {
   "cell_type": "code",
   "execution_count": 2,
   "metadata": {},
   "outputs": [],
   "source": [
    "from multiprocessing import Process"
   ]
  },
  {
   "cell_type": "code",
   "execution_count": 3,
   "metadata": {},
   "outputs": [],
   "source": [
    "def f(name):\n",
    "    print(f'Hello {name}')"
   ]
  },
  {
   "cell_type": "code",
   "execution_count": 10,
   "metadata": {},
   "outputs": [
    {
     "name": "stdout",
     "output_type": "stream",
     "text": [
      "Hello Yann\n"
     ]
    }
   ],
   "source": [
    "if __name__ == '__main__':\n",
    "    p = Process(target=f, args=('Yann',))  #args的格式是元组，kwargs的格式是字典。\n",
    "    p.start()\n",
    "    p.join(timeout=3)"
   ]
  },
  {
   "cell_type": "markdown",
   "metadata": {},
   "source": [
    "##### 注意：\n",
    "* join([timeout])\n",
    "* 如果可选参数 timeout 是 None （默认值），则该方法将阻塞，直到调用 join() 方法的进程终止。如果 timeout 是一个正数，它最多会阻塞 timeout 秒。\n",
    "* 请注意，如果进程终止或方法超时，则该方法返回 None 。\n",
    "* 检查进程的 exitcode 以确定它是否终止。\n",
    "* 一个进程可以合并多次。\n",
    "* 进程无法并入自身，因为这会导致死锁。\n",
    "* 尝试在启动进程之前合并进程是错误的。"
   ]
  },
  {
   "cell_type": "code",
   "execution_count": null,
   "metadata": {},
   "outputs": [],
   "source": []
  }
 ],
 "metadata": {
  "kernelspec": {
   "display_name": "Python 3",
   "language": "python",
   "name": "python3"
  },
  "language_info": {
   "codemirror_mode": {
    "name": "ipython",
    "version": 3
   },
   "file_extension": ".py",
   "mimetype": "text/x-python",
   "name": "python",
   "nbconvert_exporter": "python",
   "pygments_lexer": "ipython3",
   "version": "3.7.6"
  }
 },
 "nbformat": 4,
 "nbformat_minor": 4
}
