{
 "cells": [
  {
   "cell_type": "code",
   "execution_count": 10,
   "metadata": {},
   "outputs": [],
   "source": [
    "import os\n",
    "import requests\n",
    "import queue\n",
    "import threading\n",
    "from fake_useragent import UserAgent"
   ]
  },
  {
   "cell_type": "code",
   "execution_count": 11,
   "metadata": {},
   "outputs": [],
   "source": [
    "class DownloadThread(threading.Thread):\n",
    "    def __init__(self, q):\n",
    "        super().__init__()\n",
    "        self.q = q\n",
    "    \n",
    "    def run(self):\n",
    "        while True:\n",
    "            url = self.q.get()\n",
    "            print(f'{self.name} begin download {url}.')\n",
    "            self.download_file(url)\n",
    "            self.q.task_done()\n",
    "            print(f'{self.name} download completed.')\n",
    "    \n",
    "    def download_file(self, url):\n",
    "        ua = UserAgent(use_cache_server=False)\n",
    "        headers = {'User-Agent': ua.random}\n",
    "        r = requests.get(url, headers=headers, stream=True)\n",
    "        fname = os.path.basename(url) + '.html'\n",
    "        with open(fname, 'wb') as f:\n",
    "            for chunk in r.iter_content(chunk_size=1024):\n",
    "                if not chunk:\n",
    "                    break\n",
    "                f.write(chunk)\n",
    "    "
   ]
  },
  {
   "cell_type": "code",
   "execution_count": 12,
   "metadata": {},
   "outputs": [
    {
     "name": "stdout",
     "output_type": "stream",
     "text": [
      "Thread-14 begin download http://www.baidu.com.\n",
      "Thread-16 begin download http://www.maoyan.com.\n",
      "Thread-15 begin download http://www.douban.com.\n",
      "Thread-14 download completed.\n",
      "Thread-15 download completed.\n",
      "Thread-16 download completed.\n"
     ]
    }
   ],
   "source": [
    "if __name__ == '__main__':\n",
    "    urls = ['http://www.baidu.com',\n",
    "            'http://www.maoyan.com',\n",
    "            'http://www.douban.com']\n",
    "    \n",
    "    q = queue.Queue()\n",
    "    \n",
    "    for i in range(5):\n",
    "        t = DownloadThread(q)\n",
    "        t.setDaemon(True)\n",
    "        t.start()\n",
    "        \n",
    "    for url in urls:\n",
    "        q.put(url)\n",
    "    \n",
    "    q.join()"
   ]
  },
  {
   "cell_type": "code",
   "execution_count": null,
   "metadata": {},
   "outputs": [],
   "source": []
  }
 ],
 "metadata": {
  "kernelspec": {
   "display_name": "Python 3",
   "language": "python",
   "name": "python3"
  },
  "language_info": {
   "codemirror_mode": {
    "name": "ipython",
    "version": 3
   },
   "file_extension": ".py",
   "mimetype": "text/x-python",
   "name": "python",
   "nbconvert_exporter": "python",
   "pygments_lexer": "ipython3",
   "version": "3.7.6"
  }
 },
 "nbformat": 4,
 "nbformat_minor": 4
}
