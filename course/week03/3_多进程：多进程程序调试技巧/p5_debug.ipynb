{
 "cells": [
  {
   "cell_type": "markdown",
   "metadata": {},
   "source": [
    "### 显示所涉及的各个进程ID，这是一个扩展示例"
   ]
  },
  {
   "cell_type": "code",
   "execution_count": 33,
   "metadata": {},
   "outputs": [],
   "source": [
    "import multiprocessing as mp\n",
    "from multiprocessing import Process\n",
    "import os"
   ]
  },
  {
   "cell_type": "code",
   "execution_count": 34,
   "metadata": {},
   "outputs": [],
   "source": [
    "def debug_info(title):\n",
    "    print('-' * 20)\n",
    "    print(title)\n",
    "    print('模块名称：', __name__)\n",
    "    print('当前进程：', os.getpid())\n",
    "    print('父进程：', os.getppid())\n",
    "    print('-' * 20)\n",
    "\n",
    "def f(name):\n",
    "    debug_info('function f')\n",
    "    print('Hello ', name)"
   ]
  },
  {
   "cell_type": "code",
   "execution_count": 35,
   "metadata": {},
   "outputs": [
    {
     "name": "stdout",
     "output_type": "stream",
     "text": [
      "--------------------\n",
      "main\n",
      "模块名称： __main__\n",
      "当前进程： 1314\n",
      "父进程： 973\n",
      "--------------------\n",
      "--------------------\n",
      "function f\n",
      "--------------------\n",
      "模块名称： __main__\n",
      "当前进程： 1460\n",
      "function f\n",
      "模块名称： __main__\n",
      "父进程： 1314\n",
      "当前进程： 1461\n",
      "--------------------\n",
      "父进程： 1314\n",
      "Hello  Bob\n",
      "--------------------\n",
      "Hello  Tom\n",
      "子进程：name:Process-25, id:1461\n",
      "子进程：name:Process-24, id:1460\n",
      "主进程结束！\n",
      "CPU核心数：8\n"
     ]
    }
   ],
   "source": [
    "if __name__ == '__main__':\n",
    "    debug_info('main')\n",
    "    p1 = Process(target=f, args=('Bob',))\n",
    "    p1.start()\n",
    "    p2 = Process(target=f, args=('Tom',))\n",
    "    p2.start()\n",
    "#     p.join()\n",
    "    \n",
    "    for p in mp.active_children():\n",
    "        print(f'子进程：name:{p.name}, id:{str(p.pid)}')\n",
    "        \n",
    "#     p.join()\n",
    "    print('主进程结束！')\n",
    "    print(f'CPU核心数：{str(mp.cpu_count())}')\n",
    "    p1.join()\n",
    "    p2.join()\n",
    "    "
   ]
  },
  {
   "cell_type": "code",
   "execution_count": null,
   "metadata": {},
   "outputs": [],
   "source": []
  }
 ],
 "metadata": {
  "kernelspec": {
   "display_name": "Python 3",
   "language": "python",
   "name": "python3"
  },
  "language_info": {
   "codemirror_mode": {
    "name": "ipython",
    "version": 3
   },
   "file_extension": ".py",
   "mimetype": "text/x-python",
   "name": "python",
   "nbconvert_exporter": "python",
   "pygments_lexer": "ipython3",
   "version": "3.7.6"
  }
 },
 "nbformat": 4,
 "nbformat_minor": 4
}
