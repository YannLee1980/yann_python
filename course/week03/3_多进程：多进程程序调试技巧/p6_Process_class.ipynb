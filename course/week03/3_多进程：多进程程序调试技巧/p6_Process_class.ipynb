{
 "cells": [
  {
   "cell_type": "markdown",
   "metadata": {},
   "source": [
    "### multiprocessing.Process的run()方法\n",
    "* 当不给Process指定target时，会默认调用Process类里的run()方法。\n",
    "* 这和指定target效果是一样的，只是将函数封装进类之后便于理解和调用。"
   ]
  },
  {
   "cell_type": "code",
   "execution_count": 1,
   "metadata": {},
   "outputs": [],
   "source": [
    "from multiprocessing import Process\n",
    "import os\n",
    "import time"
   ]
  },
  {
   "cell_type": "code",
   "execution_count": 4,
   "metadata": {},
   "outputs": [],
   "source": [
    "class NewPreocess(Process): #继承Process类创建一个新类\n",
    "    def __init__(self, num):\n",
    "        self.num = num\n",
    "        super().__init__()\n",
    "        \n",
    "    def run(self): #重写Process类中的run方法.\n",
    "        while True:\n",
    "            print(f'我是进程{self.num}, 我的pid是{os.getpid()}')\n",
    "            time.sleep(1)"
   ]
  },
  {
   "cell_type": "code",
   "execution_count": 6,
   "metadata": {},
   "outputs": [
    {
     "name": "stdout",
     "output_type": "stream",
     "text": [
      "我是进程0, 我的pid是1579\n",
      "我是进程1, 我的pid是1580\n",
      "我是进程2, 我的pid是1581\n",
      "我是进程0, 我的pid是1579\n",
      "我是进程1, 我的pid是1580\n",
      "我是进程2, 我的pid是1581\n",
      "我是进程0, 我的pid是1579\n",
      "我是进程1, 我的pid是1580\n",
      "我是进程2, 我的pid是1581\n",
      "我是进程0, 我的pid是1579\n",
      "我是进程1, 我的pid是1580\n",
      "我是进程2, 我的pid是1581\n",
      "我是进程0, 我的pid是1579\n",
      "我是进程1, 我的pid是1580\n",
      "我是进程2, 我的pid是1581\n"
     ]
    },
    {
     "name": "stderr",
     "output_type": "stream",
     "text": [
      "Process NewPreocess-6:\n",
      "Process NewPreocess-5:\n",
      "Process NewPreocess-7:\n",
      "Traceback (most recent call last):\n",
      "Traceback (most recent call last):\n",
      "Traceback (most recent call last):\n",
      "  File \"/Users/yannlee/anaconda3/lib/python3.7/multiprocessing/process.py\", line 297, in _bootstrap\n",
      "    self.run()\n",
      "  File \"/Users/yannlee/anaconda3/lib/python3.7/multiprocessing/process.py\", line 297, in _bootstrap\n",
      "    self.run()\n",
      "  File \"/Users/yannlee/anaconda3/lib/python3.7/multiprocessing/process.py\", line 297, in _bootstrap\n",
      "    self.run()\n",
      "  File \"<ipython-input-4-fbc92d58acc1>\", line 9, in run\n",
      "    time.sleep(1)\n",
      "  File \"<ipython-input-4-fbc92d58acc1>\", line 9, in run\n",
      "    time.sleep(1)\n",
      "  File \"<ipython-input-4-fbc92d58acc1>\", line 9, in run\n",
      "    time.sleep(1)\n",
      "KeyboardInterrupt\n",
      "KeyboardInterrupt\n",
      "KeyboardInterrupt\n"
     ]
    }
   ],
   "source": [
    "for i in range(3):\n",
    "    p = NewPreocess(i)\n",
    "    p.start()"
   ]
  },
  {
   "cell_type": "code",
   "execution_count": null,
   "metadata": {},
   "outputs": [],
   "source": []
  }
 ],
 "metadata": {
  "kernelspec": {
   "display_name": "Python 3",
   "language": "python",
   "name": "python3"
  },
  "language_info": {
   "codemirror_mode": {
    "name": "ipython",
    "version": 3
   },
   "file_extension": ".py",
   "mimetype": "text/x-python",
   "name": "python",
   "nbconvert_exporter": "python",
   "pygments_lexer": "ipython3",
   "version": "3.7.6"
  }
 },
 "nbformat": 4,
 "nbformat_minor": 4
}
