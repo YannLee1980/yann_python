{
 "cells": [
  {
   "cell_type": "code",
   "execution_count": 3,
   "metadata": {},
   "outputs": [
    {
     "ename": "TypeError",
     "evalue": "'list' object is not callable",
     "output_type": "error",
     "traceback": [
      "\u001b[0;31m---------------------------------------------------------------------------\u001b[0m",
      "\u001b[0;31mTypeError\u001b[0m                                 Traceback (most recent call last)",
      "\u001b[0;32m<ipython-input-3-dfee174d6aa7>\u001b[0m in \u001b[0;36m<module>\u001b[0;34m\u001b[0m\n\u001b[1;32m      1\u001b[0m \u001b[0mcities\u001b[0m \u001b[0;34m=\u001b[0m \u001b[0;34m[\u001b[0m\u001b[0;34m'beijing'\u001b[0m\u001b[0;34m,\u001b[0m \u001b[0;34m'shanhai'\u001b[0m\u001b[0;34m,\u001b[0m \u001b[0;34m'guangzhou'\u001b[0m\u001b[0;34m,\u001b[0m \u001b[0;34m'shenzhen'\u001b[0m\u001b[0;34m]\u001b[0m\u001b[0;34m\u001b[0m\u001b[0;34m\u001b[0m\u001b[0m\n\u001b[1;32m      2\u001b[0m \u001b[0murls\u001b[0m \u001b[0;34m=\u001b[0m \u001b[0;34m[\u001b[0m\u001b[0;34mf'www.lagou.com/{city}-zhaopin/Python/'\u001b[0m \u001b[0;32mfor\u001b[0m \u001b[0mcity\u001b[0m \u001b[0;32min\u001b[0m \u001b[0mcities\u001b[0m\u001b[0;34m]\u001b[0m\u001b[0;34m\u001b[0m\u001b[0;34m\u001b[0m\u001b[0m\n\u001b[0;32m----> 3\u001b[0;31m \u001b[0murl_file\u001b[0m \u001b[0;34m=\u001b[0m \u001b[0mtuple\u001b[0m\u001b[0;34m(\u001b[0m\u001b[0;34m(\u001b[0m\u001b[0murl\u001b[0m\u001b[0;34m,\u001b[0m \u001b[0mcity\u001b[0m\u001b[0;34m)\u001b[0m \u001b[0;32mfor\u001b[0m \u001b[0murl\u001b[0m\u001b[0;34m,\u001b[0m \u001b[0mcity\u001b[0m \u001b[0;32min\u001b[0m \u001b[0mmap\u001b[0m\u001b[0;34m(\u001b[0m\u001b[0murls\u001b[0m\u001b[0;34m,\u001b[0m \u001b[0mcities\u001b[0m\u001b[0;34m)\u001b[0m\u001b[0;34m)\u001b[0m\u001b[0;34m\u001b[0m\u001b[0;34m\u001b[0m\u001b[0m\n\u001b[0m",
      "\u001b[0;32m<ipython-input-3-dfee174d6aa7>\u001b[0m in \u001b[0;36m<genexpr>\u001b[0;34m(.0)\u001b[0m\n\u001b[1;32m      1\u001b[0m \u001b[0mcities\u001b[0m \u001b[0;34m=\u001b[0m \u001b[0;34m[\u001b[0m\u001b[0;34m'beijing'\u001b[0m\u001b[0;34m,\u001b[0m \u001b[0;34m'shanhai'\u001b[0m\u001b[0;34m,\u001b[0m \u001b[0;34m'guangzhou'\u001b[0m\u001b[0;34m,\u001b[0m \u001b[0;34m'shenzhen'\u001b[0m\u001b[0;34m]\u001b[0m\u001b[0;34m\u001b[0m\u001b[0;34m\u001b[0m\u001b[0m\n\u001b[1;32m      2\u001b[0m \u001b[0murls\u001b[0m \u001b[0;34m=\u001b[0m \u001b[0;34m[\u001b[0m\u001b[0;34mf'www.lagou.com/{city}-zhaopin/Python/'\u001b[0m \u001b[0;32mfor\u001b[0m \u001b[0mcity\u001b[0m \u001b[0;32min\u001b[0m \u001b[0mcities\u001b[0m\u001b[0;34m]\u001b[0m\u001b[0;34m\u001b[0m\u001b[0;34m\u001b[0m\u001b[0m\n\u001b[0;32m----> 3\u001b[0;31m \u001b[0murl_file\u001b[0m \u001b[0;34m=\u001b[0m \u001b[0mtuple\u001b[0m\u001b[0;34m(\u001b[0m\u001b[0;34m(\u001b[0m\u001b[0murl\u001b[0m\u001b[0;34m,\u001b[0m \u001b[0mcity\u001b[0m\u001b[0;34m)\u001b[0m \u001b[0;32mfor\u001b[0m \u001b[0murl\u001b[0m\u001b[0;34m,\u001b[0m \u001b[0mcity\u001b[0m \u001b[0;32min\u001b[0m \u001b[0mmap\u001b[0m\u001b[0;34m(\u001b[0m\u001b[0murls\u001b[0m\u001b[0;34m,\u001b[0m \u001b[0mcities\u001b[0m\u001b[0;34m)\u001b[0m\u001b[0;34m)\u001b[0m\u001b[0;34m\u001b[0m\u001b[0;34m\u001b[0m\u001b[0m\n\u001b[0m",
      "\u001b[0;31mTypeError\u001b[0m: 'list' object is not callable"
     ]
    }
   ],
   "source": [
    "cities = ['beijing', 'shanhai', 'guangzhou', 'shenzhen']\n",
    "urls = [f'www.lagou.com/{city}-zhaopin/Python/' for city in cities]\n",
    "url_file = tuple((url, city) for url, city in map(urls, cities))"
   ]
  },
  {
   "cell_type": "code",
   "execution_count": 2,
   "metadata": {},
   "outputs": [
    {
     "data": {
      "text/plain": [
       "(('www.lagou.com/beijing-zhaopin/Python/', 'beijing'),\n",
       " ('www.lagou.com/beijing-zhaopin/Python/', 'shanhai'),\n",
       " ('www.lagou.com/beijing-zhaopin/Python/', 'guangzhou'),\n",
       " ('www.lagou.com/beijing-zhaopin/Python/', 'shenzhen'),\n",
       " ('www.lagou.com/shanhai-zhaopin/Python/', 'beijing'),\n",
       " ('www.lagou.com/shanhai-zhaopin/Python/', 'shanhai'),\n",
       " ('www.lagou.com/shanhai-zhaopin/Python/', 'guangzhou'),\n",
       " ('www.lagou.com/shanhai-zhaopin/Python/', 'shenzhen'),\n",
       " ('www.lagou.com/guangzhou-zhaopin/Python/', 'beijing'),\n",
       " ('www.lagou.com/guangzhou-zhaopin/Python/', 'shanhai'),\n",
       " ('www.lagou.com/guangzhou-zhaopin/Python/', 'guangzhou'),\n",
       " ('www.lagou.com/guangzhou-zhaopin/Python/', 'shenzhen'),\n",
       " ('www.lagou.com/shenzhen-zhaopin/Python/', 'beijing'),\n",
       " ('www.lagou.com/shenzhen-zhaopin/Python/', 'shanhai'),\n",
       " ('www.lagou.com/shenzhen-zhaopin/Python/', 'guangzhou'),\n",
       " ('www.lagou.com/shenzhen-zhaopin/Python/', 'shenzhen'))"
      ]
     },
     "execution_count": 2,
     "metadata": {},
     "output_type": "execute_result"
    }
   ],
   "source": [
    "url_file"
   ]
  },
  {
   "cell_type": "code",
   "execution_count": null,
   "metadata": {},
   "outputs": [],
   "source": []
  }
 ],
 "metadata": {
  "kernelspec": {
   "display_name": "Python 3",
   "language": "python",
   "name": "python3"
  },
  "language_info": {
   "codemirror_mode": {
    "name": "ipython",
    "version": 3
   },
   "file_extension": ".py",
   "mimetype": "text/x-python",
   "name": "python",
   "nbconvert_exporter": "python",
   "pygments_lexer": "ipython3",
   "version": "3.7.6"
  }
 },
 "nbformat": 4,
 "nbformat_minor": 4
}
