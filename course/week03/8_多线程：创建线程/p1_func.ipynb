{
 "cells": [
  {
   "cell_type": "markdown",
   "metadata": {},
   "source": [
    "### 调用方\n",
    "* 阻塞  得到调用结果之前，线程会被挂起\n",
    "* 非阻塞 不能立即得到结果，不会阻塞线程\n",
    "\n",
    "### 被调用方 \n",
    "* 同步 得到结果之前，调用不会返回\n",
    "* 异步 请求发出后，调用立即返回，没有返回结果，通过回调函数得到实际结果"
   ]
  },
  {
   "cell_type": "code",
   "execution_count": 1,
   "metadata": {},
   "outputs": [],
   "source": [
    "import threading"
   ]
  },
  {
   "cell_type": "code",
   "execution_count": 2,
   "metadata": {},
   "outputs": [],
   "source": [
    "def run(n):\n",
    "    print('current task:', n)"
   ]
  },
  {
   "cell_type": "code",
   "execution_count": 3,
   "metadata": {},
   "outputs": [
    {
     "name": "stdout",
     "output_type": "stream",
     "text": [
      "current task: thread 1\n",
      "current task: thread 2\n"
     ]
    }
   ],
   "source": [
    "if __name__ == '__main__':\n",
    "    t1 = threading.Thread(target=run, args=('thread 1',))\n",
    "    t2 = threading.Thread(target=run, args=('thread 2',))\n",
    "    t1.start()\n",
    "    t2.start()"
   ]
  }
 ],
 "metadata": {
  "kernelspec": {
   "display_name": "Python 3",
   "language": "python",
   "name": "python3"
  },
  "language_info": {
   "codemirror_mode": {
    "name": "ipython",
    "version": 3
   },
   "file_extension": ".py",
   "mimetype": "text/x-python",
   "name": "python",
   "nbconvert_exporter": "python",
   "pygments_lexer": "ipython3",
   "version": "3.7.6"
  }
 },
 "nbformat": 4,
 "nbformat_minor": 4
}
