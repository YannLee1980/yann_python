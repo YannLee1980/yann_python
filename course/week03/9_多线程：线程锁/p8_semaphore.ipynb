{
 "cells": [
  {
   "cell_type": "markdown",
   "metadata": {},
   "source": [
    "### 信号量：内部实现一个计数器，占用信号量的线程数超过指定值时阻塞"
   ]
  },
  {
   "cell_type": "code",
   "execution_count": 16,
   "metadata": {},
   "outputs": [],
   "source": [
    "import time\n",
    "import threading"
   ]
  },
  {
   "cell_type": "code",
   "execution_count": 17,
   "metadata": {},
   "outputs": [],
   "source": [
    "semaphore = threading.BoundedSemaphore(5)"
   ]
  },
  {
   "cell_type": "code",
   "execution_count": 18,
   "metadata": {},
   "outputs": [],
   "source": [
    "def run(i):\n",
    "    semaphore.acquire()\n",
    "#     print(f'run thread{i}')\n",
    "    print(\"run the thread: %s\" % i)\n",
    "    time.sleep(2)\n",
    "    semaphore.release()"
   ]
  },
  {
   "cell_type": "code",
   "execution_count": 19,
   "metadata": {},
   "outputs": [
    {
     "name": "stdout",
     "output_type": "stream",
     "text": [
      "run the thread: 0\n",
      "run the thread: 1run the thread: 2\n",
      "run the thread: 3\n",
      "\n",
      "run the thread: 4\n",
      "run the thread: 5\n",
      "run the thread: 6\n",
      "run the thread: 9run the thread: 7\n",
      "run the thread: 8\n",
      "\n",
      "run the thread: 10\n",
      "run the thread: 11\n",
      "run the thread: 12run the thread: 14\n",
      "\n",
      "run the thread: 13\n",
      "run the thread: 15run the thread: 16\n",
      "\n",
      "run the thread: 17run the thread: 18run the thread: 19\n",
      "\n",
      "\n"
     ]
    }
   ],
   "source": [
    "for i in range(20):\n",
    "    t = threading.Thread(target=run, args=(i,))\n",
    "    t.start()"
   ]
  },
  {
   "cell_type": "code",
   "execution_count": null,
   "metadata": {},
   "outputs": [],
   "source": []
  }
 ],
 "metadata": {
  "kernelspec": {
   "display_name": "Python 3",
   "language": "python",
   "name": "python3"
  },
  "language_info": {
   "codemirror_mode": {
    "name": "ipython",
    "version": 3
   },
   "file_extension": ".py",
   "mimetype": "text/x-python",
   "name": "python",
   "nbconvert_exporter": "python",
   "pygments_lexer": "ipython3",
   "version": "3.7.6"
  }
 },
 "nbformat": 4,
 "nbformat_minor": 4
}
