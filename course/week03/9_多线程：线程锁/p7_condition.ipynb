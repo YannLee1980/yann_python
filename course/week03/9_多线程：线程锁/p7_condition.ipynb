{
 "cells": [
  {
   "cell_type": "markdown",
   "metadata": {},
   "source": [
    "### 条件锁：该机制会使线程等待，只有满足某条件时，才释放n个线程"
   ]
  },
  {
   "cell_type": "code",
   "execution_count": 12,
   "metadata": {},
   "outputs": [],
   "source": [
    "import threading"
   ]
  },
  {
   "cell_type": "code",
   "execution_count": 13,
   "metadata": {},
   "outputs": [],
   "source": [
    "def condition():\n",
    "    ret = False\n",
    "    r = input('>>>')\n",
    "    if r == 'yes':\n",
    "        ret = True\n",
    "    return ret\n",
    "\n",
    "def func(con, i):\n",
    "    con.acquire()\n",
    "    con.wait_for(condition)\n",
    "    print(100 + i)\n",
    "    con.release()\n"
   ]
  },
  {
   "cell_type": "code",
   "execution_count": 14,
   "metadata": {},
   "outputs": [
    {
     "name": "stdin",
     "output_type": "stream",
     "text": [
      ">>> no\n"
     ]
    },
    {
     "name": "stdout",
     "output_type": "stream",
     "text": [
      ">>>"
     ]
    },
    {
     "name": "stderr",
     "output_type": "stream",
     "text": [
      "Exception in thread Thread-45:\n",
      "Traceback (most recent call last):\n",
      "  File \"/Users/yannlee/anaconda3/lib/python3.7/threading.py\", line 926, in _bootstrap_inner\n",
      "    self.run()\n",
      "  File \"/Users/yannlee/anaconda3/lib/python3.7/threading.py\", line 870, in run\n",
      "    self._target(*self._args, **self._kwargs)\n",
      "  File \"<ipython-input-13-d3caf5b087fe>\", line 10, in func\n",
      "    con.wait_for(condition)\n",
      "  File \"/Users/yannlee/anaconda3/lib/python3.7/threading.py\", line 322, in wait_for\n",
      "    result = predicate()\n",
      "  File \"<ipython-input-13-d3caf5b087fe>\", line 3, in condition\n",
      "    r = input('>>>')\n",
      "EOFError: EOF when reading a line\n",
      "\n"
     ]
    }
   ],
   "source": [
    "c = threading.Condition()\n",
    "for i in range(10):\n",
    "    t = threading.Thread(target=func, args=(c, i, ))\n",
    "    t.start()"
   ]
  },
  {
   "cell_type": "code",
   "execution_count": null,
   "metadata": {},
   "outputs": [],
   "source": []
  }
 ],
 "metadata": {
  "kernelspec": {
   "display_name": "Python 3",
   "language": "python",
   "name": "python3"
  },
  "language_info": {
   "codemirror_mode": {
    "name": "ipython",
    "version": 3
   },
   "file_extension": ".py",
   "mimetype": "text/x-python",
   "name": "python",
   "nbconvert_exporter": "python",
   "pygments_lexer": "ipython3",
   "version": "3.7.6"
  }
 },
 "nbformat": 4,
 "nbformat_minor": 4
}
