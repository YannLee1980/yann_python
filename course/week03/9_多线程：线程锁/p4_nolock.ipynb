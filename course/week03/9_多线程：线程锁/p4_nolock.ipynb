{
 "cells": [
  {
   "cell_type": "markdown",
   "metadata": {},
   "source": [
    "### 没加锁"
   ]
  },
  {
   "cell_type": "code",
   "execution_count": 1,
   "metadata": {},
   "outputs": [],
   "source": [
    "import threading\n",
    "import time\n",
    "import os"
   ]
  },
  {
   "cell_type": "code",
   "execution_count": 2,
   "metadata": {},
   "outputs": [],
   "source": [
    "num = 0\n",
    "def addone():\n",
    "    global num\n",
    "    num += 1\n",
    "    time.sleep(1)\n",
    "    print(os.getpid(), f'num value is:{num}')"
   ]
  },
  {
   "cell_type": "code",
   "execution_count": 3,
   "metadata": {},
   "outputs": [
    {
     "name": "stdout",
     "output_type": "stream",
     "text": [
      "main thread stop!\n",
      "2654265426542654265426542654265426542654 num value is:10\n",
      " num value is:10 num value is:10\n",
      "  num value is:10\n",
      " num value is:10\n",
      " num value is:10\n",
      " num value is:10\n",
      " \n",
      " num value is:10\n",
      "num value is:10\n",
      "num value is:10\n"
     ]
    }
   ],
   "source": [
    "for i in range(10):\n",
    "    t = threading.Thread(target=addone)\n",
    "    t.start()\n",
    "    \n",
    "print('main thread stop!')"
   ]
  },
  {
   "cell_type": "markdown",
   "metadata": {},
   "source": [
    "### 加锁"
   ]
  },
  {
   "cell_type": "code",
   "execution_count": 5,
   "metadata": {},
   "outputs": [],
   "source": [
    "num = 0\n",
    "mutex = threading.Lock()"
   ]
  },
  {
   "cell_type": "code",
   "execution_count": 12,
   "metadata": {},
   "outputs": [],
   "source": [
    "def addone():\n",
    "    global num\n",
    "    time.sleep(1)\n",
    "    \n",
    "    if mutex.acquire(timeout=1):\n",
    "        num += 1\n",
    "        print(f'num value is:{num}')\n",
    "    mutex.release()"
   ]
  },
  {
   "cell_type": "code",
   "execution_count": 14,
   "metadata": {},
   "outputs": [
    {
     "name": "stdout",
     "output_type": "stream",
     "text": [
      "Thread-44\n",
      "Thread-45\n",
      "Thread-46\n",
      "Thread-47\n",
      "Thread-48\n",
      "Thread-49\n",
      "Thread-50\n",
      "Thread-51\n",
      "Thread-52\n",
      "Thread-53\n",
      "main thread stop!\n",
      "num value is:31\n",
      "num value is:32\n",
      "num value is:33\n",
      "num value is:34\n",
      "num value is:35\n",
      "num value is:36\n",
      "num value is:37\n",
      "num value is:38\n",
      "num value is:39\n",
      "num value is:40\n"
     ]
    }
   ],
   "source": [
    "for i in range(10):\n",
    "    t = threading.Thread(target=addone)\n",
    "    print(t.getName())\n",
    "    t.start()\n",
    "print('main thread stop!')"
   ]
  },
  {
   "cell_type": "code",
   "execution_count": null,
   "metadata": {},
   "outputs": [],
   "source": []
  }
 ],
 "metadata": {
  "kernelspec": {
   "display_name": "Python 3",
   "language": "python",
   "name": "python3"
  },
  "language_info": {
   "codemirror_mode": {
    "name": "ipython",
    "version": 3
   },
   "file_extension": ".py",
   "mimetype": "text/x-python",
   "name": "python",
   "nbconvert_exporter": "python",
   "pygments_lexer": "ipython3",
   "version": "3.7.6"
  }
 },
 "nbformat": 4,
 "nbformat_minor": 4
}
