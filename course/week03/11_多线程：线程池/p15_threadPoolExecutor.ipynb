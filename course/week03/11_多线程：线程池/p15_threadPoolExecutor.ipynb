{
 "cells": [
  {
   "cell_type": "markdown",
   "metadata": {},
   "source": [
    "### Python3.2 中引入了 concurrent.futures 库，利用这个库可以非常方便的使用多线程、多进程"
   ]
  },
  {
   "cell_type": "code",
   "execution_count": 3,
   "metadata": {},
   "outputs": [],
   "source": [
    "from concurrent.futures import ThreadPoolExecutor\n",
    "import time"
   ]
  },
  {
   "cell_type": "code",
   "execution_count": 4,
   "metadata": {},
   "outputs": [],
   "source": [
    "def func(args):\n",
    "    print(f'call func {args}')"
   ]
  },
  {
   "cell_type": "code",
   "execution_count": 6,
   "metadata": {},
   "outputs": [
    {
     "name": "stdout",
     "output_type": "stream",
     "text": [
      "call func ['A', 'B', 'C', 'D']\n",
      "call func Acall func B\n",
      "\n",
      "call func C\n",
      "call func D\n",
      "81\n"
     ]
    }
   ],
   "source": [
    "if __name__ == \"__main__\":\n",
    "    seed = ['A', 'B', 'C', 'D']\n",
    "    \n",
    "    with ThreadPoolExecutor(3) as executor1:\n",
    "        executor1.submit(func, seed)\n",
    "        \n",
    "    time.sleep(1)\n",
    "    \n",
    "    with ThreadPoolExecutor(2) as executor2:\n",
    "        executor2.map(func, seed)\n",
    "    \n",
    "    time.sleep(1)\n",
    "    \n",
    "    with ThreadPoolExecutor(max_workers=1) as executor3:\n",
    "        future = executor3.submit(pow, 3, 4)\n",
    "        print(future.result())"
   ]
  },
  {
   "cell_type": "code",
   "execution_count": null,
   "metadata": {},
   "outputs": [],
   "source": []
  }
 ],
 "metadata": {
  "kernelspec": {
   "display_name": "Python 3",
   "language": "python",
   "name": "python3"
  },
  "language_info": {
   "codemirror_mode": {
    "name": "ipython",
    "version": 3
   },
   "file_extension": ".py",
   "mimetype": "text/x-python",
   "name": "python",
   "nbconvert_exporter": "python",
   "pygments_lexer": "ipython3",
   "version": "3.7.6"
  }
 },
 "nbformat": 4,
 "nbformat_minor": 4
}
