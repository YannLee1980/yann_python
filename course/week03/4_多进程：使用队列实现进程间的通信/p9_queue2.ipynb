{
 "cells": [
  {
   "cell_type": "code",
   "execution_count": 1,
   "metadata": {},
   "outputs": [],
   "source": [
    "from multiprocessing import Process, Queue\n",
    "import os, time"
   ]
  },
  {
   "cell_type": "code",
   "execution_count": 4,
   "metadata": {},
   "outputs": [
    {
     "name": "stdout",
     "output_type": "stream",
     "text": [
      "写进程开启:2029\n",
      "读进程开启:2030\n",
      "A\n",
      "B\n",
      "C\n",
      "D\n",
      "写进程结束\n",
      "主进程结束\n"
     ]
    }
   ],
   "source": [
    "def write(queue):\n",
    "    print(f'写进程开启:{os.getpid()}')\n",
    "    l = ['A', 'B', 'C', 'D']\n",
    "    for char in l:\n",
    "        queue.put(char)\n",
    "        time.sleep(1)\n",
    "    print('写进程结束')\n",
    "\n",
    "def read(queue):\n",
    "    print(f'读进程开启:{os.getpid()}')\n",
    "    while True:\n",
    "        value = queue.get()\n",
    "        print(value)\n",
    "    print('读进程结束')\n",
    "\n",
    "if __name__ == '__main__':\n",
    "    q = Queue()\n",
    "    pw = Process(target=write, args=(q,))\n",
    "    pr = Process(target=read, args=(q,))\n",
    "    pw.start()\n",
    "    pr.start()\n",
    "    \n",
    "    pw.join()\n",
    "    time.sleep(2)\n",
    "    pr.terminate()\n",
    "    \n",
    "    print('主进程结束')"
   ]
  },
  {
   "cell_type": "code",
   "execution_count": 6,
   "metadata": {},
   "outputs": [
    {
     "name": "stdout",
     "output_type": "stream",
     "text": [
      "Help on method get in module multiprocessing.queues:\n",
      "\n",
      "get(block=True, timeout=None) method of multiprocessing.queues.Queue instance\n",
      "\n"
     ]
    }
   ],
   "source": [
    "help(q.get)"
   ]
  },
  {
   "cell_type": "code",
   "execution_count": 7,
   "metadata": {},
   "outputs": [
    {
     "name": "stdout",
     "output_type": "stream",
     "text": [
      "Help on method put in module multiprocessing.queues:\n",
      "\n",
      "put(obj, block=True, timeout=None) method of multiprocessing.queues.Queue instance\n",
      "\n"
     ]
    }
   ],
   "source": [
    "help(q.put)"
   ]
  },
  {
   "cell_type": "code",
   "execution_count": null,
   "metadata": {},
   "outputs": [],
   "source": []
  }
 ],
 "metadata": {
  "kernelspec": {
   "display_name": "Python 3",
   "language": "python",
   "name": "python3"
  },
  "language_info": {
   "codemirror_mode": {
    "name": "ipython",
    "version": 3
   },
   "file_extension": ".py",
   "mimetype": "text/x-python",
   "name": "python",
   "nbconvert_exporter": "python",
   "pygments_lexer": "ipython3",
   "version": "3.7.6"
  }
 },
 "nbformat": 4,
 "nbformat_minor": 4
}
