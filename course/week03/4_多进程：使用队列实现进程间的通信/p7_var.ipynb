{
 "cells": [
  {
   "cell_type": "code",
   "execution_count": 1,
   "metadata": {},
   "outputs": [],
   "source": [
    "from multiprocessing import Process\n",
    "import time"
   ]
  },
  {
   "cell_type": "code",
   "execution_count": 2,
   "metadata": {
    "scrolled": true
   },
   "outputs": [
    {
     "name": "stdout",
     "output_type": "stream",
     "text": [
      "父进程开始\n",
      "子进程开始\n",
      "子进程num：101\n",
      "子进程结束\n",
      "父进程num:100\n",
      "父进程结束\n"
     ]
    }
   ],
   "source": [
    "num = 100\n",
    "\n",
    "def run():\n",
    "    print('子进程开始')\n",
    "    global num\n",
    "    num += 1\n",
    "    print(f'子进程num：{num}')\n",
    "    print(\"子进程结束\")\n",
    "\n",
    "if __name__ == '__main__':\n",
    "    print('父进程开始')\n",
    "    p = Process(target=run)\n",
    "    p.start()\n",
    "    p.join()\n",
    "    print(f'父进程num:{num}')\n",
    "    print('父进程结束')"
   ]
  },
  {
   "cell_type": "markdown",
   "metadata": {},
   "source": [
    "* 全局变量在多个进程中不能共享\n",
    "* 在子进程中修改全局变量对父进程中的全局变量没有影响。\n",
    "* 因为父进程在创建子进程时对全局变量做了一个备份，\n",
    "* 父进程中的全局变量与子进程的全局变量完全是不同的两个变量。\n",
    "* 全局变量在多个进程中不能共享"
   ]
  },
  {
   "cell_type": "code",
   "execution_count": null,
   "metadata": {},
   "outputs": [],
   "source": []
  }
 ],
 "metadata": {
  "kernelspec": {
   "display_name": "Python 3",
   "language": "python",
   "name": "python3"
  },
  "language_info": {
   "codemirror_mode": {
    "name": "ipython",
    "version": 3
   },
   "file_extension": ".py",
   "mimetype": "text/x-python",
   "name": "python",
   "nbconvert_exporter": "python",
   "pygments_lexer": "ipython3",
   "version": "3.7.6"
  }
 },
 "nbformat": 4,
 "nbformat_minor": 4
}
