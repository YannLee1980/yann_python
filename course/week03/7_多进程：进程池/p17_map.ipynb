{
 "cells": [
  {
   "cell_type": "code",
   "execution_count": 9,
   "metadata": {},
   "outputs": [],
   "source": [
    "from multiprocessing import Pool\n",
    "import time\n",
    "import os"
   ]
  },
  {
   "cell_type": "code",
   "execution_count": 10,
   "metadata": {},
   "outputs": [],
   "source": [
    "def f(x):\n",
    "    print(f'process:{os.getpid()}')\n",
    "    return x*x"
   ]
  },
  {
   "cell_type": "code",
   "execution_count": 13,
   "metadata": {},
   "outputs": [
    {
     "name": "stdout",
     "output_type": "stream",
     "text": [
      "process:1821\n",
      "process:1822\n",
      "process:1823\n",
      "process:1824\n",
      "process:1821\n",
      "process:1823\n",
      "process:1824\n",
      "process:1822\n",
      "process:1823\n",
      "process:1821\n",
      "process:1824\n",
      "process:1822\n",
      "process:1821\n",
      "process:1823\n",
      "process:1821\n",
      "process:1822\n",
      "process:1824\n",
      "process:1823\n",
      "[0, 1, 4, 9, 16, 25, 36, 49, 64, 81]\n",
      "<multiprocessing.pool.IMapIterator object at 0x109293090>\n",
      "0\n",
      "1\n",
      "4\n"
     ]
    }
   ],
   "source": [
    "if __name__ == \"__main__\":\n",
    "    with Pool(4) as p:\n",
    "        print(p.map(f, range(10)))\n",
    "        \n",
    "        it = p.imap(f, range(10))\n",
    "        print(it)\n",
    "        print(next(it))\n",
    "        print(next(it))\n",
    "        print(it.next(timeout=2))"
   ]
  },
  {
   "cell_type": "code",
   "execution_count": null,
   "metadata": {},
   "outputs": [],
   "source": []
  }
 ],
 "metadata": {
  "kernelspec": {
   "display_name": "Python 3",
   "language": "python",
   "name": "python3"
  },
  "language_info": {
   "codemirror_mode": {
    "name": "ipython",
    "version": 3
   },
   "file_extension": ".py",
   "mimetype": "text/x-python",
   "name": "python",
   "nbconvert_exporter": "python",
   "pygments_lexer": "ipython3",
   "version": "3.7.6"
  }
 },
 "nbformat": 4,
 "nbformat_minor": 4
}
