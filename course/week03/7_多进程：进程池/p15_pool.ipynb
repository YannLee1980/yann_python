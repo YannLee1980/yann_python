{
 "cells": [
  {
   "cell_type": "markdown",
   "metadata": {},
   "source": [
    "### Pool 类表示一个工作进程池\n",
    "##### 如果要启动大量的子进程，可以用进程池的方式批量创建子进程\n",
    "* close()：如果我们用的是进程池，在调用join()之前必须要先close()，\n",
    "* 并且在close()之后不能再继续往进程池添加新的进程\n",
    "* join()：进程池对象调用join，会等待进程池中所有的子进程结束完毕再去结束父进程\n",
    "* terminate()：一旦运行到此步，不管任务是否完成，立即终止。"
   ]
  },
  {
   "cell_type": "code",
   "execution_count": 19,
   "metadata": {},
   "outputs": [],
   "source": [
    "import multiprocessing as mp\n",
    "from multiprocessing.pool import Pool\n",
    "from time import sleep, time\n",
    "import random\n",
    "import os"
   ]
  },
  {
   "cell_type": "code",
   "execution_count": 24,
   "metadata": {},
   "outputs": [],
   "source": [
    "def run(name):\n",
    "    print('NO.%s子进程开始，进程ID：%d' % (name, os.getpid()))\n",
    "    start = time()\n",
    "    sleep(random.randint(1,4))\n",
    "    end = time()\n",
    "    print('NO.%s子进程开始，进程ID：%d,耗时：%0.2f' %(name, os.getpid(), (end-start)))"
   ]
  },
  {
   "cell_type": "code",
   "execution_count": 27,
   "metadata": {},
   "outputs": [
    {
     "name": "stdout",
     "output_type": "stream",
     "text": [
      "NO.0子进程开始，进程ID：1478\n",
      "NO.1子进程开始，进程ID：1479\n",
      "NO.3子进程开始，进程ID：1481\n",
      "NO.6子进程开始，进程ID：1484\n",
      "NO.2子进程开始，进程ID：1480\n",
      "NO.4子进程开始，进程ID：1482\n",
      "NO.5子进程开始，进程ID：1483\n",
      "NO.7子进程开始，进程ID：1485\n",
      "NO.2子进程开始，进程ID：1480,耗时：1.00\n",
      "NO.7子进程开始，进程ID：1485,耗时：1.00\n",
      "NO.8子进程开始，进程ID：1485\n",
      "NO.9子进程开始，进程ID：1480\n",
      "NO.1子进程开始，进程ID：1479,耗时：3.00\n",
      "NO.3子进程开始，进程ID：1481,耗时：3.00\n",
      "NO.6子进程开始，进程ID：1484,耗时：3.00\n",
      "NO.5子进程开始，进程ID：1483,耗时：3.00\n",
      "NO.10子进程开始，进程ID：1484\n",
      "NO.11子进程开始，进程ID：1481\n",
      "NO.12子进程开始，进程ID：1479\n",
      "NO.13子进程开始，进程ID：1483\n",
      "NO.8子进程开始，进程ID：1485,耗时：2.00\n",
      "NO.14子进程开始，进程ID：1485\n",
      "NO.0子进程开始，进程ID：1478,耗时：4.00\n",
      "NO.4子进程开始，进程ID：1482,耗时：4.00\n",
      "NO.15子进程开始，进程ID：1482\n",
      "NO.16子进程开始，进程ID：1478\n",
      "NO.12子进程开始，进程ID：1479,耗时：2.00\n",
      "NO.9子进程开始，进程ID：1480,耗时：4.00\n",
      "NO.17子进程开始，进程ID：1479\n",
      "NO.18子进程开始，进程ID：1480\n",
      "NO.10子进程开始，进程ID：1484,耗时：3.00\n",
      "NO.19子进程开始，进程ID：1484\n",
      "NO.14子进程开始，进程ID：1485,耗时：3.00\n",
      "NO.11子进程开始，进程ID：1481,耗时：4.00\n",
      "NO.15子进程开始，进程ID：1482,耗时：3.00\n",
      "NO.13子进程开始，进程ID：1483,耗时：4.00\n",
      "NO.16子进程开始，进程ID：1478,耗时：3.00\n",
      "NO.19子进程开始，进程ID：1484,耗时：1.00\n",
      "NO.17子进程开始，进程ID：1479,耗时：2.00\n",
      "NO.18子进程开始，进程ID：1480,耗时：3.00\n",
      "父进程结束\n"
     ]
    }
   ],
   "source": [
    "if __name__ == '__main__':\n",
    "    cpu_count = mp.cpu_count()\n",
    "    p = Pool(cpu_count)\n",
    "    for i in range(20):\n",
    "        p.apply_async(func=run, args=(i,))\n",
    "    p.close()\n",
    "    p.join()\n",
    "    print('父进程结束')\n",
    "    p.terminate()"
   ]
  },
  {
   "cell_type": "code",
   "execution_count": null,
   "metadata": {},
   "outputs": [],
   "source": []
  }
 ],
 "metadata": {
  "kernelspec": {
   "display_name": "Python 3",
   "language": "python",
   "name": "python3"
  },
  "language_info": {
   "codemirror_mode": {
    "name": "ipython",
    "version": 3
   },
   "file_extension": ".py",
   "mimetype": "text/x-python",
   "name": "python",
   "nbconvert_exporter": "python",
   "pygments_lexer": "ipython3",
   "version": "3.7.6"
  }
 },
 "nbformat": 4,
 "nbformat_minor": 4
}
