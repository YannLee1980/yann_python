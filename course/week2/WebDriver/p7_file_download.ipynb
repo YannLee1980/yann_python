{
 "cells": [
  {
   "cell_type": "markdown",
   "metadata": {},
   "source": [
    "### 小文件下载"
   ]
  },
  {
   "cell_type": "code",
   "execution_count": 3,
   "metadata": {},
   "outputs": [],
   "source": [
    "import requests"
   ]
  },
  {
   "cell_type": "code",
   "execution_count": 5,
   "metadata": {},
   "outputs": [],
   "source": [
    "image_url = 'https://www.python.org/static/community_logos/python-logo-master-v3-TM.png'\n",
    "\n",
    "r = requests.get(image_url)\n",
    "\n",
    "with open('./python-logo-master-v3-TM.png', 'wb') as f:\n",
    "    f.write(r.content)"
   ]
  },
  {
   "cell_type": "markdown",
   "metadata": {},
   "source": [
    "##  大文件下载：\n",
    "#### 如果文件比较大的话，那么下载下来的文件先放在内存中，内存还是比较有压力的。\n",
    "#### 所以为了防止内存不够用的现象出现，我们要想办法把下载的文件分块写到磁盘中。"
   ]
  },
  {
   "cell_type": "code",
   "execution_count": 7,
   "metadata": {},
   "outputs": [],
   "source": [
    "file_url = 'https://github.com/geektime-geekbang/tensorflow-101/raw/master/experts/slides/2-%E5%BF%AB%E9%80%9F%E4%B8%8A%E6%89%8B%E7%AF%87%EF%BC%9A%E5%8A%A8%E2%BC%BF%E8%AE%AD%E7%BB%83%E6%A8%A1%E5%9E%8B%E5%92%8C%E9%83%A8%E7%BD%B2%E6%9C%8D%E5%8A%A1.pdf'\n",
    "\n",
    "r = requests.get(file_url, stream=True)\n",
    "\n",
    "with open('./file.pdf', 'wb') as f:\n",
    "    for chunk in r.iter_content(chunk_size=256):\n",
    "        if chunk:\n",
    "            f.write(chunk)"
   ]
  },
  {
   "cell_type": "code",
   "execution_count": null,
   "metadata": {},
   "outputs": [],
   "source": []
  }
 ],
 "metadata": {
  "kernelspec": {
   "display_name": "Python 3",
   "language": "python",
   "name": "python3"
  },
  "language_info": {
   "codemirror_mode": {
    "name": "ipython",
    "version": 3
   },
   "file_extension": ".py",
   "mimetype": "text/x-python",
   "name": "python",
   "nbconvert_exporter": "python",
   "pygments_lexer": "ipython3",
   "version": "3.7.6"
  }
 },
 "nbformat": 4,
 "nbformat_minor": 4
}
