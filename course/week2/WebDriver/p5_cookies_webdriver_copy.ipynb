{
 "cells": [
  {
   "cell_type": "code",
   "execution_count": 5,
   "metadata": {},
   "outputs": [],
   "source": [
    "from selenium import webdriver\n",
    "import time"
   ]
  },
  {
   "cell_type": "code",
   "execution_count": 12,
   "metadata": {},
   "outputs": [
    {
     "name": "stderr",
     "output_type": "stream",
     "text": [
      "/Users/yannlee/anaconda3/lib/python3.7/site-packages/ipykernel_launcher.py:9: DeprecationWarning: use driver.switch_to.frame instead\n",
      "  if __name__ == '__main__':\n"
     ]
    },
    {
     "name": "stdout",
     "output_type": "stream",
     "text": [
      "[{'domain': '.douban.com', 'expiry': 1593573304, 'httpOnly': False, 'name': '__utmt', 'path': '/', 'secure': False, 'value': '1'}, {'domain': '.douban.com', 'expiry': 1609340704, 'httpOnly': False, 'name': '__utmz', 'path': '/', 'secure': False, 'value': '30149280.1593572705.1.1.utmcsr=(direct)|utmccn=(direct)|utmcmd=(none)'}, {'domain': '.douban.com', 'httpOnly': False, 'name': '__utmc', 'path': '/', 'secure': False, 'value': '30149280'}, {'domain': '.douban.com', 'expiry': 1593574504, 'httpOnly': False, 'name': '__utmb', 'path': '/', 'secure': False, 'value': '30149280.1.10.1593572705'}, {'domain': '.douban.com', 'expiry': 1656644704, 'httpOnly': False, 'name': '__utma', 'path': '/', 'secure': False, 'value': '30149280.1040305832.1593572705.1593572705.1593572705.1'}, {'domain': 'accounts.douban.com', 'httpOnly': False, 'name': 'login_start_time', 'path': '/', 'secure': False, 'value': '1593572704907'}, {'domain': '.douban.com', 'expiry': 1625108701, 'httpOnly': False, 'name': 'll', 'path': '/', 'secure': False, 'value': '\"118286\"'}, {'domain': 'accounts.douban.com', 'httpOnly': False, 'name': 'apiKey', 'path': '/', 'secure': False, 'value': ''}, {'domain': '.douban.com', 'expiry': 1625108701, 'httpOnly': False, 'name': 'bid', 'path': '/', 'secure': False, 'value': 'DDmjF8PnoEg'}]\n"
     ]
    }
   ],
   "source": [
    "try:\n",
    "    # 需要安装chrome driver, 和浏览器版本保持一致\n",
    "    # http://chromedriver.storage.googleapis.com/index.html\n",
    "    browser = webdriver.Chrome()\n",
    "    browser.get('https://www.douban.com')\n",
    "    time.sleep(1)\n",
    "    \n",
    "    #定位\"密码登陆框\"，并点击：\n",
    "    browser.switch_to_frame(browser.find_elements_by_tag_name('iframe')[0])\n",
    "    btm1 = browser.find_element_by_xpath('/html/body/div[1]/div[1]/ul[1]/li[2]')\n",
    "    btm1.click()\n",
    "    \n",
    "    #输入用户名和密码：\n",
    "    browser.find_element_by_xpath('//*[@id=\"username\"]').send_keys('13682928292')\n",
    "    #browser.find_element_by_xpath('//*[@id=\"password\"]').send_keys('12345678')\n",
    "    browser.find_element_by_id('password').send_keys('12345678')\n",
    "    time.sleep(1)\n",
    "    #'//a[contains(@class, \"btn-account\")]'class 标签 包含内容\"btn-account\"\n",
    "    browser.find_element_by_xpath('//a[contains(@class, \"btn-account\")]').click()\n",
    "    \n",
    "    #获取cookies：\n",
    "    cookies = browser.get_cookies()\n",
    "    print(cookies)\n",
    "    time.sleep(3)\n",
    "    \n",
    "except Exception as e:\n",
    "    print(e)\n",
    "finally:\n",
    "    browser.close()\n"
   ]
  },
  {
   "cell_type": "code",
   "execution_count": null,
   "metadata": {},
   "outputs": [],
   "source": []
  }
 ],
 "metadata": {
  "kernelspec": {
   "display_name": "Python 3",
   "language": "python",
   "name": "python3"
  },
  "language_info": {
   "codemirror_mode": {
    "name": "ipython",
    "version": 3
   },
   "file_extension": ".py",
   "mimetype": "text/x-python",
   "name": "python",
   "nbconvert_exporter": "python",
   "pygments_lexer": "ipython3",
   "version": "3.7.6"
  }
 },
 "nbformat": 4,
 "nbformat_minor": 4
}
