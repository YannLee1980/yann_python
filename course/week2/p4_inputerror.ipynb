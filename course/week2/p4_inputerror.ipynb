{
 "cells": [
  {
   "cell_type": "code",
   "execution_count": 5,
   "metadata": {},
   "outputs": [
    {
     "name": "stdout",
     "output_type": "stream",
     "text": [
      "用户输入错误！\n",
      "Bye!\n"
     ]
    }
   ],
   "source": [
    "import pretty_errors\n",
    "class UserInputError(Exception):\n",
    "    def __init__(self, ErrorInfo):\n",
    "        super().__init__(ErrorInfo)\n",
    "        self.errorinfo = ErrorInfo\n",
    "    def __str__(self):\n",
    "        return self.errorinfo\n",
    "    \n",
    "user_input = 'a'\n",
    "\n",
    "try:\n",
    "    if not user_input.isdigit():\n",
    "        raise UserInputError('用户输入错误！')\n",
    "except UserInputError as e:\n",
    "    print(e)\n",
    "finally:\n",
    "    del user_input\n",
    "    print('Bye!')"
   ]
  },
  {
   "cell_type": "code",
   "execution_count": null,
   "metadata": {},
   "outputs": [],
   "source": []
  }
 ],
 "metadata": {
  "kernelspec": {
   "display_name": "Python 3",
   "language": "python",
   "name": "python3"
  },
  "language_info": {
   "codemirror_mode": {
    "name": "ipython",
    "version": 3
   },
   "file_extension": ".py",
   "mimetype": "text/x-python",
   "name": "python",
   "nbconvert_exporter": "python",
   "pygments_lexer": "ipython3",
   "version": "3.7.6"
  }
 },
 "nbformat": 4,
 "nbformat_minor": 4
}
