{
 "cells": [
  {
   "cell_type": "code",
   "execution_count": 1,
   "metadata": {},
   "outputs": [],
   "source": [
    "import requests\n",
    "import time\n",
    "from fake_useragent import UserAgent"
   ]
  },
  {
   "cell_type": "markdown",
   "metadata": {},
   "source": [
    "### 用自己的账号登陆"
   ]
  },
  {
   "cell_type": "code",
   "execution_count": 2,
   "metadata": {},
   "outputs": [],
   "source": [
    "ua = UserAgent(verify_ssl=False)\n",
    "headers = {\n",
    "    'User-agent': ua.random,\n",
    "    'Referer': 'https://accounts.douban.com/passport/login?source=movie',\n",
    "    'Host': 'accounts.douban.com'\n",
    "}"
   ]
  },
  {
   "cell_type": "code",
   "execution_count": 4,
   "metadata": {},
   "outputs": [],
   "source": [
    "s = requests.Session()\n",
    "# 会话对象：在同一个 Session 实例发出的所有请求之间保持 cookie， \n",
    "# 期间使用 urllib3 的 connection pooling 功能。\n",
    "# 向同一主机发送多个请求，底层的 TCP 连接将会被重用，从而带来显著的性能提升。\n",
    "\n",
    "login_url = 'https://accounts.douban.com/j/mobile/login/basic'\n",
    "\n",
    "form_data = {\n",
    "    'ck': '',\n",
    "    'name': '18925993001',\n",
    "    'password': 'test4321',\n",
    "    'remember': 'false',\n",
    "    'ticket': ''\n",
    "}\n",
    "\n",
    "s.get(login_url, headers=headers)\n",
    "\n",
    "response = s.post(login_url, data=form_data, headers=headers, cookies=s.cookies)"
   ]
  },
  {
   "cell_type": "code",
   "execution_count": 20,
   "metadata": {},
   "outputs": [],
   "source": [
    "with open('./login.html', 'w+') as f:\n",
    "    f.write(response.text)"
   ]
  },
  {
   "cell_type": "markdown",
   "metadata": {},
   "source": [
    "### 登陆后可以进行后续的请求,得到个人页面"
   ]
  },
  {
   "cell_type": "code",
   "execution_count": 9,
   "metadata": {},
   "outputs": [],
   "source": [
    "url2 = 'https://accounts.douban.com/passport/setting'"
   ]
  },
  {
   "cell_type": "code",
   "execution_count": 10,
   "metadata": {},
   "outputs": [
    {
     "data": {
      "text/plain": [
       "<Response [200]>"
      ]
     },
     "execution_count": 10,
     "metadata": {},
     "output_type": "execute_result"
    }
   ],
   "source": [
    "response2 = s.get(url2, headers=headers)\n",
    "response2"
   ]
  },
  {
   "cell_type": "code",
   "execution_count": 13,
   "metadata": {},
   "outputs": [],
   "source": [
    "with open('./profile.html', 'w+') as f:\n",
    "    f.write(response2.text)"
   ]
  },
  {
   "cell_type": "markdown",
   "metadata": {},
   "source": [
    "### 登陆后进入其他页面"
   ]
  },
  {
   "cell_type": "code",
   "execution_count": 15,
   "metadata": {},
   "outputs": [],
   "source": [
    "url3 = 'https://www.douban.com/notification'\n",
    "newsession = requests.Session()"
   ]
  },
  {
   "cell_type": "code",
   "execution_count": 17,
   "metadata": {},
   "outputs": [],
   "source": [
    "resoponse3 = newsession.get(url3, headers=headers, cookies=s.cookies)"
   ]
  },
  {
   "cell_type": "code",
   "execution_count": 19,
   "metadata": {},
   "outputs": [],
   "source": [
    "with open('./noti.html', 'w+') as f:\n",
    "    f.write(resoponse3.text)"
   ]
  }
 ],
 "metadata": {
  "kernelspec": {
   "display_name": "Python 3",
   "language": "python",
   "name": "python3"
  },
  "language_info": {
   "codemirror_mode": {
    "name": "ipython",
    "version": 3
   },
   "file_extension": ".py",
   "mimetype": "text/x-python",
   "name": "python",
   "nbconvert_exporter": "python",
   "pygments_lexer": "ipython3",
   "version": "3.7.6"
  }
 },
 "nbformat": 4,
 "nbformat_minor": 4
}
