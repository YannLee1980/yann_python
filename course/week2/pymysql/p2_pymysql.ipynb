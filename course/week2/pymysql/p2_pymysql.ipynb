{
 "cells": [
  {
   "cell_type": "code",
   "execution_count": 21,
   "metadata": {},
   "outputs": [],
   "source": [
    "import pymysql"
   ]
  },
  {
   "cell_type": "code",
   "execution_count": 22,
   "metadata": {},
   "outputs": [],
   "source": [
    "conn = pymysql.connect(\n",
    "    host='localhost',\n",
    "    port=3306,\n",
    "    user='root',\n",
    "    password='chenqiong',\n",
    "    db='test')"
   ]
  },
  {
   "cell_type": "markdown",
   "metadata": {},
   "source": [
    "### 获得cursor游标对象"
   ]
  },
  {
   "cell_type": "code",
   "execution_count": 23,
   "metadata": {},
   "outputs": [],
   "source": [
    "cur1 = conn.cursor()"
   ]
  },
  {
   "cell_type": "markdown",
   "metadata": {},
   "source": [
    "### 操作的行数"
   ]
  },
  {
   "cell_type": "code",
   "execution_count": 24,
   "metadata": {},
   "outputs": [
    {
     "name": "stdout",
     "output_type": "stream",
     "text": [
      "19\n"
     ]
    }
   ],
   "source": [
    "count = cur1.execute('select * from tb1;')\n",
    "print(count)"
   ]
  },
  {
   "cell_type": "markdown",
   "metadata": {},
   "source": [
    "### 获得一条查询结果"
   ]
  },
  {
   "cell_type": "code",
   "execution_count": 25,
   "metadata": {},
   "outputs": [
    {
     "name": "stdout",
     "output_type": "stream",
     "text": [
      "(1, 'Tom')\n"
     ]
    }
   ],
   "source": [
    "result = cur1.fetchone()\n",
    "print(result)"
   ]
  },
  {
   "cell_type": "markdown",
   "metadata": {},
   "source": [
    "### 获得所有查询结果"
   ]
  },
  {
   "cell_type": "code",
   "execution_count": 26,
   "metadata": {},
   "outputs": [
    {
     "data": {
      "text/plain": [
       "((2, 'Zhang'),\n",
       " (3, 'Li'),\n",
       " (4, 'Test_User_4'),\n",
       " (5, 'Test_User_5'),\n",
       " (6, 'Test_User_6'),\n",
       " (7, 'Test_User_7'),\n",
       " (8, 'Test_User_8'),\n",
       " (9, 'Test_User_9'),\n",
       " (10, 'Test_User_10'),\n",
       " (11, 'Test_User_11'),\n",
       " (12, 'Test_User_12'),\n",
       " (13, 'Test_User_13'),\n",
       " (14, 'Test_User_14'),\n",
       " (15, 'Test_User_15'),\n",
       " (16, 'Test_User_16'),\n",
       " (17, 'Test_User_17'),\n",
       " (18, 'Test_User_18'),\n",
       " (19, 'Test_User_19'))"
      ]
     },
     "execution_count": 26,
     "metadata": {},
     "output_type": "execute_result"
    }
   ],
   "source": [
    "results = cur1.fetchall()\n",
    "results"
   ]
  },
  {
   "cell_type": "code",
   "execution_count": 27,
   "metadata": {},
   "outputs": [],
   "source": [
    "cur1.close()"
   ]
  },
  {
   "cell_type": "markdown",
   "metadata": {},
   "source": [
    "### 执行批量插入\n",
    "### values = [(id,'testuser'+str(id)) for id in range(4, 21) ]\n",
    "### cursor.executemany('INSERT INTO '+ TABLE_NAME +' values(%s,%s)' ,values)"
   ]
  },
  {
   "cell_type": "code",
   "execution_count": 28,
   "metadata": {},
   "outputs": [],
   "source": [
    "cur2 = conn.cursor()\n",
    "\n",
    "values = [('Test_User_'+str(id)) for id in range(21,30)]\n",
    "\n",
    "cur2.executemany('INSERT INTO '+'tb1(name)'+' values(%s)', values)\n",
    "\n",
    "conn.commit()\n",
    "\n",
    "cur2.close()"
   ]
  },
  {
   "cell_type": "code",
   "execution_count": 29,
   "metadata": {},
   "outputs": [
    {
     "name": "stdout",
     "output_type": "stream",
     "text": [
      "28\n",
      "((1, 'Tom'), (2, 'Zhang'), (3, 'Li'), (4, 'Test_User_4'), (5, 'Test_User_5'), (6, 'Test_User_6'), (7, 'Test_User_7'), (8, 'Test_User_8'), (9, 'Test_User_9'), (10, 'Test_User_10'), (11, 'Test_User_11'), (12, 'Test_User_12'), (13, 'Test_User_13'), (14, 'Test_User_14'), (15, 'Test_User_15'), (16, 'Test_User_16'), (17, 'Test_User_17'), (18, 'Test_User_18'), (19, 'Test_User_19'), (20, 'Test_User_21'), (21, 'Test_User_22'), (22, 'Test_User_23'), (23, 'Test_User_24'), (24, 'Test_User_25'), (25, 'Test_User_26'), (26, 'Test_User_27'), (27, 'Test_User_28'), (28, 'Test_User_29'))\n"
     ]
    }
   ],
   "source": [
    "cur3 = conn.cursor()\n",
    "count = cur3.execute('select * from tb1;')\n",
    "results = cur3.fetchall()\n",
    "print(count)\n",
    "print(results)"
   ]
  },
  {
   "cell_type": "markdown",
   "metadata": {},
   "source": [
    "### 关闭链接"
   ]
  },
  {
   "cell_type": "code",
   "execution_count": 30,
   "metadata": {},
   "outputs": [],
   "source": [
    "conn.close()"
   ]
  },
  {
   "cell_type": "code",
   "execution_count": null,
   "metadata": {},
   "outputs": [],
   "source": []
  }
 ],
 "metadata": {
  "kernelspec": {
   "display_name": "Python 3",
   "language": "python",
   "name": "python3"
  },
  "language_info": {
   "codemirror_mode": {
    "name": "ipython",
    "version": 3
   },
   "file_extension": ".py",
   "mimetype": "text/x-python",
   "name": "python",
   "nbconvert_exporter": "python",
   "pygments_lexer": "ipython3",
   "version": "3.7.6"
  }
 },
 "nbformat": 4,
 "nbformat_minor": 4
}
