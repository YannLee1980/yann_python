{
 "cells": [
  {
   "cell_type": "markdown",
   "metadata": {},
   "source": [
    "# Python 3.7连接到MySQL数据库的模块推荐使用PyMySQL模块\n",
    "### pip install pymysql\n",
    "### /usr/local/mysql/support-files/mysql.server start\n",
    "### 一般流程\n",
    "### 开始-创建connection-获取cursor-CRUD(查询并获取数据)-关闭cursor-关闭connection-结束"
   ]
  },
  {
   "cell_type": "code",
   "execution_count": 46,
   "metadata": {},
   "outputs": [],
   "source": [
    "import pymysql"
   ]
  },
  {
   "cell_type": "code",
   "execution_count": 47,
   "metadata": {},
   "outputs": [],
   "source": [
    "dbInfo = {\n",
    "    'host': 'localhost',\n",
    "    'port': 3306,\n",
    "    'user': 'root',\n",
    "    \"password\": 'chenqiong',\n",
    "    'db': 'test'\n",
    "}\n",
    "sqls = ['select 1', 'select VERSION()']\n",
    "results = []"
   ]
  },
  {
   "cell_type": "code",
   "execution_count": 48,
   "metadata": {},
   "outputs": [],
   "source": [
    "class ConnDB(object):\n",
    "    def __init__(self, dbInfo, sqls):\n",
    "        self.host = dbInfo['host']\n",
    "        self.port = dbInfo['port']\n",
    "        self.user = dbInfo['user']\n",
    "        self.password = dbInfo['password']\n",
    "        self.db = dbInfo['db']\n",
    "        self.sqls = sqls\n",
    "        \n",
    "    def run(self):\n",
    "        conn = pymysql.connect(\n",
    "            host = self.host,\n",
    "            port = self.port,\n",
    "            user = self.user,\n",
    "            password = self.password,\n",
    "            db = self.db\n",
    "        )\n",
    "        # 游标建立的时候就开启了一个隐形的事物\n",
    "        cur = conn.cursor()\n",
    "        try:\n",
    "            for command in self.sqls:\n",
    "                cur.execute(command)\n",
    "                results.append(cur.fetchone())\n",
    "            # 关闭游标\n",
    "            cur.close()\n",
    "            conn.commit()\n",
    "        except:\n",
    "            conn.rollback()\n",
    "        # 关闭数据库连接\n",
    "        finally:\n",
    "            conn.close()"
   ]
  },
  {
   "cell_type": "code",
   "execution_count": 49,
   "metadata": {},
   "outputs": [
    {
     "name": "stdout",
     "output_type": "stream",
     "text": [
      "[(1,), ('8.0.20',)]\n"
     ]
    }
   ],
   "source": [
    "if __name__ == \"__main__\":\n",
    "    db = ConnDB(dbInfo, sqls)\n",
    "    db.run()\n",
    "    print(results)"
   ]
  },
  {
   "cell_type": "code",
   "execution_count": null,
   "metadata": {},
   "outputs": [],
   "source": []
  }
 ],
 "metadata": {
  "kernelspec": {
   "display_name": "Python 3",
   "language": "python",
   "name": "python3"
  },
  "language_info": {
   "codemirror_mode": {
    "name": "ipython",
    "version": 3
   },
   "file_extension": ".py",
   "mimetype": "text/x-python",
   "name": "python",
   "nbconvert_exporter": "python",
   "pygments_lexer": "ipython3",
   "version": "3.7.6"
  }
 },
 "nbformat": 4,
 "nbformat_minor": 4
}
