{
 "cells": [
  {
   "cell_type": "code",
   "execution_count": 25,
   "metadata": {},
   "outputs": [],
   "source": [
    "import pymysql\n",
    "\n",
    "DB_INFO = {\n",
    "    'host' : 'localhost',\n",
    "    'port' : 3306,\n",
    "    'user' : 'root',\n",
    "    'password' : 'chenqiong',\n",
    "    'db' : 'maoyan'\n",
    "}\n",
    "\n",
    "class ConnDB(object):\n",
    "    def __init__(self, dbInfo):\n",
    "        self.host = dbInfo['host']\n",
    "        self.port = dbInfo['port']\n",
    "        self.user = dbInfo['user']\n",
    "        self.password = dbInfo['password']\n",
    "        self.db = dbInfo['db']\n",
    "        \n",
    "    def run(self, sql, *args):\n",
    "        conn = pymysql.connect(\n",
    "            host = self.host,\n",
    "            port = self.port,\n",
    "            user = self.user,\n",
    "            password = self.password,\n",
    "            db = self.db\n",
    "        )\n",
    "        cur = conn.cursor()\n",
    "        try:\n",
    "            cur.execute(sql, args)\n",
    "            cur.close()\n",
    "            conn.commit()\n",
    "        except:\n",
    "            conn.rollback()\n",
    "        finally:\n",
    "            conn.close()\n",
    "\n",
    "class MoviesPipeline:\n",
    "    def process_item(self, item, spider):\n",
    "        film_name = '您好'\n",
    "        film_type = '故事'\n",
    "        plan_time = '2020.7.3'\n",
    "        \n",
    "        db = ConnDB(DB_INFO)\n",
    "        \n",
    "        sql = 'INSERT INTO ' + 'Movies(film_name, film_type, plan_time)' + ' values(%s, %s, %s)'\n",
    "        \n",
    "        db.run(sql, film_name, film_type, plan_time)"
   ]
  },
  {
   "cell_type": "code",
   "execution_count": 26,
   "metadata": {},
   "outputs": [],
   "source": [
    "m = MoviesPipeline()"
   ]
  },
  {
   "cell_type": "code",
   "execution_count": 27,
   "metadata": {},
   "outputs": [],
   "source": [
    "m.process_item(1,1)"
   ]
  },
  {
   "cell_type": "code",
   "execution_count": null,
   "metadata": {},
   "outputs": [],
   "source": []
  }
 ],
 "metadata": {
  "kernelspec": {
   "display_name": "Python 3",
   "language": "python",
   "name": "python3"
  },
  "language_info": {
   "codemirror_mode": {
    "name": "ipython",
    "version": 3
   },
   "file_extension": ".py",
   "mimetype": "text/x-python",
   "name": "python",
   "nbconvert_exporter": "python",
   "pygments_lexer": "ipython3",
   "version": "3.7.6"
  }
 },
 "nbformat": 4,
 "nbformat_minor": 4
}
