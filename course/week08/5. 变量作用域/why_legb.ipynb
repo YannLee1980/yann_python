{
 "cells": [
  {
   "cell_type": "code",
   "execution_count": null,
   "metadata": {},
   "outputs": [],
   "source": [
    "# prog1  同名不同作用域问题\n",
    "\n",
    "x = 1 \n",
    "def func():\n",
    "    x = 2\n",
    "func()\n",
    "print (x)\n",
    "\n",
    "# prog2 查找顺序问题\n",
    "\n",
    "y = 2\n",
    "def func2():\n",
    "    print(y)\n",
    "\n",
    "func2()\n",
    "\n",
    "# prog3  error\n",
    "\n",
    "def func3():\n",
    "    z = 3\n",
    "func3()\n",
    "print(z)\n",
    "\n",
    "# prog4 error\n",
    "\n",
    "def func4():\n",
    "    print(a)\n",
    "func4()\n",
    "a = 100"
   ]
  }
 ],
 "metadata": {
  "kernelspec": {
   "display_name": "Python 3",
   "language": "python",
   "name": "python3"
  },
  "language_info": {
   "codemirror_mode": {
    "name": "ipython",
    "version": 3
   },
   "file_extension": ".py",
   "mimetype": "text/x-python",
   "name": "python",
   "nbconvert_exporter": "python",
   "pygments_lexer": "ipython3",
   "version": "3.7.6"
  }
 },
 "nbformat": 4,
 "nbformat_minor": 4
}
