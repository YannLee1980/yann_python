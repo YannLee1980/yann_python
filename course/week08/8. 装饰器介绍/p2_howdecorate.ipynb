{
 "cells": [
  {
   "cell_type": "markdown",
   "metadata": {},
   "source": [
    "### 包装"
   ]
  },
  {
   "cell_type": "code",
   "execution_count": 2,
   "metadata": {},
   "outputs": [
    {
     "data": {
      "text/plain": [
       "'<html><body>Hello World.</body></html>'"
      ]
     },
     "execution_count": 2,
     "metadata": {},
     "output_type": "execute_result"
    }
   ],
   "source": [
    "def html(func):\n",
    "    def decorator():\n",
    "        return f'<html>{func()}</html>'\n",
    "    return decorator\n",
    "def body(func):\n",
    "    def decorator():\n",
    "        return f'<body>{func()}</body>'\n",
    "    return decorator\n",
    "@html\n",
    "@body\n",
    "def content():\n",
    "    return 'Hello World.'\n",
    "\n",
    "content()"
   ]
  },
  {
   "cell_type": "code",
   "execution_count": null,
   "metadata": {},
   "outputs": [],
   "source": []
  }
 ],
 "metadata": {
  "kernelspec": {
   "display_name": "Python 3",
   "language": "python",
   "name": "python3"
  },
  "language_info": {
   "codemirror_mode": {
    "name": "ipython",
    "version": 3
   },
   "file_extension": ".py",
   "mimetype": "text/x-python",
   "name": "python",
   "nbconvert_exporter": "python",
   "pygments_lexer": "ipython3",
   "version": "3.7.6"
  }
 },
 "nbformat": 4,
 "nbformat_minor": 4
}
