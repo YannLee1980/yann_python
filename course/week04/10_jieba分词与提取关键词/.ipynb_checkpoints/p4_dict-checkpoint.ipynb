{
 "cells": [
  {
   "cell_type": "code",
   "execution_count": 14,
   "metadata": {},
   "outputs": [],
   "source": [
    "import jieba"
   ]
  },
  {
   "cell_type": "code",
   "execution_count": 15,
   "metadata": {},
   "outputs": [],
   "source": [
    "string = '极客大学Python进阶训练营真好玩，欢迎来到极客大学，快来和我一起学习吧'\n",
    "user_dict_path = r'./extra_dict/user_dict.txt'"
   ]
  },
  {
   "cell_type": "code",
   "execution_count": 16,
   "metadata": {},
   "outputs": [
    {
     "name": "stdout",
     "output_type": "stream",
     "text": [
      "极客大学/Python进阶训练营/真好玩/，/欢迎/来到/极客大学/，/快来/和/我/一起/学习/吧\n"
     ]
    }
   ],
   "source": [
    "# 自定义词典\n",
    "jieba.load_userdict(user_dict_path)\n",
    "result = jieba.cut(string)\n",
    "print('/'.join(list(result)))"
   ]
  },
  {
   "cell_type": "code",
   "execution_count": 17,
   "metadata": {},
   "outputs": [],
   "source": [
    "# 自定义词典\n",
    "jieba.add_word('极客大学')"
   ]
  },
  {
   "cell_type": "code",
   "execution_count": 18,
   "metadata": {},
   "outputs": [],
   "source": [
    "# 动态删除词典\n",
    "jieba.del_word('自定义词')"
   ]
  },
  {
   "cell_type": "code",
   "execution_count": 19,
   "metadata": {},
   "outputs": [
    {
     "name": "stdout",
     "output_type": "stream",
     "text": [
      "极客大学/Python进阶训练营/真好玩/，/欢迎/来到/极客大学/，/快来/和/我/一起/学习/吧\n"
     ]
    }
   ],
   "source": [
    "result = jieba.cut(string)\n",
    "print('/'.join(list(result)))"
   ]
  },
  {
   "cell_type": "code",
   "execution_count": 21,
   "metadata": {},
   "outputs": [
    {
     "name": "stdout",
     "output_type": "stream",
     "text": [
      "我们/中出/了/一个/叛徒\n"
     ]
    }
   ],
   "source": [
    "string2 = '我们中出了一个叛徒'\n",
    "result = jieba.cut(string2)\n",
    "print('/'.join(list(result)))"
   ]
  },
  {
   "cell_type": "code",
   "execution_count": 22,
   "metadata": {},
   "outputs": [
    {
     "name": "stdout",
     "output_type": "stream",
     "text": [
      "我们/中/出/了/一个/叛徒\n"
     ]
    }
   ],
   "source": [
    "# 关闭自动计算词频\n",
    "result = jieba.cut(string2, cut_all=False, HMM=False)\n",
    "print('/'.join(list(result)))"
   ]
  },
  {
   "cell_type": "code",
   "execution_count": 23,
   "metadata": {},
   "outputs": [
    {
     "name": "stdout",
     "output_type": "stream",
     "text": [
      "我们/中出/了/一个/叛徒\n"
     ]
    }
   ],
   "source": [
    "# 调整分词，合并\n",
    "jieba.suggest_freq('中出', True)\n",
    "result = jieba.cut(string2, cut_all=False, HMM=False)\n",
    "print('/'.join(list(result)))"
   ]
  },
  {
   "cell_type": "code",
   "execution_count": 25,
   "metadata": {},
   "outputs": [
    {
     "name": "stdout",
     "output_type": "stream",
     "text": [
      "如果/放到/Post/中将/出错\n"
     ]
    }
   ],
   "source": [
    "# 调整词频，分开分词\n",
    "string3 = '如果放到Post中将出错'\n",
    "result = jieba.cut(string3, cut_all=False, HMM=False)\n",
    "print('/'.join(list(result)))"
   ]
  },
  {
   "cell_type": "code",
   "execution_count": 26,
   "metadata": {},
   "outputs": [
    {
     "name": "stdout",
     "output_type": "stream",
     "text": [
      "如果/放到/Post/中/将/出错\n"
     ]
    }
   ],
   "source": [
    "jieba.suggest_freq(('中', '将'), True)\n",
    "result = jieba.cut(string3, cut_all=False, HMM=False)\n",
    "print('/'.join(list(result)))"
   ]
  },
  {
   "cell_type": "code",
   "execution_count": null,
   "metadata": {},
   "outputs": [],
   "source": []
  }
 ],
 "metadata": {
  "kernelspec": {
   "display_name": "Python 3",
   "language": "python",
   "name": "python3"
  },
  "language_info": {
   "codemirror_mode": {
    "name": "ipython",
    "version": 3
   },
   "file_extension": ".py",
   "mimetype": "text/x-python",
   "name": "python",
   "nbconvert_exporter": "python",
   "pygments_lexer": "ipython3",
   "version": "3.7.6"
  }
 },
 "nbformat": 4,
 "nbformat_minor": 4
}
