{
 "cells": [
  {
   "cell_type": "markdown",
   "metadata": {},
   "source": [
    "### jieba初体验"
   ]
  },
  {
   "cell_type": "code",
   "execution_count": 1,
   "metadata": {},
   "outputs": [],
   "source": [
    "import jieba"
   ]
  },
  {
   "cell_type": "code",
   "execution_count": 2,
   "metadata": {},
   "outputs": [],
   "source": [
    "strings = ['我来自极客大学', 'Python进阶训练营真好玩']"
   ]
  },
  {
   "cell_type": "code",
   "execution_count": null,
   "metadata": {},
   "outputs": [],
   "source": [
    "for string in strings:\n",
    "    result = jieba.cut(string, cut_all=False) # 精确模式\n",
    "    print('Default Mode: ' + '/'.join(list(result)))"
   ]
  },
  {
   "cell_type": "code",
   "execution_count": 9,
   "metadata": {},
   "outputs": [
    {
     "name": "stdout",
     "output_type": "stream",
     "text": [
      "Full Mode: 我/来自/极/客/大学\n",
      "Full Mode: Python/进阶/训练/训练营/真好/真好玩/好玩\n"
     ]
    }
   ],
   "source": [
    "for string in strings:\n",
    "    result = jieba.cut(string, cut_all=True) # 全模式\n",
    "    print('Full Mode: ' + '/'.join(list(result)))"
   ]
  },
  {
   "cell_type": "markdown",
   "metadata": {},
   "source": [
    "#### 默认是精确模式"
   ]
  },
  {
   "cell_type": "code",
   "execution_count": 11,
   "metadata": {},
   "outputs": [
    {
     "name": "stdout",
     "output_type": "stream",
     "text": [
      "钟南山/院士/接受/采访/新冠/不会/二次/暴发\n"
     ]
    }
   ],
   "source": [
    "result = jieba.cut('钟南山院士接受采访新冠不会二次暴发')\n",
    "print('/'.join(list(result))) # \"新冠\" 没有在词典中，但是被Viterbi算法识别出来了"
   ]
  },
  {
   "cell_type": "markdown",
   "metadata": {},
   "source": [
    "#### 搜索引擎模式"
   ]
  },
  {
   "cell_type": "code",
   "execution_count": 13,
   "metadata": {},
   "outputs": [
    {
     "name": "stdout",
     "output_type": "stream",
     "text": [
      "小明/硕士/毕业/于/中国科学院/计算所/，/后/在/日本京都大学/深造\n"
     ]
    }
   ],
   "source": [
    "str_1 = '小明硕士毕业于中国科学院计算所，后在日本京都大学深造'\n",
    "result = jieba.cut(str_1)\n",
    "print('/'.join(list(result)))"
   ]
  },
  {
   "cell_type": "code",
   "execution_count": 15,
   "metadata": {},
   "outputs": [
    {
     "name": "stdout",
     "output_type": "stream",
     "text": [
      "Search Mode:小明/硕士/毕业/于/中国/科学/学院/科学院/中国科学院/计算/计算所/，/后/在/日本/京都/大学/日本京都大学/深造\n"
     ]
    }
   ],
   "source": [
    "result = jieba.cut_for_search(str_1)\n",
    "print('Search Mode:' + '/'.join(list(result)))"
   ]
  },
  {
   "cell_type": "code",
   "execution_count": null,
   "metadata": {},
   "outputs": [],
   "source": []
  }
 ],
 "metadata": {
  "kernelspec": {
   "display_name": "Python 3",
   "language": "python",
   "name": "python3"
  },
  "language_info": {
   "codemirror_mode": {
    "name": "ipython",
    "version": 3
   },
   "file_extension": ".py",
   "mimetype": "text/x-python",
   "name": "python",
   "nbconvert_exporter": "python",
   "pygments_lexer": "ipython3",
   "version": "3.7.6"
  }
 },
 "nbformat": 4,
 "nbformat_minor": 4
}
