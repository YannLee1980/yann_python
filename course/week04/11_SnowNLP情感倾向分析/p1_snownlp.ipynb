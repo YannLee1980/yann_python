{
 "cells": [
  {
   "cell_type": "code",
   "execution_count": 4,
   "metadata": {},
   "outputs": [],
   "source": [
    "from snownlp import SnowNLP"
   ]
  },
  {
   "cell_type": "code",
   "execution_count": 5,
   "metadata": {},
   "outputs": [],
   "source": [
    "text = '其实故事本来真的只值三星当初的中篇就足够了但是啊看到最后我又一次被东野叔的反战思想打动了所以就加多一星吧'\n",
    "\n",
    "s = SnowNLP(text)"
   ]
  },
  {
   "cell_type": "code",
   "execution_count": 7,
   "metadata": {},
   "outputs": [
    {
     "data": {
      "text/plain": [
       "['其实',\n",
       " '故事',\n",
       " '本来',\n",
       " '真的',\n",
       " '只值',\n",
       " '三星',\n",
       " '当初',\n",
       " '的',\n",
       " '中篇',\n",
       " '就',\n",
       " '足够',\n",
       " '了',\n",
       " '但是',\n",
       " '啊',\n",
       " '看到',\n",
       " '最后',\n",
       " '我',\n",
       " '又',\n",
       " '一',\n",
       " '次',\n",
       " '被东',\n",
       " '野',\n",
       " '叔',\n",
       " '的',\n",
       " '反战',\n",
       " '思想',\n",
       " '打动',\n",
       " '了',\n",
       " '所以',\n",
       " '就',\n",
       " '加',\n",
       " '多',\n",
       " '一',\n",
       " '星',\n",
       " '吧']"
      ]
     },
     "execution_count": 7,
     "metadata": {},
     "output_type": "execute_result"
    }
   ],
   "source": [
    "# 1 中文分词\n",
    "s.words"
   ]
  },
  {
   "cell_type": "code",
   "execution_count": 9,
   "metadata": {},
   "outputs": [
    {
     "data": {
      "text/plain": [
       "[('其实', 'd'),\n",
       " ('故事', 'n'),\n",
       " ('本来', 'd'),\n",
       " ('真的', 'd'),\n",
       " ('只值', 'p'),\n",
       " ('三星', 'nz'),\n",
       " ('当初', 't'),\n",
       " ('的', 'u'),\n",
       " ('中篇', 'n'),\n",
       " ('就', 'd'),\n",
       " ('足够', 'v'),\n",
       " ('了', 'u'),\n",
       " ('但是', 'c'),\n",
       " ('啊', 'y'),\n",
       " ('看到', 'v'),\n",
       " ('最后', 'f'),\n",
       " ('我', 'r'),\n",
       " ('又', 'd'),\n",
       " ('一', 'm'),\n",
       " ('次', 'q'),\n",
       " ('被东', 'h'),\n",
       " ('野', 'b'),\n",
       " ('叔', 'n'),\n",
       " ('的', 'u'),\n",
       " ('反战', 'b'),\n",
       " ('思想', 'n'),\n",
       " ('打动', 'v'),\n",
       " ('了', 'u'),\n",
       " ('所以', 'c'),\n",
       " ('就', 'd'),\n",
       " ('加', 'v'),\n",
       " ('多', 'm'),\n",
       " ('一', 'm'),\n",
       " ('星', 'n'),\n",
       " ('吧', 'y')]"
      ]
     },
     "execution_count": 9,
     "metadata": {},
     "output_type": "execute_result"
    }
   ],
   "source": [
    "# 2 词性标注 (隐马尔可夫模型)\n",
    "list(s.tags)"
   ]
  },
  {
   "cell_type": "code",
   "execution_count": 10,
   "metadata": {},
   "outputs": [
    {
     "data": {
      "text/plain": [
       "0.9995923786164326"
      ]
     },
     "execution_count": 10,
     "metadata": {},
     "output_type": "execute_result"
    }
   ],
   "source": [
    "# 3 情感分析（朴素贝叶斯分类器）\n",
    "s.sentiments"
   ]
  },
  {
   "cell_type": "code",
   "execution_count": 12,
   "metadata": {},
   "outputs": [
    {
     "data": {
      "text/plain": [
       "0.49375411042752326"
      ]
     },
     "execution_count": 12,
     "metadata": {},
     "output_type": "execute_result"
    }
   ],
   "source": [
    "text = '这本书烂透了'\n",
    "s2 = SnowNLP(text)\n",
    "s2.sentiments"
   ]
  },
  {
   "cell_type": "code",
   "execution_count": 14,
   "metadata": {},
   "outputs": [
    {
     "data": {
      "text/plain": [
       "['zhe', 'ben', 'shu', 'lan', 'tou', 'liao']"
      ]
     },
     "execution_count": 14,
     "metadata": {},
     "output_type": "execute_result"
    }
   ],
   "source": [
    "# 4 拼音（Trie树）\n",
    "s2.pinyin"
   ]
  },
  {
   "cell_type": "code",
   "execution_count": 15,
   "metadata": {},
   "outputs": [
    {
     "data": {
      "text/plain": [
       "'后面这些是繁体字'"
      ]
     },
     "execution_count": 15,
     "metadata": {},
     "output_type": "execute_result"
    }
   ],
   "source": [
    "# 5 繁体转简体\n",
    "text = '後面這些是繁體字'\n",
    "s3 = SnowNLP(text)\n",
    "s3.han"
   ]
  },
  {
   "cell_type": "code",
   "execution_count": 16,
   "metadata": {},
   "outputs": [
    {
     "data": {
      "text/plain": [
       "['反战', '三星', '叔', '当初', '中篇', '野', '足够', '被东']"
      ]
     },
     "execution_count": 16,
     "metadata": {},
     "output_type": "execute_result"
    }
   ],
   "source": [
    "# 6 提取关键字\n",
    "s.keywords(limit=8)"
   ]
  },
  {
   "cell_type": "code",
   "execution_count": 17,
   "metadata": {},
   "outputs": [
    {
     "data": {
      "text/plain": [
       "[{'其': 1},\n",
       " {'实': 1},\n",
       " {'故': 1},\n",
       " {'事': 1},\n",
       " {'本': 1},\n",
       " {'来': 1},\n",
       " {'真': 1},\n",
       " {'的': 1},\n",
       " {'只': 1},\n",
       " {'值': 1},\n",
       " {'三': 1},\n",
       " {'星': 1},\n",
       " {'当': 1},\n",
       " {'初': 1},\n",
       " {'的': 1},\n",
       " {'中': 1},\n",
       " {'篇': 1},\n",
       " {'就': 1},\n",
       " {'足': 1},\n",
       " {'够': 1},\n",
       " {'了': 1},\n",
       " {'但': 1},\n",
       " {'是': 1},\n",
       " {'啊': 1},\n",
       " {'看': 1},\n",
       " {'到': 1},\n",
       " {'最': 1},\n",
       " {'后': 1},\n",
       " {'我': 1},\n",
       " {'又': 1},\n",
       " {'一': 1},\n",
       " {'次': 1},\n",
       " {'被': 1},\n",
       " {'东': 1},\n",
       " {'野': 1},\n",
       " {'叔': 1},\n",
       " {'的': 1},\n",
       " {'反': 1},\n",
       " {'战': 1},\n",
       " {'思': 1},\n",
       " {'想': 1},\n",
       " {'打': 1},\n",
       " {'动': 1},\n",
       " {'了': 1},\n",
       " {'所': 1},\n",
       " {'以': 1},\n",
       " {'就': 1},\n",
       " {'加': 1},\n",
       " {'多': 1},\n",
       " {'一': 1},\n",
       " {'星': 1},\n",
       " {'吧': 1}]"
      ]
     },
     "execution_count": 17,
     "metadata": {},
     "output_type": "execute_result"
    }
   ],
   "source": [
    "# 7 信息衡量  ????\n",
    "s.tf"
   ]
  },
  {
   "cell_type": "code",
   "execution_count": 18,
   "metadata": {},
   "outputs": [
    {
     "data": {
      "text/plain": [
       "{'其': 3.536116699561526,\n",
       " '实': 3.536116699561526,\n",
       " '故': 3.536116699561526,\n",
       " '事': 3.536116699561526,\n",
       " '本': 3.536116699561526,\n",
       " '来': 3.536116699561526,\n",
       " '真': 3.536116699561526,\n",
       " '的': 2.649209701079277,\n",
       " '只': 3.536116699561526,\n",
       " '值': 3.536116699561526,\n",
       " '三': 3.536116699561526,\n",
       " '星': 3.005682604407159,\n",
       " '当': 3.536116699561526,\n",
       " '初': 3.536116699561526,\n",
       " '中': 3.536116699561526,\n",
       " '篇': 3.536116699561526,\n",
       " '就': 3.005682604407159,\n",
       " '足': 3.536116699561526,\n",
       " '够': 3.536116699561526,\n",
       " '了': 3.005682604407159,\n",
       " '但': 3.536116699561526,\n",
       " '是': 3.536116699561526,\n",
       " '啊': 3.536116699561526,\n",
       " '看': 3.536116699561526,\n",
       " '到': 3.536116699561526,\n",
       " '最': 3.536116699561526,\n",
       " '后': 3.536116699561526,\n",
       " '我': 3.536116699561526,\n",
       " '又': 3.536116699561526,\n",
       " '一': 3.005682604407159,\n",
       " '次': 3.536116699561526,\n",
       " '被': 3.536116699561526,\n",
       " '东': 3.536116699561526,\n",
       " '野': 3.536116699561526,\n",
       " '叔': 3.536116699561526,\n",
       " '反': 3.536116699561526,\n",
       " '战': 3.536116699561526,\n",
       " '思': 3.536116699561526,\n",
       " '想': 3.536116699561526,\n",
       " '打': 3.536116699561526,\n",
       " '动': 3.536116699561526,\n",
       " '所': 3.536116699561526,\n",
       " '以': 3.536116699561526,\n",
       " '加': 3.536116699561526,\n",
       " '多': 3.536116699561526,\n",
       " '吧': 3.536116699561526}"
      ]
     },
     "execution_count": 18,
     "metadata": {},
     "output_type": "execute_result"
    }
   ],
   "source": [
    "s.idf"
   ]
  },
  {
   "cell_type": "code",
   "execution_count": 19,
   "metadata": {},
   "outputs": [],
   "source": [
    "# 8 训练\n",
    "from snownlp import seg"
   ]
  },
  {
   "cell_type": "code",
   "execution_count": 20,
   "metadata": {
    "collapsed": true,
    "jupyter": {
     "outputs_hidden": true
    }
   },
   "outputs": [
    {
     "ename": "FileNotFoundError",
     "evalue": "[Errno 2] No such file or directory: 'data.txt'",
     "output_type": "error",
     "traceback": [
      "\u001b[0;31m---------------------------------------------------------------------------\u001b[0m",
      "\u001b[0;31mFileNotFoundError\u001b[0m                         Traceback (most recent call last)",
      "\u001b[0;32m<ipython-input-20-432fdbe108bf>\u001b[0m in \u001b[0;36m<module>\u001b[0;34m\u001b[0m\n\u001b[0;32m----> 1\u001b[0;31m \u001b[0mseg\u001b[0m\u001b[0;34m.\u001b[0m\u001b[0mtrain\u001b[0m\u001b[0;34m(\u001b[0m\u001b[0;34m'data.txt'\u001b[0m\u001b[0;34m)\u001b[0m\u001b[0;34m\u001b[0m\u001b[0;34m\u001b[0m\u001b[0m\n\u001b[0m\u001b[1;32m      2\u001b[0m \u001b[0mseg\u001b[0m\u001b[0;34m.\u001b[0m\u001b[0msave\u001b[0m\u001b[0;34m(\u001b[0m\u001b[0;34m'seg.marshal'\u001b[0m\u001b[0;34m)\u001b[0m\u001b[0;34m\u001b[0m\u001b[0;34m\u001b[0m\u001b[0m\n\u001b[1;32m      3\u001b[0m \u001b[0;31m# 修改snownlp/seg/__init__.py的 data_path 指向新的模型即可\u001b[0m\u001b[0;34m\u001b[0m\u001b[0;34m\u001b[0m\u001b[0;34m\u001b[0m\u001b[0m\n",
      "\u001b[0;32m~/anaconda3/lib/python3.7/site-packages/snownlp/seg/__init__.py\u001b[0m in \u001b[0;36mtrain\u001b[0;34m(fname)\u001b[0m\n\u001b[1;32m     33\u001b[0m     \u001b[0;32mglobal\u001b[0m \u001b[0msegger\u001b[0m\u001b[0;34m\u001b[0m\u001b[0;34m\u001b[0m\u001b[0m\n\u001b[1;32m     34\u001b[0m     \u001b[0msegger\u001b[0m \u001b[0;34m=\u001b[0m \u001b[0mTnTseg\u001b[0m\u001b[0;34m.\u001b[0m\u001b[0mSeg\u001b[0m\u001b[0;34m(\u001b[0m\u001b[0;34m)\u001b[0m\u001b[0;34m\u001b[0m\u001b[0;34m\u001b[0m\u001b[0m\n\u001b[0;32m---> 35\u001b[0;31m     \u001b[0msegger\u001b[0m\u001b[0;34m.\u001b[0m\u001b[0mtrain\u001b[0m\u001b[0;34m(\u001b[0m\u001b[0mfname\u001b[0m\u001b[0;34m)\u001b[0m\u001b[0;34m\u001b[0m\u001b[0;34m\u001b[0m\u001b[0m\n\u001b[0m\u001b[1;32m     36\u001b[0m \u001b[0;34m\u001b[0m\u001b[0m\n\u001b[1;32m     37\u001b[0m \u001b[0;34m\u001b[0m\u001b[0m\n",
      "\u001b[0;32m~/anaconda3/lib/python3.7/site-packages/snownlp/seg/seg.py\u001b[0m in \u001b[0;36mtrain\u001b[0;34m(self, fname)\u001b[0m\n\u001b[1;32m     24\u001b[0m \u001b[0;34m\u001b[0m\u001b[0m\n\u001b[1;32m     25\u001b[0m     \u001b[0;32mdef\u001b[0m \u001b[0mtrain\u001b[0m\u001b[0;34m(\u001b[0m\u001b[0mself\u001b[0m\u001b[0;34m,\u001b[0m \u001b[0mfname\u001b[0m\u001b[0;34m)\u001b[0m\u001b[0;34m:\u001b[0m\u001b[0;34m\u001b[0m\u001b[0;34m\u001b[0m\u001b[0m\n\u001b[0;32m---> 26\u001b[0;31m         \u001b[0mfr\u001b[0m \u001b[0;34m=\u001b[0m \u001b[0mcodecs\u001b[0m\u001b[0;34m.\u001b[0m\u001b[0mopen\u001b[0m\u001b[0;34m(\u001b[0m\u001b[0mfname\u001b[0m\u001b[0;34m,\u001b[0m \u001b[0;34m'r'\u001b[0m\u001b[0;34m,\u001b[0m \u001b[0;34m'utf-8'\u001b[0m\u001b[0;34m)\u001b[0m\u001b[0;34m\u001b[0m\u001b[0;34m\u001b[0m\u001b[0m\n\u001b[0m\u001b[1;32m     27\u001b[0m         \u001b[0mdata\u001b[0m \u001b[0;34m=\u001b[0m \u001b[0;34m[\u001b[0m\u001b[0;34m]\u001b[0m\u001b[0;34m\u001b[0m\u001b[0;34m\u001b[0m\u001b[0m\n\u001b[1;32m     28\u001b[0m         \u001b[0;32mfor\u001b[0m \u001b[0mi\u001b[0m \u001b[0;32min\u001b[0m \u001b[0mfr\u001b[0m\u001b[0;34m:\u001b[0m\u001b[0;34m\u001b[0m\u001b[0;34m\u001b[0m\u001b[0m\n",
      "\u001b[0;32m~/anaconda3/lib/python3.7/codecs.py\u001b[0m in \u001b[0;36mopen\u001b[0;34m(filename, mode, encoding, errors, buffering)\u001b[0m\n\u001b[1;32m    902\u001b[0m         \u001b[0;31m# Force opening of the file in binary mode\u001b[0m\u001b[0;34m\u001b[0m\u001b[0;34m\u001b[0m\u001b[0;34m\u001b[0m\u001b[0m\n\u001b[1;32m    903\u001b[0m         \u001b[0mmode\u001b[0m \u001b[0;34m=\u001b[0m \u001b[0mmode\u001b[0m \u001b[0;34m+\u001b[0m \u001b[0;34m'b'\u001b[0m\u001b[0;34m\u001b[0m\u001b[0;34m\u001b[0m\u001b[0m\n\u001b[0;32m--> 904\u001b[0;31m     \u001b[0mfile\u001b[0m \u001b[0;34m=\u001b[0m \u001b[0mbuiltins\u001b[0m\u001b[0;34m.\u001b[0m\u001b[0mopen\u001b[0m\u001b[0;34m(\u001b[0m\u001b[0mfilename\u001b[0m\u001b[0;34m,\u001b[0m \u001b[0mmode\u001b[0m\u001b[0;34m,\u001b[0m \u001b[0mbuffering\u001b[0m\u001b[0;34m)\u001b[0m\u001b[0;34m\u001b[0m\u001b[0;34m\u001b[0m\u001b[0m\n\u001b[0m\u001b[1;32m    905\u001b[0m     \u001b[0;32mif\u001b[0m \u001b[0mencoding\u001b[0m \u001b[0;32mis\u001b[0m \u001b[0;32mNone\u001b[0m\u001b[0;34m:\u001b[0m\u001b[0;34m\u001b[0m\u001b[0;34m\u001b[0m\u001b[0m\n\u001b[1;32m    906\u001b[0m         \u001b[0;32mreturn\u001b[0m \u001b[0mfile\u001b[0m\u001b[0;34m\u001b[0m\u001b[0;34m\u001b[0m\u001b[0m\n",
      "\u001b[0;31mFileNotFoundError\u001b[0m: [Errno 2] No such file or directory: 'data.txt'"
     ]
    }
   ],
   "source": [
    "seg.train('data.txt')\n",
    "seg.save('seg.marshal')\n",
    "# 修改snownlp/seg/__init__.py的 data_path 指向新的模型即可"
   ]
  },
  {
   "cell_type": "code",
   "execution_count": null,
   "metadata": {},
   "outputs": [],
   "source": []
  }
 ],
 "metadata": {
  "kernelspec": {
   "display_name": "Python 3",
   "language": "python",
   "name": "python3"
  },
  "language_info": {
   "codemirror_mode": {
    "name": "ipython",
    "version": 3
   },
   "file_extension": ".py",
   "mimetype": "text/x-python",
   "name": "python",
   "nbconvert_exporter": "python",
   "pygments_lexer": "ipython3",
   "version": "3.7.6"
  }
 },
 "nbformat": 4,
 "nbformat_minor": 4
}
