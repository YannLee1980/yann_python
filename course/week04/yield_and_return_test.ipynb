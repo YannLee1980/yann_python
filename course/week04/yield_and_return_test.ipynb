{
 "cells": [
  {
   "cell_type": "markdown",
   "metadata": {},
   "source": [
    "### 本demo为区分yield和return的区别："
   ]
  },
  {
   "cell_type": "code",
   "execution_count": 11,
   "metadata": {},
   "outputs": [],
   "source": [
    "#return:\n",
    "class Kls(object):\n",
    "    fields = ['a', 'b', 'c']\n",
    "    def __iter__(self):\n",
    "        return iter(self.fields)"
   ]
  },
  {
   "cell_type": "code",
   "execution_count": 13,
   "metadata": {},
   "outputs": [
    {
     "name": "stdout",
     "output_type": "stream",
     "text": [
      "a\n",
      "one again.\n",
      "b\n",
      "one again.\n",
      "c\n",
      "one again.\n"
     ]
    }
   ],
   "source": [
    "inst1 = Kls()\n",
    "\n",
    "for i in inst1:\n",
    "    print(i)\n",
    "    print('one again.')"
   ]
  },
  {
   "cell_type": "code",
   "execution_count": 17,
   "metadata": {},
   "outputs": [],
   "source": [
    "#yield:\n",
    "class Kls2(object):\n",
    "    fields = ['a', 'b', 'c']\n",
    "    \n",
    "    def __iter__(self):\n",
    "        for c in self.fields:\n",
    "            yield c"
   ]
  },
  {
   "cell_type": "code",
   "execution_count": 18,
   "metadata": {},
   "outputs": [
    {
     "name": "stdout",
     "output_type": "stream",
     "text": [
      "a\n",
      "one again.\n",
      "b\n",
      "one again.\n",
      "c\n",
      "one again.\n"
     ]
    }
   ],
   "source": [
    "inst2 = Kls2()\n",
    "\n",
    "for i in inst2:\n",
    "    print(i)\n",
    "    print('one again.')"
   ]
  },
  {
   "cell_type": "code",
   "execution_count": 1,
   "metadata": {},
   "outputs": [],
   "source": [
    "#next()\n",
    "class Kls3(object):\n",
    "    fields = ['a', 'b', 'c']\n",
    "    \n",
    "    def __iter__(self):\n",
    "        return self\n",
    "    \n",
    "    def __next__(self):\n",
    "        print('循环调用')\n",
    "        raise StopIteration"
   ]
  },
  {
   "cell_type": "code",
   "execution_count": 2,
   "metadata": {},
   "outputs": [
    {
     "name": "stdout",
     "output_type": "stream",
     "text": [
      "循环调用\n"
     ]
    }
   ],
   "source": [
    "inst3 = Kls3()\n",
    "\n",
    "for i in inst3:\n",
    "    print(i)\n",
    "    print('one again.')"
   ]
  },
  {
   "cell_type": "code",
   "execution_count": 3,
   "metadata": {},
   "outputs": [],
   "source": [
    "def test():\n",
    "    for i in range(10):\n",
    "        yield i"
   ]
  },
  {
   "cell_type": "code",
   "execution_count": 9,
   "metadata": {},
   "outputs": [],
   "source": [
    "a = test()"
   ]
  },
  {
   "cell_type": "code",
   "execution_count": 19,
   "metadata": {},
   "outputs": [
    {
     "data": {
      "text/plain": [
       "2"
      ]
     },
     "execution_count": 19,
     "metadata": {},
     "output_type": "execute_result"
    }
   ],
   "source": [
    "next(a)"
   ]
  },
  {
   "cell_type": "code",
   "execution_count": 18,
   "metadata": {},
   "outputs": [
    {
     "data": {
      "text/plain": [
       "1"
      ]
     },
     "execution_count": 18,
     "metadata": {},
     "output_type": "execute_result"
    }
   ],
   "source": [
    "l = [1,2,3,4]\n",
    "next(iter(l))"
   ]
  }
 ],
 "metadata": {
  "kernelspec": {
   "display_name": "Python 3",
   "language": "python",
   "name": "python3"
  },
  "language_info": {
   "codemirror_mode": {
    "name": "ipython",
    "version": 3
   },
   "file_extension": ".py",
   "mimetype": "text/x-python",
   "name": "python",
   "nbconvert_exporter": "python",
   "pygments_lexer": "ipython3",
   "version": "3.7.6"
  }
 },
 "nbformat": 4,
 "nbformat_minor": 4
}
