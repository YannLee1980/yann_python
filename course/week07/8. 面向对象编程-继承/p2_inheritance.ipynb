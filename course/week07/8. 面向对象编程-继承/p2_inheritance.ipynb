{
 "cells": [
  {
   "cell_type": "code",
   "execution_count": 2,
   "metadata": {},
   "outputs": [],
   "source": [
    "class People(object):\n",
    "    def __init__(self, name):\n",
    "        self.gene = 'XY'\n",
    "        self.name = name\n",
    "    def walk(self):\n",
    "        print('I can walk.')\n",
    "\n",
    "class Man(People):\n",
    "    def __init__(self, name):\n",
    "        super().__init__(name)\n",
    "    def work(self):\n",
    "        print('work hard.')\n",
    "class Woman(People):\n",
    "    def __init__(self, name):\n",
    "        super().__init__(name)\n",
    "    def shope(self):\n",
    "        print('buy, buy,buy')"
   ]
  },
  {
   "cell_type": "code",
   "execution_count": 3,
   "metadata": {},
   "outputs": [],
   "source": [
    "p1 = Man('Adam')\n",
    "p2 = Woman('Eve')"
   ]
  },
  {
   "cell_type": "code",
   "execution_count": 4,
   "metadata": {},
   "outputs": [
    {
     "data": {
      "text/plain": [
       "'XY'"
      ]
     },
     "execution_count": 4,
     "metadata": {},
     "output_type": "execute_result"
    }
   ],
   "source": [
    "p1.gene"
   ]
  },
  {
   "cell_type": "markdown",
   "metadata": {},
   "source": [
    "### object与type"
   ]
  },
  {
   "cell_type": "code",
   "execution_count": 7,
   "metadata": {},
   "outputs": [
    {
     "name": "stdout",
     "output_type": "stream",
     "text": [
      "object <class 'type'> None\n"
     ]
    }
   ],
   "source": [
    "print('object', object.__class__, object.__base__)"
   ]
  },
  {
   "cell_type": "code",
   "execution_count": 8,
   "metadata": {},
   "outputs": [
    {
     "name": "stdout",
     "output_type": "stream",
     "text": [
      "type <class 'type'> <class 'object'>\n"
     ]
    }
   ],
   "source": [
    "print('type', type.__class__, type.__base__)"
   ]
  },
  {
   "cell_type": "code",
   "execution_count": null,
   "metadata": {},
   "outputs": [],
   "source": []
  }
 ],
 "metadata": {
  "kernelspec": {
   "display_name": "Python 3",
   "language": "python",
   "name": "python3"
  },
  "language_info": {
   "codemirror_mode": {
    "name": "ipython",
    "version": 3
   },
   "file_extension": ".py",
   "mimetype": "text/x-python",
   "name": "python",
   "nbconvert_exporter": "python",
   "pygments_lexer": "ipython3",
   "version": "3.7.6"
  }
 },
 "nbformat": 4,
 "nbformat_minor": 4
}
