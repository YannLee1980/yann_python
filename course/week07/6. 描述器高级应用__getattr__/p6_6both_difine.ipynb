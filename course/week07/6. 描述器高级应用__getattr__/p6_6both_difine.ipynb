{
 "cells": [
  {
   "cell_type": "code",
   "execution_count": 4,
   "metadata": {},
   "outputs": [],
   "source": [
    "class Human2(object):    \n",
    "    \"\"\"\n",
    "    同时存在的调用顺序\n",
    "    \"\"\"\n",
    "    def __init__(self):\n",
    "        self.age = 18\n",
    "    \n",
    "    def __getattr__(self, item):\n",
    "        print('Human2: __getattr__')\n",
    "        return 'Err 404 你请求的参数不存在'\n",
    "    \n",
    "    def __getattribute__(self, item):\n",
    "        print('Human2:__getattribute__')\n",
    "        return super().__getattribute__(item)"
   ]
  },
  {
   "cell_type": "code",
   "execution_count": 5,
   "metadata": {},
   "outputs": [
    {
     "name": "stdout",
     "output_type": "stream",
     "text": [
      "Human2:__getattribute__\n"
     ]
    },
    {
     "data": {
      "text/plain": [
       "18"
      ]
     },
     "execution_count": 5,
     "metadata": {},
     "output_type": "execute_result"
    }
   ],
   "source": [
    "h = Human2()\n",
    "h.age"
   ]
  },
  {
   "cell_type": "code",
   "execution_count": 6,
   "metadata": {},
   "outputs": [
    {
     "name": "stdout",
     "output_type": "stream",
     "text": [
      "Human2:__getattribute__\n",
      "Human2: __getattr__\n"
     ]
    },
    {
     "data": {
      "text/plain": [
       "'Err 404 你请求的参数不存在'"
      ]
     },
     "execution_count": 6,
     "metadata": {},
     "output_type": "execute_result"
    }
   ],
   "source": [
    "h.noattr"
   ]
  },
  {
   "cell_type": "code",
   "execution_count": null,
   "metadata": {},
   "outputs": [],
   "source": []
  }
 ],
 "metadata": {
  "kernelspec": {
   "display_name": "Python 3",
   "language": "python",
   "name": "python3"
  },
  "language_info": {
   "codemirror_mode": {
    "name": "ipython",
    "version": 3
   },
   "file_extension": ".py",
   "mimetype": "text/x-python",
   "name": "python",
   "nbconvert_exporter": "python",
   "pygments_lexer": "ipython3",
   "version": "3.7.6"
  }
 },
 "nbformat": 4,
 "nbformat_minor": 4
}
