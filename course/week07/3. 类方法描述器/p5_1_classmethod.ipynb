{
 "cells": [
  {
   "cell_type": "markdown",
   "metadata": {},
   "source": [
    "### 让实例的方法成为类的方法"
   ]
  },
  {
   "cell_type": "code",
   "execution_count": 1,
   "metadata": {},
   "outputs": [],
   "source": [
    "class Kls1:\n",
    "    bar = 1\n",
    "    def foo(self):\n",
    "        print('in foo')\n",
    "    @classmethod\n",
    "    def class_foo(cls):\n",
    "        print(cls.bar)\n",
    "        print(cls.__name__)\n",
    "        cls().foo()"
   ]
  },
  {
   "cell_type": "code",
   "execution_count": 2,
   "metadata": {},
   "outputs": [
    {
     "name": "stdout",
     "output_type": "stream",
     "text": [
      "1\n",
      "Kls1\n",
      "in foo\n"
     ]
    }
   ],
   "source": [
    "Kls1.class_foo()"
   ]
  },
  {
   "cell_type": "markdown",
   "metadata": {},
   "source": [
    "#### 类或对象的绑定方法："
   ]
  },
  {
   "cell_type": "code",
   "execution_count": 6,
   "metadata": {},
   "outputs": [
    {
     "data": {
      "text/plain": [
       "<bound method Kls1.class_foo of <class '__main__.Kls1'>>"
      ]
     },
     "execution_count": 6,
     "metadata": {},
     "output_type": "execute_result"
    }
   ],
   "source": [
    "Kls1.class_foo"
   ]
  },
  {
   "cell_type": "code",
   "execution_count": 5,
   "metadata": {},
   "outputs": [
    {
     "data": {
      "text/plain": [
       "<bound method Kls1.class_foo of <class '__main__.Kls1'>>"
      ]
     },
     "execution_count": 5,
     "metadata": {},
     "output_type": "execute_result"
    }
   ],
   "source": [
    "k = Kls1()\n",
    "k.class_foo"
   ]
  },
  {
   "cell_type": "code",
   "execution_count": 7,
   "metadata": {},
   "outputs": [
    {
     "data": {
      "text/plain": [
       "<bound method Kls1.foo of <__main__.Kls1 object at 0x107228f10>>"
      ]
     },
     "execution_count": 7,
     "metadata": {},
     "output_type": "execute_result"
    }
   ],
   "source": [
    "k.foo"
   ]
  },
  {
   "cell_type": "markdown",
   "metadata": {},
   "source": [
    "#### 实例也可以调用类方法："
   ]
  },
  {
   "cell_type": "code",
   "execution_count": 8,
   "metadata": {},
   "outputs": [],
   "source": [
    "class Story:\n",
    "    snake = 'python'\n",
    "    def __init__(self, name):\n",
    "        self.name = name\n",
    "    @classmethod\n",
    "    def get_apple_to_eve(cls):\n",
    "        print(cls.snake)"
   ]
  },
  {
   "cell_type": "code",
   "execution_count": 9,
   "metadata": {},
   "outputs": [],
   "source": [
    "s = Story('anyone')"
   ]
  },
  {
   "cell_type": "code",
   "execution_count": 10,
   "metadata": {},
   "outputs": [
    {
     "data": {
      "text/plain": [
       "<bound method Story.get_apple_to_eve of <class '__main__.Story'>>"
      ]
     },
     "execution_count": 10,
     "metadata": {},
     "output_type": "execute_result"
    }
   ],
   "source": [
    "# get_apple_to_eve 是bound方法，查找顺序是先找s的__dict__是否有get_apple_to_eve,如果没有，查类Story\n",
    "s.get_apple_to_eve"
   ]
  },
  {
   "cell_type": "code",
   "execution_count": 11,
   "metadata": {},
   "outputs": [
    {
     "name": "stdout",
     "output_type": "stream",
     "text": [
      "python\n"
     ]
    }
   ],
   "source": [
    "s.get_apple_to_eve()"
   ]
  },
  {
   "cell_type": "code",
   "execution_count": 13,
   "metadata": {},
   "outputs": [
    {
     "name": "stdout",
     "output_type": "stream",
     "text": [
      "python\n"
     ]
    }
   ],
   "source": [
    "# 类和实例都可以使用\n",
    "Story.get_apple_to_eve()"
   ]
  },
  {
   "cell_type": "code",
   "execution_count": 14,
   "metadata": {},
   "outputs": [
    {
     "data": {
      "text/plain": [
       "{'name': 'anyone'}"
      ]
     },
     "execution_count": 14,
     "metadata": {},
     "output_type": "execute_result"
    }
   ],
   "source": [
    "s.__dict__"
   ]
  },
  {
   "cell_type": "code",
   "execution_count": 19,
   "metadata": {},
   "outputs": [
    {
     "data": {
      "text/plain": [
       "<bound method Story.get_apple_to_eve of <class '__main__.Story'>>"
      ]
     },
     "execution_count": 19,
     "metadata": {},
     "output_type": "execute_result"
    }
   ],
   "source": [
    "type(s).__dict__['get_apple_to_eve'].__get__(s, type(s))"
   ]
  },
  {
   "cell_type": "markdown",
   "metadata": {},
   "source": [
    "### @classmehtod起到构造函数的作用，可以这构造前提供预处理的作用"
   ]
  },
  {
   "cell_type": "markdown",
   "metadata": {},
   "source": [
    "#### V1.0"
   ]
  },
  {
   "cell_type": "code",
   "execution_count": 25,
   "metadata": {},
   "outputs": [],
   "source": [
    "class Kls2:\n",
    "    def __init__(self, fname, lname):\n",
    "        self.fname = fname\n",
    "        self.lname = lname\n",
    "    def print_name(self):\n",
    "        print(f'First Name is {self.fname}.')\n",
    "        print(f'Last Name is {self.lname}.')"
   ]
  },
  {
   "cell_type": "code",
   "execution_count": 26,
   "metadata": {},
   "outputs": [
    {
     "name": "stdout",
     "output_type": "stream",
     "text": [
      "First Name is Yann.\n",
      "Last Name is Li.\n"
     ]
    }
   ],
   "source": [
    "me = Kls2('Yann', 'Li')\n",
    "me.print_name()"
   ]
  },
  {
   "cell_type": "code",
   "execution_count": 27,
   "metadata": {},
   "outputs": [
    {
     "name": "stdout",
     "output_type": "stream",
     "text": [
      "First Name is Yann.\n",
      "Last Name is Li.\n"
     ]
    }
   ],
   "source": [
    "#增加 提前处理的函数,处理这种输入形式'Yann-Li'.\n",
    "def pre_name(object, name):\n",
    "    fname, lname = name.split('-')\n",
    "    return object(fname, lname)\n",
    "\n",
    "me2 = pre_name(Kls2, 'Yann-Li')\n",
    "me2.print_name()"
   ]
  },
  {
   "cell_type": "markdown",
   "metadata": {},
   "source": [
    "#### V2.0"
   ]
  },
  {
   "cell_type": "code",
   "execution_count": 30,
   "metadata": {},
   "outputs": [],
   "source": [
    "class Kls3:\n",
    "    def __init__(self, fname, lname):\n",
    "        self.fname = fname\n",
    "        self.lname = lname\n",
    "    def print_name(self):\n",
    "        print(f'First Name is {self.fname}.')\n",
    "        print(f'Last Name is {self.lname}.')\n",
    "        \n",
    "    @classmethod\n",
    "    def pre_name(cls, name):\n",
    "        fname = ''\n",
    "        lname = ''\n",
    "        if '-' in name:\n",
    "            fname, lname = name.split('-')\n",
    "        elif ',' in name:\n",
    "            fname, lname = name.split(',')\n",
    "        elif ' ' in name:\n",
    "            fname, lname = name.split(' ')\n",
    "        else:\n",
    "            fname = name\n",
    "        return cls(fname, lname)"
   ]
  },
  {
   "cell_type": "code",
   "execution_count": 31,
   "metadata": {},
   "outputs": [
    {
     "name": "stdout",
     "output_type": "stream",
     "text": [
      "First Name is Yann.\n",
      "Last Name is Li.\n"
     ]
    }
   ],
   "source": [
    "me3 = Kls3.pre_name('Yann-Li')\n",
    "me3.print_name()"
   ]
  },
  {
   "cell_type": "code",
   "execution_count": 34,
   "metadata": {},
   "outputs": [
    {
     "name": "stdout",
     "output_type": "stream",
     "text": [
      "First Name is Yann.\n",
      "Last Name is Li.\n"
     ]
    }
   ],
   "source": [
    "me4 = Kls3.pre_name('Yann,Li')\n",
    "me4.print_name()"
   ]
  },
  {
   "cell_type": "code",
   "execution_count": 35,
   "metadata": {},
   "outputs": [
    {
     "name": "stdout",
     "output_type": "stream",
     "text": [
      "First Name is Yann.\n",
      "Last Name is Li.\n"
     ]
    }
   ],
   "source": [
    "me5 = Kls3.pre_name('Yann Li')\n",
    "me5.print_name()"
   ]
  },
  {
   "cell_type": "code",
   "execution_count": 36,
   "metadata": {},
   "outputs": [
    {
     "name": "stdout",
     "output_type": "stream",
     "text": [
      "First Name is YannLi.\n",
      "Last Name is .\n"
     ]
    }
   ],
   "source": [
    "me6 = Kls3.pre_name('YannLi')\n",
    "me6.print_name()"
   ]
  },
  {
   "cell_type": "markdown",
   "metadata": {},
   "source": [
    "* 类方法用在模拟java定义多个构造函数的情况。\n",
    "* 由于python类中只能有一个初始化方法，不能按照不同的情况初始化类。"
   ]
  },
  {
   "cell_type": "code",
   "execution_count": 37,
   "metadata": {},
   "outputs": [
    {
     "name": "stdout",
     "output_type": "stream",
     "text": [
      "python\n",
      "python and django\n"
     ]
    }
   ],
   "source": [
    "class Book(object):\n",
    "\n",
    "    def __init__(self, title):\n",
    "        self.title = title\n",
    "\n",
    "    @classmethod\n",
    "    def create(cls, title):\n",
    "        book = cls(title=title)\n",
    "        return book\n",
    "\n",
    "book1 = Book(\"python\")\n",
    "book2 = Book.create(\"python and django\")\n",
    "print(book1.title)\n",
    "print(book2.title)"
   ]
  },
  {
   "cell_type": "markdown",
   "metadata": {},
   "source": [
    "### 父类定义@classmethod，子类就可以和这个classmethod绑定了"
   ]
  },
  {
   "cell_type": "code",
   "execution_count": 46,
   "metadata": {},
   "outputs": [],
   "source": [
    "class Fruit:\n",
    "    total = 0\n",
    "    \n",
    "    @classmethod\n",
    "    def print_total(cls):\n",
    "        print(cls.total)\n",
    "        print(id(Fruit.total))\n",
    "        print(id(cls.total))\n",
    "    \n",
    "    @classmethod\n",
    "    def set(cls, value):\n",
    "        print(f'Calling {cls}, {value}.')\n",
    "        cls.total = value\n",
    "\n",
    "class Apple(Fruit):\n",
    "    pass\n",
    "\n",
    "class Orange(Fruit):\n",
    "    pass"
   ]
  },
  {
   "cell_type": "code",
   "execution_count": 47,
   "metadata": {},
   "outputs": [
    {
     "name": "stdout",
     "output_type": "stream",
     "text": [
      "Calling <class '__main__.Apple'>, 100.\n"
     ]
    }
   ],
   "source": [
    "Apple.set(100)"
   ]
  },
  {
   "cell_type": "code",
   "execution_count": 48,
   "metadata": {},
   "outputs": [
    {
     "name": "stdout",
     "output_type": "stream",
     "text": [
      "Calling <class '__main__.Orange'>, 200.\n"
     ]
    }
   ],
   "source": [
    "Orange.set(200)"
   ]
  },
  {
   "cell_type": "code",
   "execution_count": 49,
   "metadata": {},
   "outputs": [
    {
     "name": "stdout",
     "output_type": "stream",
     "text": [
      "100\n",
      "4335932512\n",
      "4335935712\n"
     ]
    }
   ],
   "source": [
    "Apple.print_total()"
   ]
  },
  {
   "cell_type": "code",
   "execution_count": 50,
   "metadata": {},
   "outputs": [
    {
     "name": "stdout",
     "output_type": "stream",
     "text": [
      "200\n",
      "4335932512\n",
      "4335938912\n"
     ]
    }
   ],
   "source": [
    "Orange.print_total()"
   ]
  },
  {
   "cell_type": "code",
   "execution_count": 51,
   "metadata": {},
   "outputs": [
    {
     "name": "stdout",
     "output_type": "stream",
     "text": [
      "Calling <class '__main__.Orange'>, 300.\n"
     ]
    }
   ],
   "source": [
    "o = Orange()\n",
    "o.set(300)"
   ]
  },
  {
   "cell_type": "code",
   "execution_count": 52,
   "metadata": {},
   "outputs": [
    {
     "name": "stdout",
     "output_type": "stream",
     "text": [
      "300\n",
      "4335932512\n",
      "4416611536\n"
     ]
    }
   ],
   "source": [
    "o.print_total()"
   ]
  },
  {
   "cell_type": "code",
   "execution_count": 53,
   "metadata": {},
   "outputs": [
    {
     "data": {
      "text/plain": [
       "{}"
      ]
     },
     "execution_count": 53,
     "metadata": {},
     "output_type": "execute_result"
    }
   ],
   "source": [
    "o.__dict__"
   ]
  },
  {
   "cell_type": "code",
   "execution_count": 56,
   "metadata": {},
   "outputs": [
    {
     "name": "stdout",
     "output_type": "stream",
     "text": [
      "300\n",
      "4335932512\n",
      "4416611536\n"
     ]
    }
   ],
   "source": [
    "Orange.print_total()"
   ]
  },
  {
   "cell_type": "code",
   "execution_count": 57,
   "metadata": {},
   "outputs": [],
   "source": [
    "## 注意静态字段和对象字段的区别：\n",
    "o.total = 999 ##此时为对象o添加自己的total字段，有别与Orange类的total."
   ]
  },
  {
   "cell_type": "code",
   "execution_count": 58,
   "metadata": {},
   "outputs": [
    {
     "data": {
      "text/plain": [
       "{'total': 999}"
      ]
     },
     "execution_count": 58,
     "metadata": {},
     "output_type": "execute_result"
    }
   ],
   "source": [
    "o.__dict__"
   ]
  },
  {
   "cell_type": "code",
   "execution_count": 59,
   "metadata": {},
   "outputs": [
    {
     "name": "stdout",
     "output_type": "stream",
     "text": [
      "300\n",
      "4335932512\n",
      "4416611536\n"
     ]
    }
   ],
   "source": [
    "o.print_total()"
   ]
  },
  {
   "cell_type": "code",
   "execution_count": 61,
   "metadata": {},
   "outputs": [
    {
     "data": {
      "text/plain": [
       "4416612016"
      ]
     },
     "execution_count": 61,
     "metadata": {},
     "output_type": "execute_result"
    }
   ],
   "source": [
    "id(o.total)"
   ]
  },
  {
   "cell_type": "code",
   "execution_count": null,
   "metadata": {},
   "outputs": [],
   "source": []
  }
 ],
 "metadata": {
  "kernelspec": {
   "display_name": "Python 3",
   "language": "python",
   "name": "python3"
  },
  "language_info": {
   "codemirror_mode": {
    "name": "ipython",
    "version": 3
   },
   "file_extension": ".py",
   "mimetype": "text/x-python",
   "name": "python",
   "nbconvert_exporter": "python",
   "pygments_lexer": "ipython3",
   "version": "3.7.6"
  }
 },
 "nbformat": 4,
 "nbformat_minor": 4
}
