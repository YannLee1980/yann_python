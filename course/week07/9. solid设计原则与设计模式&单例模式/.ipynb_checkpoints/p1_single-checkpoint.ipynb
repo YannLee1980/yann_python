{
 "cells": [
  {
   "cell_type": "markdown",
   "metadata": {},
   "source": [
    "### 1.装饰器实现单实例模式"
   ]
  },
  {
   "cell_type": "code",
   "execution_count": 22,
   "metadata": {},
   "outputs": [],
   "source": [
    "def singleton(cls):\n",
    "    instance = {}\n",
    "    def getinstance():\n",
    "        if cls not in instance:\n",
    "            instance[cls] = cls()\n",
    "        print(instance)\n",
    "        return instance[cls]\n",
    "    return getinstance\n",
    "\n",
    "@singleton\n",
    "class MyClass1(object):\n",
    "    pass\n",
    "\n",
    "@singleton\n",
    "class MyClass2(object):\n",
    "    pass"
   ]
  },
  {
   "cell_type": "markdown",
   "metadata": {},
   "source": [
    "* 验证def singleton() 中的instance的可见范围\n",
    "* MyClass1 、MyClass2 有各自的instance；\n",
    "* m3创建时，回到MyClass1的可见范围里。"
   ]
  },
  {
   "cell_type": "code",
   "execution_count": 27,
   "metadata": {},
   "outputs": [
    {
     "name": "stdout",
     "output_type": "stream",
     "text": [
      "{<class '__main__.MyClass1'>: <__main__.MyClass1 object at 0x1031a1750>}\n"
     ]
    }
   ],
   "source": [
    "m1 = MyClass1()"
   ]
  },
  {
   "cell_type": "code",
   "execution_count": 28,
   "metadata": {},
   "outputs": [
    {
     "name": "stdout",
     "output_type": "stream",
     "text": [
      "{<class '__main__.MyClass2'>: <__main__.MyClass2 object at 0x103161f10>}\n"
     ]
    }
   ],
   "source": [
    "m2 = MyClass2()"
   ]
  },
  {
   "cell_type": "code",
   "execution_count": 29,
   "metadata": {},
   "outputs": [
    {
     "name": "stdout",
     "output_type": "stream",
     "text": [
      "{<class '__main__.MyClass1'>: <__main__.MyClass1 object at 0x1031a1750>}\n"
     ]
    }
   ],
   "source": [
    "m3 = MyClass1()"
   ]
  },
  {
   "cell_type": "markdown",
   "metadata": {},
   "source": [
    "### `__new__` 与 `__init__` 的关系"
   ]
  },
  {
   "cell_type": "code",
   "execution_count": 89,
   "metadata": {},
   "outputs": [],
   "source": [
    "class Foo(object):\n",
    "    def __new__(cls, name):\n",
    "        print(f'Trace __new__({cls})')\n",
    "        return super().__new__(cls)\n",
    "    \n",
    "    def __init__(self, name):\n",
    "        super().__init__()\n",
    "        print(f'Trace __init__({self})')\n",
    "        self.name = name"
   ]
  },
  {
   "cell_type": "code",
   "execution_count": 90,
   "metadata": {},
   "outputs": [
    {
     "name": "stdout",
     "output_type": "stream",
     "text": [
      "Trace __new__(<class '__main__.Foo'>)\n",
      "Trace __init__(<__main__.Foo object at 0x1031b0e10>)\n"
     ]
    }
   ],
   "source": [
    "bar = Foo('test')"
   ]
  },
  {
   "cell_type": "code",
   "execution_count": 95,
   "metadata": {},
   "outputs": [
    {
     "name": "stdout",
     "output_type": "stream",
     "text": [
      "Trace __new__(<class '__main__.Foo'>)\n"
     ]
    },
    {
     "data": {
      "text/plain": [
       "<__main__.Foo at 0x1031d58d0>"
      ]
     },
     "execution_count": 95,
     "metadata": {},
     "output_type": "execute_result"
    }
   ],
   "source": [
    "#相对于下面，分开操作：\n",
    "bar = Foo.__new__(Foo, 'test')\n",
    "bar"
   ]
  },
  {
   "cell_type": "code",
   "execution_count": 96,
   "metadata": {},
   "outputs": [
    {
     "name": "stdout",
     "output_type": "stream",
     "text": [
      "Trace __init__(<__main__.Foo object at 0x1031d58d0>)\n"
     ]
    }
   ],
   "source": [
    "if isinstance(bar, Foo):\n",
    "    Foo.__init__(bar, 'abc')"
   ]
  },
  {
   "cell_type": "code",
   "execution_count": 97,
   "metadata": {},
   "outputs": [
    {
     "data": {
      "text/plain": [
       "'abc'"
      ]
     },
     "execution_count": 97,
     "metadata": {},
     "output_type": "execute_result"
    }
   ],
   "source": [
    "bar.name"
   ]
  },
  {
   "cell_type": "markdown",
   "metadata": {},
   "source": [
    "### 2.用`__new()__`实现单实例模式："
   ]
  },
  {
   "cell_type": "code",
   "execution_count": 107,
   "metadata": {},
   "outputs": [],
   "source": [
    "class Singleton2(object):\n",
    "    _isinstance = False\n",
    "    def __new__(cls):\n",
    "        if cls._isinstance:\n",
    "            return cls._isinstance\n",
    "        cls._isinstance = super().__new__(cls)\n",
    "        return cls._isinstance"
   ]
  },
  {
   "cell_type": "code",
   "execution_count": 108,
   "metadata": {},
   "outputs": [
    {
     "data": {
      "text/plain": [
       "(4347047056, 4347047056)"
      ]
     },
     "execution_count": 108,
     "metadata": {},
     "output_type": "execute_result"
    }
   ],
   "source": [
    "s1 = Singleton2()\n",
    "s2 = Singleton2()\n",
    "id(s1), id(s2)"
   ]
  },
  {
   "cell_type": "markdown",
   "metadata": {},
   "source": [
    "## 描述器只能位于类的属性位置，不能位于对象属性，调用时只能是该类的对象进行调用，不能该类直接调用。"
   ]
  },
  {
   "cell_type": "code",
   "execution_count": 122,
   "metadata": {},
   "outputs": [],
   "source": [
    "class B:\n",
    "    pass\n",
    "class A:\n",
    "    b = B()"
   ]
  },
  {
   "cell_type": "code",
   "execution_count": 123,
   "metadata": {},
   "outputs": [
    {
     "data": {
      "text/plain": [
       "mappingproxy({'__module__': '__main__',\n",
       "              'b': <__main__.B at 0x1056ecfd0>,\n",
       "              '__dict__': <attribute '__dict__' of 'A' objects>,\n",
       "              '__weakref__': <attribute '__weakref__' of 'A' objects>,\n",
       "              '__doc__': None})"
      ]
     },
     "execution_count": 123,
     "metadata": {},
     "output_type": "execute_result"
    }
   ],
   "source": [
    "A.__dict__"
   ]
  },
  {
   "cell_type": "code",
   "execution_count": 124,
   "metadata": {},
   "outputs": [
    {
     "data": {
      "text/plain": [
       "mappingproxy({'__module__': '__main__',\n",
       "              'b': 2,\n",
       "              '__dict__': <attribute '__dict__' of 'A' objects>,\n",
       "              '__weakref__': <attribute '__weakref__' of 'A' objects>,\n",
       "              '__doc__': None})"
      ]
     },
     "execution_count": 124,
     "metadata": {},
     "output_type": "execute_result"
    }
   ],
   "source": [
    "A.b = 2\n",
    "A.__dict__"
   ]
  },
  {
   "cell_type": "code",
   "execution_count": 116,
   "metadata": {},
   "outputs": [
    {
     "data": {
      "text/plain": [
       "{'b': 2}"
      ]
     },
     "execution_count": 116,
     "metadata": {},
     "output_type": "execute_result"
    }
   ],
   "source": [
    "aa = A()\n",
    "aa.__dict__"
   ]
  },
  {
   "cell_type": "code",
   "execution_count": 117,
   "metadata": {},
   "outputs": [
    {
     "data": {
      "text/plain": [
       "mappingproxy({'__module__': '__main__',\n",
       "              'b': <__main__.B at 0x102f9c910>,\n",
       "              '__dict__': <attribute '__dict__' of 'A' objects>,\n",
       "              '__weakref__': <attribute '__weakref__' of 'A' objects>,\n",
       "              '__doc__': None})"
      ]
     },
     "execution_count": 117,
     "metadata": {},
     "output_type": "execute_result"
    }
   ],
   "source": [
    "A.__dict__"
   ]
  },
  {
   "cell_type": "code",
   "execution_count": null,
   "metadata": {},
   "outputs": [],
   "source": []
  }
 ],
 "metadata": {
  "kernelspec": {
   "display_name": "Python 3",
   "language": "python",
   "name": "python3"
  },
  "language_info": {
   "codemirror_mode": {
    "name": "ipython",
    "version": 3
   },
   "file_extension": ".py",
   "mimetype": "text/x-python",
   "name": "python",
   "nbconvert_exporter": "python",
   "pygments_lexer": "ipython3",
   "version": "3.7.6"
  }
 },
 "nbformat": 4,
 "nbformat_minor": 4
}
