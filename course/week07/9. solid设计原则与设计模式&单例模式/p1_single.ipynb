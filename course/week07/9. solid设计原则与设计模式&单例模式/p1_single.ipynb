{
 "cells": [
  {
   "cell_type": "markdown",
   "metadata": {},
   "source": [
    "### 1.装饰器实现单实例模式"
   ]
  },
  {
   "cell_type": "code",
   "execution_count": 22,
   "metadata": {},
   "outputs": [],
   "source": [
    "def singleton(cls):\n",
    "    instance = {}\n",
    "    def getinstance():\n",
    "        if cls not in instance:\n",
    "            instance[cls] = cls()\n",
    "        print(instance)\n",
    "        return instance[cls]\n",
    "    return getinstance\n",
    "\n",
    "@singleton\n",
    "class MyClass1(object):\n",
    "    pass\n",
    "\n",
    "@singleton\n",
    "class MyClass2(object):\n",
    "    pass"
   ]
  },
  {
   "cell_type": "markdown",
   "metadata": {},
   "source": [
    "* 验证def singleton() 中的instance的可见范围\n",
    "* MyClass1 、MyClass2 有各自的instance；\n",
    "* m3创建时，回到MyClass1的可见范围里。"
   ]
  },
  {
   "cell_type": "code",
   "execution_count": 27,
   "metadata": {},
   "outputs": [
    {
     "name": "stdout",
     "output_type": "stream",
     "text": [
      "{<class '__main__.MyClass1'>: <__main__.MyClass1 object at 0x1031a1750>}\n"
     ]
    }
   ],
   "source": [
    "m1 = MyClass1()"
   ]
  },
  {
   "cell_type": "code",
   "execution_count": 28,
   "metadata": {},
   "outputs": [
    {
     "name": "stdout",
     "output_type": "stream",
     "text": [
      "{<class '__main__.MyClass2'>: <__main__.MyClass2 object at 0x103161f10>}\n"
     ]
    }
   ],
   "source": [
    "m2 = MyClass2()"
   ]
  },
  {
   "cell_type": "code",
   "execution_count": 29,
   "metadata": {},
   "outputs": [
    {
     "name": "stdout",
     "output_type": "stream",
     "text": [
      "{<class '__main__.MyClass1'>: <__main__.MyClass1 object at 0x1031a1750>}\n"
     ]
    }
   ],
   "source": [
    "m3 = MyClass1()"
   ]
  },
  {
   "cell_type": "markdown",
   "metadata": {},
   "source": [
    "### `__new__` 与 `__init__` 的关系"
   ]
  },
  {
   "cell_type": "code",
   "execution_count": 89,
   "metadata": {},
   "outputs": [],
   "source": [
    "class Foo(object):\n",
    "    def __new__(cls, name):\n",
    "        print(f'Trace __new__({cls})')\n",
    "        return super().__new__(cls)\n",
    "    \n",
    "    def __init__(self, name):\n",
    "        super().__init__()\n",
    "        print(f'Trace __init__({self})')\n",
    "        self.name = name"
   ]
  },
  {
   "cell_type": "code",
   "execution_count": 90,
   "metadata": {},
   "outputs": [
    {
     "name": "stdout",
     "output_type": "stream",
     "text": [
      "Trace __new__(<class '__main__.Foo'>)\n",
      "Trace __init__(<__main__.Foo object at 0x1031b0e10>)\n"
     ]
    }
   ],
   "source": [
    "bar = Foo('test')"
   ]
  },
  {
   "cell_type": "code",
   "execution_count": 95,
   "metadata": {},
   "outputs": [
    {
     "name": "stdout",
     "output_type": "stream",
     "text": [
      "Trace __new__(<class '__main__.Foo'>)\n"
     ]
    },
    {
     "data": {
      "text/plain": [
       "<__main__.Foo at 0x1031d58d0>"
      ]
     },
     "execution_count": 95,
     "metadata": {},
     "output_type": "execute_result"
    }
   ],
   "source": [
    "#相对于下面，分开操作：\n",
    "bar = Foo.__new__(Foo, 'test')\n",
    "bar"
   ]
  },
  {
   "cell_type": "code",
   "execution_count": 96,
   "metadata": {},
   "outputs": [
    {
     "name": "stdout",
     "output_type": "stream",
     "text": [
      "Trace __init__(<__main__.Foo object at 0x1031d58d0>)\n"
     ]
    }
   ],
   "source": [
    "if isinstance(bar, Foo):\n",
    "    Foo.__init__(bar, 'abc')"
   ]
  },
  {
   "cell_type": "code",
   "execution_count": 97,
   "metadata": {},
   "outputs": [
    {
     "data": {
      "text/plain": [
       "'abc'"
      ]
     },
     "execution_count": 97,
     "metadata": {},
     "output_type": "execute_result"
    }
   ],
   "source": [
    "bar.nae"
   ]
  },
  {
   "cell_type": "markdown",
   "metadata": {},
   "source": [
    "### 2.用`__new()__`实现单实例模式："
   ]
  },
  {
   "cell_type": "code",
   "execution_count": 107,
   "metadata": {},
   "outputs": [],
   "source": [
    "class Singleton2(object):\n",
    "    _isinstance = False\n",
    "    def __new__(cls):\n",
    "        if cls._isinstance:\n",
    "            return cls._isinstance\n",
    "        cls._isinstance = super().__new__(cls)\n",
    "        return cls._isinstance"
   ]
  },
  {
   "cell_type": "code",
   "execution_count": 108,
   "metadata": {},
   "outputs": [
    {
     "data": {
      "text/plain": [
       "(4347047056, 4347047056)"
      ]
     },
     "execution_count": 108,
     "metadata": {},
     "output_type": "execute_result"
    }
   ],
   "source": [
    "s1 = Singleton2()\n",
    "s2 = Singleton2()\n",
    "id(s1), id(s2)"
   ]
  },
  {
   "cell_type": "markdown",
   "metadata": {},
   "source": [
    "## 解决并发，引入带锁版"
   ]
  },
  {
   "cell_type": "code",
   "execution_count": 135,
   "metadata": {},
   "outputs": [],
   "source": [
    "import threading"
   ]
  },
  {
   "cell_type": "code",
   "execution_count": 142,
   "metadata": {},
   "outputs": [],
   "source": [
    "class Singleton3(object):\n",
    "    objs = {}\n",
    "    objs_locker = threading.Lock()\n",
    "    def __new__(cls, *args, **kwargs):\n",
    "        if cls in cls.objs:\n",
    "            return cls.objs[cls]\n",
    "        cls.objs_locker.acquire()\n",
    "        try:\n",
    "            if cls in cls.objs:  ##duble checking\n",
    "                return cls.objs[cls]\n",
    "            cls.objs[cls] = object.__new__(cls)\n",
    "        finally:\n",
    "            cls.objs_locker.release()"
   ]
  },
  {
   "cell_type": "code",
   "execution_count": 143,
   "metadata": {},
   "outputs": [],
   "source": [
    "s1 = Singleton3()\n",
    "s2 = Singleton3()"
   ]
  },
  {
   "cell_type": "code",
   "execution_count": 144,
   "metadata": {},
   "outputs": [
    {
     "data": {
      "text/plain": [
       "(4304996456, 4390082896)"
      ]
     },
     "execution_count": 144,
     "metadata": {},
     "output_type": "execute_result"
    }
   ],
   "source": [
    "id(s1), id(s2)"
   ]
  },
  {
   "cell_type": "code",
   "execution_count": null,
   "metadata": {},
   "outputs": [],
   "source": []
  },
  {
   "cell_type": "code",
   "execution_count": 145,
   "metadata": {},
   "outputs": [],
   "source": [
    "import threading\n",
    "class Singleton(object):\n",
    "    objs = {}\n",
    "    objs_locker = threading.Lock()\n",
    "    def __new__(cls, *args, **kargs):\n",
    "        if cls in cls.objs:\n",
    "            return cls.objs[cls]\n",
    "        cls.objs_locker.acquire()\n",
    "        try:\n",
    "            if cls in cls.objs: ## double check locking\n",
    "                return cls.objs[cls]\n",
    "            cls.objs[cls] = object.__new__(cls)\n",
    "        finally:\n",
    "            cls.objs_locker.release()"
   ]
  },
  {
   "cell_type": "code",
   "execution_count": 146,
   "metadata": {},
   "outputs": [],
   "source": [
    "s1 = Singleton()\n",
    "s2 = Singleton()"
   ]
  },
  {
   "cell_type": "code",
   "execution_count": 147,
   "metadata": {},
   "outputs": [
    {
     "data": {
      "text/plain": [
       "(4304996456, 4414431504)"
      ]
     },
     "execution_count": 147,
     "metadata": {},
     "output_type": "execute_result"
    }
   ],
   "source": [
    "id(s1), id(s2)"
   ]
  },
  {
   "cell_type": "code",
   "execution_count": null,
   "metadata": {},
   "outputs": [],
   "source": []
  }
 ],
 "metadata": {
  "kernelspec": {
   "display_name": "Python 3",
   "language": "python",
   "name": "python3"
  },
  "language_info": {
   "codemirror_mode": {
    "name": "ipython",
    "version": 3
   },
   "file_extension": ".py",
   "mimetype": "text/x-python",
   "name": "python",
   "nbconvert_exporter": "python",
   "pygments_lexer": "ipython3",
   "version": "3.7.6"
  }
 },
 "nbformat": 4,
 "nbformat_minor": 4
}
